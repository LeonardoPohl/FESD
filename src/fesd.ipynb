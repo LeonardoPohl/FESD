{
 "cells": [
  {
   "attachments": {},
   "cell_type": "markdown",
   "metadata": {},
   "source": [
    "# FESD - Feature Estimation for Skeleton Detection\n",
    "\n",
    "This notebook contains the code for the data analysis and training and testing part of the fault estimation for skeleton detection. The data was recorded using the FESD project in this directory."
   ]
  },
  {
   "attachments": {},
   "cell_type": "markdown",
   "metadata": {},
   "source": [
    "---\n",
    "## Import dependencies"
   ]
  },
  {
   "cell_type": "code",
   "execution_count": 1,
   "metadata": {},
   "outputs": [
    {
     "name": "stdout",
     "output_type": "stream",
     "text": [
      "Collecting contourpy==1.0.6\n",
      "  Using cached contourpy-1.0.6-cp39-cp39-win_amd64.whl (161 kB)\n",
      "Collecting cycler==0.11.0\n",
      "  Using cached cycler-0.11.0-py3-none-any.whl (6.4 kB)\n",
      "Collecting fonttools==4.38.0\n",
      "  Using cached fonttools-4.38.0-py3-none-any.whl (965 kB)\n",
      "Collecting kiwisolver==1.4.4\n",
      "  Using cached kiwisolver-1.4.4-cp39-cp39-win_amd64.whl (55 kB)\n",
      "Collecting matplotlib==3.6.2\n",
      "  Using cached matplotlib-3.6.2-cp39-cp39-win_amd64.whl (7.2 MB)\n",
      "Requirement already satisfied: numpy==1.24.1 in c:\\users\\pohly\\appdata\\local\\packages\\pythonsoftwarefoundation.python.3.9_qbz5n2kfra8p0\\localcache\\local-packages\\python39\\site-packages (from -r requirements.txt (line 6)) (1.24.1)\n",
      "Requirement already satisfied: opencv-python==4.6.0.66 in c:\\users\\pohly\\appdata\\local\\packages\\pythonsoftwarefoundation.python.3.9_qbz5n2kfra8p0\\localcache\\local-packages\\python39\\site-packages (from -r requirements.txt (line 7)) (4.6.0.66)\n",
      "Collecting opencv-python-headless==4.6.0.66\n",
      "  Using cached opencv_python_headless-4.6.0.66-cp36-abi3-win_amd64.whl (35.5 MB)\n",
      "Collecting openni==2.3.0\n",
      "  Using cached openni-2.3.0.tar.gz (37 kB)\n",
      "  Preparing metadata (setup.py): started\n",
      "  Preparing metadata (setup.py): finished with status 'done'\n",
      "Collecting packaging==22.0\n",
      "  Using cached packaging-22.0-py3-none-any.whl (42 kB)\n",
      "Collecting pandas==1.5.2\n",
      "  Using cached pandas-1.5.2-cp39-cp39-win_amd64.whl (10.9 MB)\n",
      "Collecting Pillow==9.3.0\n",
      "  Using cached Pillow-9.3.0-cp39-cp39-win_amd64.whl (2.5 MB)\n",
      "Requirement already satisfied: pyparsing==3.0.9 in c:\\users\\pohly\\appdata\\local\\packages\\pythonsoftwarefoundation.python.3.9_qbz5n2kfra8p0\\localcache\\local-packages\\python39\\site-packages (from -r requirements.txt (line 13)) (3.0.9)\n",
      "Collecting pyrealsense2==2.53.1.4623\n",
      "  Using cached pyrealsense2-2.53.1.4623-cp39-cp39-win_amd64.whl (12.9 MB)\n",
      "Requirement already satisfied: python-dateutil==2.8.2 in c:\\users\\pohly\\appdata\\local\\packages\\pythonsoftwarefoundation.python.3.9_qbz5n2kfra8p0\\localcache\\local-packages\\python39\\site-packages (from -r requirements.txt (line 15)) (2.8.2)\n",
      "Collecting pytz==2022.7\n",
      "  Using cached pytz-2022.7-py2.py3-none-any.whl (499 kB)\n",
      "Collecting seaborn==0.12.1\n",
      "  Using cached seaborn-0.12.1-py3-none-any.whl (288 kB)\n",
      "Collecting six==1.16.0\n",
      "  Using cached six-1.16.0-py2.py3-none-any.whl (11 kB)\n",
      "Using legacy 'setup.py install' for openni, since package 'wheel' is not installed.\n",
      "Installing collected packages: pytz, pyrealsense2, openni, six, Pillow, packaging, opencv-python-headless, kiwisolver, fonttools, cycler, contourpy, pandas, matplotlib, seaborn\n",
      "  Running setup.py install for openni: started\n",
      "  Running setup.py install for openni: finished with status 'done'\n",
      "  Attempting uninstall: six\n",
      "    Found existing installation: six 1.15.0\n",
      "    Uninstalling six-1.15.0:\n",
      "      Successfully uninstalled six-1.15.0\n",
      "  Attempting uninstall: packaging\n",
      "    Found existing installation: packaging 21.3\n",
      "    Uninstalling packaging-21.3:\n",
      "      Successfully uninstalled packaging-21.3\n",
      "  Attempting uninstall: kiwisolver\n",
      "    Found existing installation: kiwisolver 1.3.1\n",
      "    Uninstalling kiwisolver-1.3.1:\n",
      "      Successfully uninstalled kiwisolver-1.3.1\n",
      "  Attempting uninstall: cycler\n",
      "    Found existing installation: cycler 0.10.0\n",
      "    Uninstalling cycler-0.10.0:\n",
      "      Successfully uninstalled cycler-0.10.0\n",
      "Successfully installed Pillow-9.3.0 contourpy-1.0.6 cycler-0.11.0 fonttools-4.38.0 kiwisolver-1.4.4 matplotlib-3.6.2 opencv-python-headless-4.6.0.66 openni-2.3.0 packaging-22.0 pandas-1.5.2 pyrealsense2-2.53.1.4623 pytz-2022.7 seaborn-0.12.1 six-1.16.0\n"
     ]
    },
    {
     "name": "stderr",
     "output_type": "stream",
     "text": [
      "  WARNING: The scripts fonttools.exe, pyftmerge.exe, pyftsubset.exe and ttx.exe are installed in 'C:\\Users\\pohly\\AppData\\Local\\Packages\\PythonSoftwareFoundation.Python.3.9_qbz5n2kfra8p0\\LocalCache\\local-packages\\Python39\\Scripts' which is not on PATH.\n",
      "  Consider adding this directory to PATH or, if you prefer to suppress this warning, use --no-warn-script-location.\n",
      "WARNING: You are using pip version 22.0.4; however, version 22.3.1 is available.\n",
      "You should consider upgrading via the 'C:\\Users\\pohly\\AppData\\Local\\Microsoft\\WindowsApps\\PythonSoftwareFoundation.Python.3.9_qbz5n2kfra8p0\\python.exe -m pip install --upgrade pip' command.\n"
     ]
    }
   ],
   "source": [
    "!pip install -r requirements.txt"
   ]
  },
  {
   "cell_type": "code",
   "execution_count": 2,
   "metadata": {},
   "outputs": [],
   "source": [
    "import numpy as np\n",
    "import pandas as pd\n",
    "import matplotlib.pyplot as plt\n",
    "import os\n",
    "import seaborn as sns\n",
    "import json\n",
    "import cv2\n",
    "import pyrealsense2 as rs\n",
    "from openni import openni2\n",
    "\n",
    "sns.set()"
   ]
  },
  {
   "attachments": {},
   "cell_type": "markdown",
   "metadata": {},
   "source": [
    "---\n",
    "## Collect recording sessions"
   ]
  },
  {
   "cell_type": "code",
   "execution_count": 8,
   "metadata": {},
   "outputs": [
    {
     "name": "stdout",
     "output_type": "stream",
     "text": [
      "Session_2022-12-19T10.47.11\n",
      "Session_2022-12-19T11.03.37\n",
      "Session_2022-12-20T10.32.54\n",
      "Session_2022-12-20T11.02.31\n",
      "Session_2022-12-20T21.33.42\n",
      "Session_2022-12-20T23.02.58\n",
      "Session_2022-12-21T17.32.24\n",
      "Session_2022-12-21T17.36.30\n",
      "Session_2022-12-26T10.55.29\n",
      "Session_2022-12-26T11.14.48\n"
     ]
    }
   ],
   "source": [
    "rec_path = 'H:\\Recordings'\n",
    "sessions = []\n",
    "\n",
    "for rec in os.listdir(rec_path):\n",
    "    if rec.endswith('.json'):\n",
    "        sessions.append(rec)\n",
    "        print(rec[:-5])"
   ]
  },
  {
   "cell_type": "code",
   "execution_count": 15,
   "metadata": {},
   "outputs": [],
   "source": [
    "rs_sessions = []\n",
    "orbbec_sessions = []\n",
    "\n",
    "for session in sessions:\n",
    "    with open(os.path.join(rec_path, session)) as f:\n",
    "        data = json.load(f)\n",
    "        for cam in data['Cameras']:\n",
    "          if cam['Type'] == 'Realsense':\n",
    "            rs_sessions.append(cam['FileName'])\n",
    "          elif cam['Type'] == 'Orbbec':\n",
    "            orbbec_sessions.append(cam['FileName'])"
   ]
  },
  {
   "cell_type": "code",
   "execution_count": 19,
   "metadata": {},
   "outputs": [
    {
     "ename": "RuntimeError",
     "evalue": "try_wait_for_frames cannot be called if a callback was provided",
     "output_type": "error",
     "traceback": [
      "\u001b[1;31m---------------------------------------------------------------------------\u001b[0m",
      "\u001b[1;31mRuntimeError\u001b[0m                              Traceback (most recent call last)",
      "\u001b[1;32mh:\\FESD\\src\\fesd.ipynb Cell 8\u001b[0m in \u001b[0;36m<cell line: 6>\u001b[1;34m()\u001b[0m\n\u001b[0;32m      <a href='vscode-notebook-cell:/h%3A/FESD/src/fesd.ipynb#X12sZmlsZQ%3D%3D?line=2'>3</a>\u001b[0m pipe\u001b[39m.\u001b[39mstart(cfg)\n\u001b[0;32m      <a href='vscode-notebook-cell:/h%3A/FESD/src/fesd.ipynb#X12sZmlsZQ%3D%3D?line=3'>4</a>\u001b[0m device \u001b[39m=\u001b[39m pipe\u001b[39m.\u001b[39mget_active_profile()\u001b[39m.\u001b[39mget_device()\n\u001b[1;32m----> <a href='vscode-notebook-cell:/h%3A/FESD/src/fesd.ipynb#X12sZmlsZQ%3D%3D?line=5'>6</a>\u001b[0m frame \u001b[39m=\u001b[39m pipe\u001b[39m.\u001b[39;49mtry_wait_for_frames(\u001b[39m1000\u001b[39;49m)\n\u001b[0;32m      <a href='vscode-notebook-cell:/h%3A/FESD/src/fesd.ipynb#X12sZmlsZQ%3D%3D?line=6'>7</a>\u001b[0m depth \u001b[39m=\u001b[39m frame\u001b[39m.\u001b[39mget_depth_frame()\n\u001b[0;32m      <a href='vscode-notebook-cell:/h%3A/FESD/src/fesd.ipynb#X12sZmlsZQ%3D%3D?line=8'>9</a>\u001b[0m depth_profile \u001b[39m=\u001b[39m rs\u001b[39m.\u001b[39mvideo_stream_profile(depth\u001b[39m.\u001b[39mprofile)\n",
      "\u001b[1;31mRuntimeError\u001b[0m: try_wait_for_frames cannot be called if a callback was provided"
     ]
    }
   ],
   "source": [
    "pipe = rs.pipeline()\n",
    "cfg = rs.config().enable_device_from_file(os.path.join(rec_path, rs_sessions[2]))\n",
    "pipe.start(cfg)\n",
    "device = pipe.get_active_profile().get_device()\n",
    "\n",
    "frame = pipe.try_wait_for_frames(1000)\n",
    "depth = frame.get_depth_frame()\n",
    "\n",
    "depth_profile = rs.video_stream_profile(depth.profile)\n",
    "intrinsics = depth_profile.get_intrinsics()\n",
    "\n",
    "print(intrinsics)"
   ]
  }
 ],
 "metadata": {
  "kernelspec": {
   "display_name": "Python 3",
   "language": "python",
   "name": "python3"
  },
  "language_info": {
   "codemirror_mode": {
    "name": "ipython",
    "version": 3
   },
   "file_extension": ".py",
   "mimetype": "text/x-python",
   "name": "python",
   "nbconvert_exporter": "python",
   "pygments_lexer": "ipython3",
   "version": "3.9.13"
  },
  "orig_nbformat": 4,
  "vscode": {
   "interpreter": {
    "hash": "f40a36ac6f6ba12b4c71c5d2aeebc18d9b18e55a8e20878d66488e349cff30fb"
   }
  }
 },
 "nbformat": 4,
 "nbformat_minor": 2
}
