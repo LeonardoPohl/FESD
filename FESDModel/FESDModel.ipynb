{
 "cells": [
  {
   "attachments": {},
   "cell_type": "markdown",
   "metadata": {},
   "source": [
    "# FESDModel\n",
    "\n",
    "FESD - Fault estimation for skeleton detection - is a suite that aims at finding faults in joints of skeletons, which are detected by human pose estimatiors.\n",
    "\n",
    "FESDData is the sister project to this notebook, which aims at recording depth and rgb data, as well as populating the data with human poses from variing human pose estimators.\n",
    "\n",
    "Furthermore, FESTData augments all data based on joint confidence.\n",
    "\n",
    "FFESDModel aims to develop and evaluate a model based on the faulty and augmented joint data as well as RGBD data."
   ]
  },
  {
   "attachments": {},
   "cell_type": "markdown",
   "metadata": {},
   "source": [
    "## Libraries\n",
    "\n",
    "We need a range of libraries which are imported here. We also define some constants."
   ]
  },
  {
   "cell_type": "code",
   "execution_count": 1,
   "metadata": {},
   "outputs": [],
   "source": [
    "import os\n",
    "import json\n",
    "from pathlib import Path\n",
    "\n",
    "import numpy as np\n",
    "import pandas as pd\n",
    "import matplotlib.pyplot as plt\n",
    "import seaborn as sns\n",
    "\n",
    "import tqdm\n",
    "\n",
    "import cv2\n",
    "import pyrealsense2 as rs\n",
    "\n",
    "sns.set_style()"
   ]
  },
  {
   "cell_type": "code",
   "execution_count": 2,
   "metadata": {},
   "outputs": [],
   "source": [
    "RECORDING_DIR = Path('H:/Recordings/')"
   ]
  },
  {
   "attachments": {},
   "cell_type": "markdown",
   "metadata": {},
   "source": [
    "## Data Loading\n",
    "\n",
    "Firstly we need to import all the recordings into the notebook.\n"
   ]
  },
  {
   "attachments": {},
   "cell_type": "markdown",
   "metadata": {},
   "source": [
    "### Load Metadata\n",
    "\n",
    "It is important to load the metadata, such as the session parameters, the exercises and the recording paths."
   ]
  },
  {
   "cell_type": "code",
   "execution_count": 3,
   "metadata": {},
   "outputs": [
    {
     "data": {
      "text/plain": [
       "25"
      ]
     },
     "execution_count": 3,
     "metadata": {},
     "output_type": "execute_result"
    }
   ],
   "source": [
    "recording_jsons = []\n",
    "for file in os.listdir(RECORDING_DIR):\n",
    "  if (file.endswith('.json')):\n",
    "    with open(file=os.path.join(RECORDING_DIR, file), mode='r') as file:\n",
    "      data = json.load(file)\n",
    "      recording_jsons.append(data)\n",
    "\n",
    "len(recording_jsons)"
   ]
  },
  {
   "attachments": {},
   "cell_type": "markdown",
   "metadata": {},
   "source": [
    "Then we load the Exercises from the exercise file."
   ]
  },
  {
   "cell_type": "code",
   "execution_count": 4,
   "metadata": {},
   "outputs": [
    {
     "data": {
      "text/plain": [
       "13"
      ]
     },
     "execution_count": 4,
     "metadata": {},
     "output_type": "execute_result"
    }
   ],
   "source": [
    "with open(file=\"Exercises.json\", mode='r') as file:\n",
    "  exercises_json = json.load(file)['Exercises']\n",
    "\n",
    "with open(file=\"JointErrors.json\", mode='r') as file:\n",
    "  joint_error_json = json.load(file)\n",
    "\n",
    "with open(file=\"SkeletonErrors.json\", mode='r') as file:\n",
    "  skeleton_error_json = json.load(file)\n",
    "\n",
    "len(exercises_json)"
   ]
  },
  {
   "attachments": {},
   "cell_type": "markdown",
   "metadata": {},
   "source": [
    "## Load Frame\n",
    "\n",
    "Here we define the load frame functions. For now we focus on nuitrack recordings."
   ]
  },
  {
   "cell_type": "code",
   "execution_count": 5,
   "metadata": {},
   "outputs": [],
   "source": [
    "def id_2_name(i: int):\n",
    "  return 'frame_' + str(i) + '.yml'"
   ]
  },
  {
   "cell_type": "code",
   "execution_count": 63,
   "metadata": {},
   "outputs": [],
   "source": [
    "def load_skeletons(skeletons_json) -> (np.ndarray, np.ndarray):\n",
    "  poses = []\n",
    "  pose_errors = []\n",
    "  for person in skeletons_json:\n",
    "    joints = np.ndarray(shape=[0, 6])\n",
    "    errors = []\n",
    "    \n",
    "    origin = person['Skeleton'][4]\n",
    "    for joint in person['Skeleton']:\n",
    "      joints = np.append(joints, [[\n",
    "        joint['u'] - origin['u'],\n",
    "        joint['v'] - origin['v'],\n",
    "        joint['d'] - origin['d'],\n",
    "        joint['x'] - origin['x'],\n",
    "        joint['y'] - origin['y'],\n",
    "        joint['z'] - origin['z']\n",
    "      ]], axis=0)\n",
    "      if (joint['error'] == 1):\n",
    "        errors.append(1)\n",
    "      else:\n",
    "        errors.append(joint['error'])\n",
    "        \n",
    "    poses.append(joints)\n",
    "    pose_errors.append(errors)\n",
    "    \n",
    "  return np.asarray(poses), np.asarray(pose_errors)"
   ]
  },
  {
   "cell_type": "code",
   "execution_count": 61,
   "metadata": {},
   "outputs": [],
   "source": [
    "def load_frame(session: json, frame_id: int) -> (np.ndarray, np.ndarray, np.ndarray):\n",
    "  frame_path = RECORDING_DIR /  session['Cameras'][0]['FileName'] / id_2_name(frame_id)\n",
    "  frame_file = cv2.FileStorage(str(frame_path), cv2.FileStorage_READ)\n",
    "  frame = frame_file.getNode('frame').mat()\n",
    "  with open(file=RECORDING_DIR /  session['Skeleton'], mode='r') as file:\n",
    "    skeleton_json = json.load(file)[frame_id]\n",
    "  poses, errors = load_skeletons(skeleton_json)\n",
    "  return np.asarray( frame[:,:] ), poses, errors"
   ]
  },
  {
   "cell_type": "code",
   "execution_count": 69,
   "metadata": {},
   "outputs": [
    {
     "name": "stdout",
     "output_type": "stream",
     "text": [
      "(480, 640, 4)\n",
      "(1, 25, 6)\n",
      "(1, 25)\n"
     ]
    }
   ],
   "source": [
    "frame, poses, errors = load_frame(recording_jsons[0], 20)\n",
    "print(frame.shape)\n",
    "print(poses.shape)\n",
    "print(errors.shape)"
   ]
  },
  {
   "attachments": {},
   "cell_type": "markdown",
   "metadata": {},
   "source": [
    "## Train Model\n",
    "\n",
    "In the following we define the training function and train a network on the training data."
   ]
  },
  {
   "cell_type": "code",
   "execution_count": null,
   "metadata": {},
   "outputs": [],
   "source": [
    "# training\n",
    "def train_salient(train_loader, model, optimizer, criterion, scheduler, epoch, opt):\n",
    "    # multi-scale training\n",
    "    size_rates = [0.75, 1, 1.25]\n",
    "\n",
    "    model.train()\n",
    "    loss_record = AvgMeter()\n",
    "    for i, pack in enumerate(train_loader, start=1):\n",
    "        for rate in size_rates:\n",
    "            optimizer.zero_grad()\n",
    "            images, gts, depths = pack\n",
    "            images = images.cuda()\n",
    "            gts = gts.cuda()\n",
    "            depths = depths.cuda()\n",
    "\n",
    "            # multi-scale training samples\n",
    "            trainsize = int(round(opt.trainsize * rate / 32) * 32)\n",
    "            if rate != 1:\n",
    "                images = F.upsample(images, size=(trainsize, trainsize), mode='bilinear', align_corners=True)\n",
    "                images = images.unsqueeze(2)\n",
    "                gts = F.upsample(gts, size=(trainsize, trainsize), mode='bilinear', align_corners=True)\n",
    "\n",
    "                depths = F.upsample(depths, size=(trainsize, trainsize), mode='bilinear', align_corners=True)\n",
    "                depths = depths.unsqueeze(2)\n",
    "                images = torch.cat([images, depths], 2)\n",
    "\n",
    "            if rate == 1:\n",
    "                images = images.unsqueeze(2)\n",
    "                depths = depths.unsqueeze(2)\n",
    "                images = torch.cat([images, depths], 2)\n",
    "\n",
    "            # forward\n",
    "            pred_s = model(images)\n",
    "            # TODO Calculate different loss based on the error label\n",
    "            loss = criterion(pred_s, gts)\n",
    "\n",
    "            loss.backward()\n",
    "            clip_gradient(optimizer, opt.clip)\n",
    "            optimizer.step()\n",
    "            scheduler.step()\n",
    "            if rate == 1:\n",
    "                loss_record.update(loss.data, opt.batchsize)\n",
    "\n",
    "        if i % 100 == 0 or i == len(train_loader):\n",
    "            logger.info('Epoch [{:03d}/{:03d}], Step [{:04d}/{:04d}], Loss: {:.4f}'.\n",
    "                        format(epoch, opt.epochs, i, len(train_loader),\n",
    "                               loss_record.show()))"
   ]
  }
 ],
 "metadata": {
  "kernelspec": {
   "display_name": "env",
   "language": "python",
   "name": "python3"
  },
  "language_info": {
   "codemirror_mode": {
    "name": "ipython",
    "version": 3
   },
   "file_extension": ".py",
   "mimetype": "text/x-python",
   "name": "python",
   "nbconvert_exporter": "python",
   "pygments_lexer": "ipython3",
   "version": "3.9.13"
  },
  "orig_nbformat": 4,
  "vscode": {
   "interpreter": {
    "hash": "223e9e27cbc670f5c22c33ebc1577b54f1cca48f7f6b973b1c50992e7fee7cdc"
   }
  }
 },
 "nbformat": 4,
 "nbformat_minor": 2
}
