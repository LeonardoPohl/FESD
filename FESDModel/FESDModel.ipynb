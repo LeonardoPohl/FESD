{
 "cells": [
  {
   "attachments": {},
   "cell_type": "markdown",
   "metadata": {},
   "source": [
    "# FESDModel\n",
    "\n",
    "FESD - Fault estimation for skeleton detection - is a suite that aims at finding faults in joints of skeletons, which are detected by human pose estimatiors.\n",
    "\n",
    "FESDData is the sister project to this notebook, which aims at recording depth and rgb data, as well as populating the data with human poses from variing human pose estimators.\n",
    "\n",
    "Furthermore, FESTData augments all data based on joint confidence.\n",
    "\n",
    "FFESDModel aims to develop and evaluate a model based on the faulty and augmented joint data as well as RGBD data."
   ]
  },
  {
   "attachments": {},
   "cell_type": "markdown",
   "metadata": {},
   "source": [
    "## Libraries\n",
    "\n",
    "We need a range of libraries which are imported here. We also define some constants."
   ]
  },
  {
   "cell_type": "code",
   "execution_count": 1,
   "metadata": {},
   "outputs": [],
   "source": [
    "import os\n",
    "import json\n",
    "\n",
    "import numpy as np\n",
    "import pandas as pd\n",
    "import matplotlib.pyplot as plt\n",
    "import seaborn as sns\n",
    "\n",
    "import tqdm\n",
    "\n",
    "import cv2\n",
    "import pyrealsense2 as rs\n",
    "\n",
    "sns.set_style()"
   ]
  },
  {
   "cell_type": "code",
   "execution_count": 2,
   "metadata": {},
   "outputs": [],
   "source": [
    "RECORDING_DIR = '/home/leo/Recordings/'\n",
    "EXERCISES_FILE_NAME = 'Exercises.json'"
   ]
  },
  {
   "attachments": {},
   "cell_type": "markdown",
   "metadata": {},
   "source": [
    "## Data Loading\n",
    "\n",
    "Firstly we need to import all the recordings into the notebook.\n"
   ]
  },
  {
   "attachments": {},
   "cell_type": "markdown",
   "metadata": {},
   "source": [
    "### Load Metadata\n",
    "\n",
    "It is important to load the metadata, such as the session parameters, the exercises and the recording paths."
   ]
  },
  {
   "cell_type": "code",
   "execution_count": 3,
   "metadata": {},
   "outputs": [
    {
     "data": {
      "text/plain": [
       "8"
      ]
     },
     "execution_count": 3,
     "metadata": {},
     "output_type": "execute_result"
    }
   ],
   "source": [
    "recording_jsons = []\n",
    "for file in os.listdir(RECORDING_DIR):\n",
    "  if (file.endswith('.json') and \n",
    "      not file.endswith('Skeleton.json') and \n",
    "      not file.endswith(EXERCISES_FILE_NAME)):\n",
    "    with open(file=os.path.join(RECORDING_DIR, file), mode='r') as file:\n",
    "      data = json.load(file)\n",
    "      recording_jsons.append(data)\n",
    "\n",
    "len(recording_jsons)"
   ]
  },
  {
   "attachments": {},
   "cell_type": "markdown",
   "metadata": {},
   "source": [
    "Then we load the Exercises from the exercise file."
   ]
  },
  {
   "cell_type": "code",
   "execution_count": 4,
   "metadata": {},
   "outputs": [
    {
     "data": {
      "text/plain": [
       "13"
      ]
     },
     "execution_count": 4,
     "metadata": {},
     "output_type": "execute_result"
    }
   ],
   "source": [
    "exercises_json = []\n",
    "\n",
    "with open(file=os.path.join(RECORDING_DIR, EXERCISES_FILE_NAME), mode='r') as file:\n",
    "  exercises_json = json.load(file)['Exercises']\n",
    "\n",
    "len(exercises_json)"
   ]
  },
  {
   "attachments": {},
   "cell_type": "markdown",
   "metadata": {},
   "source": [
    "Next we extract all recordings from the sessions."
   ]
  },
  {
   "cell_type": "code",
   "execution_count": 5,
   "metadata": {},
   "outputs": [
    {
     "data": {
      "text/plain": [
       "8"
      ]
     },
     "execution_count": 5,
     "metadata": {},
     "output_type": "execute_result"
    }
   ],
   "source": [
    "recording_paths_rs = []\n",
    "recording_paths_orbbec = []\n",
    "\n",
    "for recording in recording_jsons:\n",
    "  for camera in recording['Cameras']:\n",
    "    if camera['Type'] == 'Realsense':\n",
    "      recording_paths_rs.append(camera['FileName'])\n",
    "\n",
    "len(recording_paths_rs)"
   ]
  },
  {
   "attachments": {},
   "cell_type": "markdown",
   "metadata": {},
   "source": [
    "### Load Frames from Realsense Camera\n",
    "\n",
    "Next we load the frames from the realsense recordings into arrays of CV matrixes.\n"
   ]
  },
  {
   "cell_type": "code",
   "execution_count": 14,
   "metadata": {},
   "outputs": [],
   "source": [
    "def load_recording_rs(recording_path_rs, num_frames: int):\n",
    "  pipeline = rs.pipeline()\n",
    "  config = rs.config()\n",
    "\n",
    "  rs.config.enable_device_from_file(config, os.path.join(RECORDING_DIR, recording_path_rs))\n",
    "  \n",
    "\n",
    "\n",
    "  # Configure the pipeline to stream the depth stream\n",
    "  # Change this parameters according to the recorded bag file resolution\n",
    "  config.enable_stream(rs.stream.depth, 640, 480, rs.format.z16, 30)\n",
    "  config.enable_stream(rs.stream.color, 1280, 720, rs.format.rgb8, 30)\n",
    "\n",
    "  # Start streaming from file\n",
    "  pipeline.start(config)\n",
    "  device = pipeline.get_active_profile().get_device()\n",
    "  \n",
    "  device.as_playback().set_real_time(False)\n",
    "    \n",
    "  depth_scale = device.first_depth_sensor().get_depth_scale()\n",
    "  \n",
    "  # Create colorizer object\n",
    "  cv_depth_frames = []\n",
    "  cv_color_frames = []\n",
    "  \n",
    "  align = rs.align(rs.stream.depth)\n",
    "\n",
    "  # Streaming loop\n",
    "  for i in tqdm.tqdm(range(num_frames)):\n",
    "\n",
    "    # Get frameset of depth\n",
    "    frames = pipeline.wait_for_frames()\n",
    "    frames = align.process(frames)\n",
    "    depth_frame = frames.get_depth_frame()\n",
    "    color_frame = frames.get_color_frame()\n",
    "    if not depth_frame or not color_frame:\n",
    "      continue    \n",
    "\n",
    "    color_frame = np.asanyarray(color_frame.get_data())\n",
    "    color_frame = cv2.cvtColor(color_frame, cv2.COLOR_BGR2RGB)\n",
    "    #color_frame = cv2.resize(color_frame, dsize=(640, 480), interpolation=cv2.INTER_AREA)    \n",
    "\n",
    "    # Get depth frame\n",
    "    cv_depth_frames.append(np.asanyarray(depth_frame.get_data()) * depth_scale)\n",
    "    cv_color_frames.append(color_frame)\n",
    "  \n",
    "  pipeline.stop()\n",
    "\n",
    "  return cv_depth_frames, cv_color_frames"
   ]
  },
  {
   "cell_type": "code",
   "execution_count": 15,
   "metadata": {},
   "outputs": [
    {
     "name": "stdout",
     "output_type": "stream",
     "text": [
      "Loading recording 1 of 8 for recording Session 2023-02-08T22:23:46\n"
     ]
    },
    {
     "name": "stderr",
     "output_type": "stream",
     "text": [
      "100%|██████████| 602/602 [00:02<00:00, 202.41it/s]\n"
     ]
    },
    {
     "name": "stdout",
     "output_type": "stream",
     "text": [
      "Loading recording 2 of 8 for recording Session 2023-02-08T22:28:08\n"
     ]
    },
    {
     "name": "stderr",
     "output_type": "stream",
     "text": [
      "100%|██████████| 602/602 [00:03<00:00, 178.77it/s]\n"
     ]
    },
    {
     "name": "stdout",
     "output_type": "stream",
     "text": [
      "Loading recording 3 of 8 for recording Session 2023-02-08T22:22:59\n"
     ]
    },
    {
     "name": "stderr",
     "output_type": "stream",
     "text": [
      "100%|██████████| 600/600 [00:03<00:00, 199.14it/s]\n"
     ]
    },
    {
     "name": "stdout",
     "output_type": "stream",
     "text": [
      "Loading recording 4 of 8 for recording Session 2023-02-08T22:21:33\n"
     ]
    },
    {
     "name": "stderr",
     "output_type": "stream",
     "text": [
      "100%|██████████| 602/602 [00:02<00:00, 202.27it/s]\n"
     ]
    },
    {
     "name": "stdout",
     "output_type": "stream",
     "text": [
      "Loading recording 5 of 8 for recording Session 2023-02-08T22:28:54\n"
     ]
    },
    {
     "name": "stderr",
     "output_type": "stream",
     "text": [
      "100%|██████████| 601/601 [00:02<00:00, 213.81it/s]\n"
     ]
    },
    {
     "name": "stdout",
     "output_type": "stream",
     "text": [
      "Loading recording 6 of 8 for recording Session 2023-02-08T22:27:18\n"
     ]
    },
    {
     "name": "stderr",
     "output_type": "stream",
     "text": [
      "100%|██████████| 599/599 [00:02<00:00, 207.97it/s]\n"
     ]
    },
    {
     "name": "stdout",
     "output_type": "stream",
     "text": [
      "Loading recording 7 of 8 for recording Session 2023-02-08T22:26:37\n"
     ]
    },
    {
     "name": "stderr",
     "output_type": "stream",
     "text": [
      "100%|██████████| 601/601 [00:03<00:00, 195.74it/s]\n"
     ]
    },
    {
     "name": "stdout",
     "output_type": "stream",
     "text": [
      "Loading recording 8 of 8 for recording Session 2023-02-08T22:25:45\n"
     ]
    },
    {
     "name": "stderr",
     "output_type": "stream",
     "text": [
      "100%|██████████| 601/601 [00:02<00:00, 211.49it/s]\n"
     ]
    }
   ],
   "source": [
    "cv_depth_videos = []\n",
    "cv_color_videos = []\n",
    "\n",
    "for (i, recording_path_rs) in enumerate(recording_paths_rs):\n",
    "  print(f'Loading recording {i+1} of {len(recording_paths_rs)} for recording {recording_jsons[i][\"Name\"]}')\n",
    "  depth, color = load_recording_rs(recording_path_rs, recording_jsons[i]['Frames'])\n",
    "  cv_depth_videos.append(depth)\n",
    "  cv_color_videos.append(color)\n",
    "  "
   ]
  },
  {
   "cell_type": "code",
   "execution_count": 20,
   "metadata": {},
   "outputs": [
    {
     "name": "stderr",
     "output_type": "stream",
     "text": [
      "QObject::moveToThread: Current thread (0x56164e958dc0) is not the object's thread (0x56160ca6b490).\n",
      "Cannot move to target thread (0x56164e958dc0)\n",
      "\n",
      "QObject::moveToThread: Current thread (0x56164e958dc0) is not the object's thread (0x56160ca6b490).\n",
      "Cannot move to target thread (0x56164e958dc0)\n",
      "\n",
      "QObject::moveToThread: Current thread (0x56164e958dc0) is not the object's thread (0x56160ca6b490).\n",
      "Cannot move to target thread (0x56164e958dc0)\n",
      "\n",
      "QObject::moveToThread: Current thread (0x56164e958dc0) is not the object's thread (0x56160ca6b490).\n",
      "Cannot move to target thread (0x56164e958dc0)\n",
      "\n",
      "QObject::moveToThread: Current thread (0x56164e958dc0) is not the object's thread (0x56160ca6b490).\n",
      "Cannot move to target thread (0x56164e958dc0)\n",
      "\n",
      "QObject::moveToThread: Current thread (0x56164e958dc0) is not the object's thread (0x56160ca6b490).\n",
      "Cannot move to target thread (0x56164e958dc0)\n",
      "\n",
      "QObject::moveToThread: Current thread (0x56164e958dc0) is not the object's thread (0x56160ca6b490).\n",
      "Cannot move to target thread (0x56164e958dc0)\n",
      "\n",
      "QObject::moveToThread: Current thread (0x56164e958dc0) is not the object's thread (0x56160ca6b490).\n",
      "Cannot move to target thread (0x56164e958dc0)\n",
      "\n",
      "QObject::moveToThread: Current thread (0x56164e958dc0) is not the object's thread (0x56160ca6b490).\n",
      "Cannot move to target thread (0x56164e958dc0)\n",
      "\n",
      "QObject::moveToThread: Current thread (0x56164e958dc0) is not the object's thread (0x56160ca6b490).\n",
      "Cannot move to target thread (0x56164e958dc0)\n",
      "\n",
      "QObject::moveToThread: Current thread (0x56164e958dc0) is not the object's thread (0x56160ca6b490).\n",
      "Cannot move to target thread (0x56164e958dc0)\n",
      "\n",
      "QObject::moveToThread: Current thread (0x56164e958dc0) is not the object's thread (0x56160ca6b490).\n",
      "Cannot move to target thread (0x56164e958dc0)\n",
      "\n",
      "QObject::moveToThread: Current thread (0x56164e958dc0) is not the object's thread (0x56160ca6b490).\n",
      "Cannot move to target thread (0x56164e958dc0)\n",
      "\n",
      "QObject::moveToThread: Current thread (0x56164e958dc0) is not the object's thread (0x56160ca6b490).\n",
      "Cannot move to target thread (0x56164e958dc0)\n",
      "\n",
      "QObject::moveToThread: Current thread (0x56164e958dc0) is not the object's thread (0x56160ca6b490).\n",
      "Cannot move to target thread (0x56164e958dc0)\n",
      "\n",
      "QObject::moveToThread: Current thread (0x56164e958dc0) is not the object's thread (0x56160ca6b490).\n",
      "Cannot move to target thread (0x56164e958dc0)\n",
      "\n",
      "QObject::moveToThread: Current thread (0x56164e958dc0) is not the object's thread (0x56160ca6b490).\n",
      "Cannot move to target thread (0x56164e958dc0)\n",
      "\n",
      "QObject::moveToThread: Current thread (0x56164e958dc0) is not the object's thread (0x56160ca6b490).\n",
      "Cannot move to target thread (0x56164e958dc0)\n",
      "\n",
      "QObject::moveToThread: Current thread (0x56164e958dc0) is not the object's thread (0x56160ca6b490).\n",
      "Cannot move to target thread (0x56164e958dc0)\n",
      "\n",
      "QObject::moveToThread: Current thread (0x56164e958dc0) is not the object's thread (0x56160ca6b490).\n",
      "Cannot move to target thread (0x56164e958dc0)\n",
      "\n",
      "QObject::moveToThread: Current thread (0x56164e958dc0) is not the object's thread (0x56160ca6b490).\n",
      "Cannot move to target thread (0x56164e958dc0)\n",
      "\n",
      "QObject::moveToThread: Current thread (0x56164e958dc0) is not the object's thread (0x56160ca6b490).\n",
      "Cannot move to target thread (0x56164e958dc0)\n",
      "\n",
      "QObject::moveToThread: Current thread (0x56164e958dc0) is not the object's thread (0x56160ca6b490).\n",
      "Cannot move to target thread (0x56164e958dc0)\n",
      "\n",
      "QObject::moveToThread: Current thread (0x56164e958dc0) is not the object's thread (0x56160ca6b490).\n",
      "Cannot move to target thread (0x56164e958dc0)\n",
      "\n",
      "QObject::moveToThread: Current thread (0x56164e958dc0) is not the object's thread (0x56160ca6b490).\n",
      "Cannot move to target thread (0x56164e958dc0)\n",
      "\n",
      "QObject::moveToThread: Current thread (0x56164e958dc0) is not the object's thread (0x56160ca6b490).\n",
      "Cannot move to target thread (0x56164e958dc0)\n",
      "\n",
      "QObject::moveToThread: Current thread (0x56164e958dc0) is not the object's thread (0x56160ca6b490).\n",
      "Cannot move to target thread (0x56164e958dc0)\n",
      "\n",
      "QObject::moveToThread: Current thread (0x56164e958dc0) is not the object's thread (0x56160ca6b490).\n",
      "Cannot move to target thread (0x56164e958dc0)\n",
      "\n",
      "QObject::moveToThread: Current thread (0x56164e958dc0) is not the object's thread (0x56160ca6b490).\n",
      "Cannot move to target thread (0x56164e958dc0)\n",
      "\n",
      "QObject::moveToThread: Current thread (0x56164e958dc0) is not the object's thread (0x56160ca6b490).\n",
      "Cannot move to target thread (0x56164e958dc0)\n",
      "\n",
      "QObject::moveToThread: Current thread (0x56164e958dc0) is not the object's thread (0x56160ca6b490).\n",
      "Cannot move to target thread (0x56164e958dc0)\n",
      "\n",
      "QObject::moveToThread: Current thread (0x56164e958dc0) is not the object's thread (0x56160ca6b490).\n",
      "Cannot move to target thread (0x56164e958dc0)\n",
      "\n",
      "QObject::moveToThread: Current thread (0x56164e958dc0) is not the object's thread (0x56160ca6b490).\n",
      "Cannot move to target thread (0x56164e958dc0)\n",
      "\n",
      "QObject::moveToThread: Current thread (0x56164e958dc0) is not the object's thread (0x56160ca6b490).\n",
      "Cannot move to target thread (0x56164e958dc0)\n",
      "\n",
      "QObject::moveToThread: Current thread (0x56164e958dc0) is not the object's thread (0x56160ca6b490).\n",
      "Cannot move to target thread (0x56164e958dc0)\n",
      "\n",
      "QObject::moveToThread: Current thread (0x56164e958dc0) is not the object's thread (0x56160ca6b490).\n",
      "Cannot move to target thread (0x56164e958dc0)\n",
      "\n",
      "QObject::moveToThread: Current thread (0x56164e958dc0) is not the object's thread (0x56160ca6b490).\n",
      "Cannot move to target thread (0x56164e958dc0)\n",
      "\n",
      "QObject::moveToThread: Current thread (0x56164e958dc0) is not the object's thread (0x56160ca6b490).\n",
      "Cannot move to target thread (0x56164e958dc0)\n",
      "\n",
      "QObject::moveToThread: Current thread (0x56164e958dc0) is not the object's thread (0x56160ca6b490).\n",
      "Cannot move to target thread (0x56164e958dc0)\n",
      "\n",
      "QObject::moveToThread: Current thread (0x56164e958dc0) is not the object's thread (0x56160ca6b490).\n",
      "Cannot move to target thread (0x56164e958dc0)\n",
      "\n",
      "QObject::moveToThread: Current thread (0x56164e958dc0) is not the object's thread (0x56160ca6b490).\n",
      "Cannot move to target thread (0x56164e958dc0)\n",
      "\n",
      "QObject::moveToThread: Current thread (0x56164e958dc0) is not the object's thread (0x56160ca6b490).\n",
      "Cannot move to target thread (0x56164e958dc0)\n",
      "\n",
      "QObject::moveToThread: Current thread (0x56164e958dc0) is not the object's thread (0x56160ca6b490).\n",
      "Cannot move to target thread (0x56164e958dc0)\n",
      "\n",
      "QObject::moveToThread: Current thread (0x56164e958dc0) is not the object's thread (0x56160ca6b490).\n",
      "Cannot move to target thread (0x56164e958dc0)\n",
      "\n",
      "QObject::moveToThread: Current thread (0x56164e958dc0) is not the object's thread (0x56160ca6b490).\n",
      "Cannot move to target thread (0x56164e958dc0)\n",
      "\n",
      "QObject::moveToThread: Current thread (0x56164e958dc0) is not the object's thread (0x56160ca6b490).\n",
      "Cannot move to target thread (0x56164e958dc0)\n",
      "\n",
      "QObject::moveToThread: Current thread (0x56164e958dc0) is not the object's thread (0x56160ca6b490).\n",
      "Cannot move to target thread (0x56164e958dc0)\n",
      "\n",
      "QObject::moveToThread: Current thread (0x56164e958dc0) is not the object's thread (0x56160ca6b490).\n",
      "Cannot move to target thread (0x56164e958dc0)\n",
      "\n",
      "QObject::moveToThread: Current thread (0x56164e958dc0) is not the object's thread (0x56160ca6b490).\n",
      "Cannot move to target thread (0x56164e958dc0)\n",
      "\n",
      "QObject::moveToThread: Current thread (0x56164e958dc0) is not the object's thread (0x56160ca6b490).\n",
      "Cannot move to target thread (0x56164e958dc0)\n",
      "\n",
      "QObject::moveToThread: Current thread (0x56164e958dc0) is not the object's thread (0x56160ca6b490).\n",
      "Cannot move to target thread (0x56164e958dc0)\n",
      "\n",
      "QObject::moveToThread: Current thread (0x56164e958dc0) is not the object's thread (0x56160ca6b490).\n",
      "Cannot move to target thread (0x56164e958dc0)\n",
      "\n",
      "QObject::moveToThread: Current thread (0x56164e958dc0) is not the object's thread (0x56160ca6b490).\n",
      "Cannot move to target thread (0x56164e958dc0)\n",
      "\n",
      "QObject::moveToThread: Current thread (0x56164e958dc0) is not the object's thread (0x56160ca6b490).\n",
      "Cannot move to target thread (0x56164e958dc0)\n",
      "\n",
      "QObject::moveToThread: Current thread (0x56164e958dc0) is not the object's thread (0x56160ca6b490).\n",
      "Cannot move to target thread (0x56164e958dc0)\n",
      "\n",
      "QObject::moveToThread: Current thread (0x56164e958dc0) is not the object's thread (0x56160ca6b490).\n",
      "Cannot move to target thread (0x56164e958dc0)\n",
      "\n",
      "QObject::moveToThread: Current thread (0x56164e958dc0) is not the object's thread (0x56160ca6b490).\n",
      "Cannot move to target thread (0x56164e958dc0)\n",
      "\n",
      "QObject::moveToThread: Current thread (0x56164e958dc0) is not the object's thread (0x56160ca6b490).\n",
      "Cannot move to target thread (0x56164e958dc0)\n",
      "\n",
      "QObject::moveToThread: Current thread (0x56164e958dc0) is not the object's thread (0x56160ca6b490).\n",
      "Cannot move to target thread (0x56164e958dc0)\n",
      "\n",
      "QObject::moveToThread: Current thread (0x56164e958dc0) is not the object's thread (0x56160ca6b490).\n",
      "Cannot move to target thread (0x56164e958dc0)\n",
      "\n",
      "QObject::moveToThread: Current thread (0x56164e958dc0) is not the object's thread (0x56160ca6b490).\n",
      "Cannot move to target thread (0x56164e958dc0)\n",
      "\n",
      "QObject::moveToThread: Current thread (0x56164e958dc0) is not the object's thread (0x56160ca6b490).\n",
      "Cannot move to target thread (0x56164e958dc0)\n",
      "\n",
      "QObject::moveToThread: Current thread (0x56164e958dc0) is not the object's thread (0x56160ca6b490).\n",
      "Cannot move to target thread (0x56164e958dc0)\n",
      "\n",
      "QObject::moveToThread: Current thread (0x56164e958dc0) is not the object's thread (0x56160ca6b490).\n",
      "Cannot move to target thread (0x56164e958dc0)\n",
      "\n",
      "QObject::moveToThread: Current thread (0x56164e958dc0) is not the object's thread (0x56160ca6b490).\n",
      "Cannot move to target thread (0x56164e958dc0)\n",
      "\n",
      "QObject::moveToThread: Current thread (0x56164e958dc0) is not the object's thread (0x56160ca6b490).\n",
      "Cannot move to target thread (0x56164e958dc0)\n",
      "\n",
      "QObject::moveToThread: Current thread (0x56164e958dc0) is not the object's thread (0x56160ca6b490).\n",
      "Cannot move to target thread (0x56164e958dc0)\n",
      "\n",
      "QObject::moveToThread: Current thread (0x56164e958dc0) is not the object's thread (0x56160ca6b490).\n",
      "Cannot move to target thread (0x56164e958dc0)\n",
      "\n",
      "QObject::moveToThread: Current thread (0x56164e958dc0) is not the object's thread (0x56160ca6b490).\n",
      "Cannot move to target thread (0x56164e958dc0)\n",
      "\n",
      "QObject::moveToThread: Current thread (0x56164e958dc0) is not the object's thread (0x56160ca6b490).\n",
      "Cannot move to target thread (0x56164e958dc0)\n",
      "\n",
      "QObject::moveToThread: Current thread (0x56164e958dc0) is not the object's thread (0x56160ca6b490).\n",
      "Cannot move to target thread (0x56164e958dc0)\n",
      "\n",
      "QObject::moveToThread: Current thread (0x56164e958dc0) is not the object's thread (0x56160ca6b490).\n",
      "Cannot move to target thread (0x56164e958dc0)\n",
      "\n",
      "QObject::moveToThread: Current thread (0x56164e958dc0) is not the object's thread (0x56160ca6b490).\n",
      "Cannot move to target thread (0x56164e958dc0)\n",
      "\n",
      "QObject::moveToThread: Current thread (0x56164e958dc0) is not the object's thread (0x56160ca6b490).\n",
      "Cannot move to target thread (0x56164e958dc0)\n",
      "\n",
      "QObject::moveToThread: Current thread (0x56164e958dc0) is not the object's thread (0x56160ca6b490).\n",
      "Cannot move to target thread (0x56164e958dc0)\n",
      "\n",
      "QObject::moveToThread: Current thread (0x56164e958dc0) is not the object's thread (0x56160ca6b490).\n",
      "Cannot move to target thread (0x56164e958dc0)\n",
      "\n",
      "QObject::moveToThread: Current thread (0x56164e958dc0) is not the object's thread (0x56160ca6b490).\n",
      "Cannot move to target thread (0x56164e958dc0)\n",
      "\n",
      "QObject::moveToThread: Current thread (0x56164e958dc0) is not the object's thread (0x56160ca6b490).\n",
      "Cannot move to target thread (0x56164e958dc0)\n",
      "\n",
      "QObject::moveToThread: Current thread (0x56164e958dc0) is not the object's thread (0x56160ca6b490).\n",
      "Cannot move to target thread (0x56164e958dc0)\n",
      "\n",
      "QObject::moveToThread: Current thread (0x56164e958dc0) is not the object's thread (0x56160ca6b490).\n",
      "Cannot move to target thread (0x56164e958dc0)\n",
      "\n",
      "QObject::moveToThread: Current thread (0x56164e958dc0) is not the object's thread (0x56160ca6b490).\n",
      "Cannot move to target thread (0x56164e958dc0)\n",
      "\n",
      "QObject::moveToThread: Current thread (0x56164e958dc0) is not the object's thread (0x56160ca6b490).\n",
      "Cannot move to target thread (0x56164e958dc0)\n",
      "\n",
      "QObject::moveToThread: Current thread (0x56164e958dc0) is not the object's thread (0x56160ca6b490).\n",
      "Cannot move to target thread (0x56164e958dc0)\n",
      "\n",
      "QObject::moveToThread: Current thread (0x56164e958dc0) is not the object's thread (0x56160ca6b490).\n",
      "Cannot move to target thread (0x56164e958dc0)\n",
      "\n",
      "QObject::moveToThread: Current thread (0x56164e958dc0) is not the object's thread (0x56160ca6b490).\n",
      "Cannot move to target thread (0x56164e958dc0)\n",
      "\n",
      "QObject::moveToThread: Current thread (0x56164e958dc0) is not the object's thread (0x56160ca6b490).\n",
      "Cannot move to target thread (0x56164e958dc0)\n",
      "\n",
      "QObject::moveToThread: Current thread (0x56164e958dc0) is not the object's thread (0x56160ca6b490).\n",
      "Cannot move to target thread (0x56164e958dc0)\n",
      "\n",
      "QObject::moveToThread: Current thread (0x56164e958dc0) is not the object's thread (0x56160ca6b490).\n",
      "Cannot move to target thread (0x56164e958dc0)\n",
      "\n",
      "QObject::moveToThread: Current thread (0x56164e958dc0) is not the object's thread (0x56160ca6b490).\n",
      "Cannot move to target thread (0x56164e958dc0)\n",
      "\n",
      "QObject::moveToThread: Current thread (0x56164e958dc0) is not the object's thread (0x56160ca6b490).\n",
      "Cannot move to target thread (0x56164e958dc0)\n",
      "\n",
      "QObject::moveToThread: Current thread (0x56164e958dc0) is not the object's thread (0x56160ca6b490).\n",
      "Cannot move to target thread (0x56164e958dc0)\n",
      "\n",
      "QObject::moveToThread: Current thread (0x56164e958dc0) is not the object's thread (0x56160ca6b490).\n",
      "Cannot move to target thread (0x56164e958dc0)\n",
      "\n",
      "QObject::moveToThread: Current thread (0x56164e958dc0) is not the object's thread (0x56160ca6b490).\n",
      "Cannot move to target thread (0x56164e958dc0)\n",
      "\n",
      "QObject::moveToThread: Current thread (0x56164e958dc0) is not the object's thread (0x56160ca6b490).\n",
      "Cannot move to target thread (0x56164e958dc0)\n",
      "\n",
      "QObject::moveToThread: Current thread (0x56164e958dc0) is not the object's thread (0x56160ca6b490).\n",
      "Cannot move to target thread (0x56164e958dc0)\n",
      "\n",
      "QObject::moveToThread: Current thread (0x56164e958dc0) is not the object's thread (0x56160ca6b490).\n",
      "Cannot move to target thread (0x56164e958dc0)\n",
      "\n",
      "QObject::moveToThread: Current thread (0x56164e958dc0) is not the object's thread (0x56160ca6b490).\n",
      "Cannot move to target thread (0x56164e958dc0)\n",
      "\n",
      "QObject::moveToThread: Current thread (0x56164e958dc0) is not the object's thread (0x56160ca6b490).\n",
      "Cannot move to target thread (0x56164e958dc0)\n",
      "\n",
      "QObject::moveToThread: Current thread (0x56164e958dc0) is not the object's thread (0x56160ca6b490).\n",
      "Cannot move to target thread (0x56164e958dc0)\n",
      "\n",
      "QObject::moveToThread: Current thread (0x56164e958dc0) is not the object's thread (0x56160ca6b490).\n",
      "Cannot move to target thread (0x56164e958dc0)\n",
      "\n",
      "QObject::moveToThread: Current thread (0x56164e958dc0) is not the object's thread (0x56160ca6b490).\n",
      "Cannot move to target thread (0x56164e958dc0)\n",
      "\n",
      "QObject::moveToThread: Current thread (0x56164e958dc0) is not the object's thread (0x56160ca6b490).\n",
      "Cannot move to target thread (0x56164e958dc0)\n",
      "\n",
      "QObject::moveToThread: Current thread (0x56164e958dc0) is not the object's thread (0x56160ca6b490).\n",
      "Cannot move to target thread (0x56164e958dc0)\n",
      "\n",
      "QObject::moveToThread: Current thread (0x56164e958dc0) is not the object's thread (0x56160ca6b490).\n",
      "Cannot move to target thread (0x56164e958dc0)\n",
      "\n",
      "QObject::moveToThread: Current thread (0x56164e958dc0) is not the object's thread (0x56160ca6b490).\n",
      "Cannot move to target thread (0x56164e958dc0)\n",
      "\n",
      "QObject::moveToThread: Current thread (0x56164e958dc0) is not the object's thread (0x56160ca6b490).\n",
      "Cannot move to target thread (0x56164e958dc0)\n",
      "\n",
      "QObject::moveToThread: Current thread (0x56164e958dc0) is not the object's thread (0x56160ca6b490).\n",
      "Cannot move to target thread (0x56164e958dc0)\n",
      "\n",
      "QObject::moveToThread: Current thread (0x56164e958dc0) is not the object's thread (0x56160ca6b490).\n",
      "Cannot move to target thread (0x56164e958dc0)\n",
      "\n",
      "QObject::moveToThread: Current thread (0x56164e958dc0) is not the object's thread (0x56160ca6b490).\n",
      "Cannot move to target thread (0x56164e958dc0)\n",
      "\n",
      "QObject::moveToThread: Current thread (0x56164e958dc0) is not the object's thread (0x56160ca6b490).\n",
      "Cannot move to target thread (0x56164e958dc0)\n",
      "\n",
      "QObject::moveToThread: Current thread (0x56164e958dc0) is not the object's thread (0x56160ca6b490).\n",
      "Cannot move to target thread (0x56164e958dc0)\n",
      "\n",
      "QObject::moveToThread: Current thread (0x56164e958dc0) is not the object's thread (0x56160ca6b490).\n",
      "Cannot move to target thread (0x56164e958dc0)\n",
      "\n",
      "QObject::moveToThread: Current thread (0x56164e958dc0) is not the object's thread (0x56160ca6b490).\n",
      "Cannot move to target thread (0x56164e958dc0)\n",
      "\n",
      "QObject::moveToThread: Current thread (0x56164e958dc0) is not the object's thread (0x56160ca6b490).\n",
      "Cannot move to target thread (0x56164e958dc0)\n",
      "\n",
      "QObject::moveToThread: Current thread (0x56164e958dc0) is not the object's thread (0x56160ca6b490).\n",
      "Cannot move to target thread (0x56164e958dc0)\n",
      "\n",
      "QObject::moveToThread: Current thread (0x56164e958dc0) is not the object's thread (0x56160ca6b490).\n",
      "Cannot move to target thread (0x56164e958dc0)\n",
      "\n",
      "QObject::moveToThread: Current thread (0x56164e958dc0) is not the object's thread (0x56160ca6b490).\n",
      "Cannot move to target thread (0x56164e958dc0)\n",
      "\n",
      "QObject::moveToThread: Current thread (0x56164e958dc0) is not the object's thread (0x56160ca6b490).\n",
      "Cannot move to target thread (0x56164e958dc0)\n",
      "\n",
      "QObject::moveToThread: Current thread (0x56164e958dc0) is not the object's thread (0x56160ca6b490).\n",
      "Cannot move to target thread (0x56164e958dc0)\n",
      "\n",
      "QObject::moveToThread: Current thread (0x56164e958dc0) is not the object's thread (0x56160ca6b490).\n",
      "Cannot move to target thread (0x56164e958dc0)\n",
      "\n",
      "QObject::moveToThread: Current thread (0x56164e958dc0) is not the object's thread (0x56160ca6b490).\n",
      "Cannot move to target thread (0x56164e958dc0)\n",
      "\n",
      "QObject::moveToThread: Current thread (0x56164e958dc0) is not the object's thread (0x56160ca6b490).\n",
      "Cannot move to target thread (0x56164e958dc0)\n",
      "\n",
      "QObject::moveToThread: Current thread (0x56164e958dc0) is not the object's thread (0x56160ca6b490).\n",
      "Cannot move to target thread (0x56164e958dc0)\n",
      "\n",
      "QObject::moveToThread: Current thread (0x56164e958dc0) is not the object's thread (0x56160ca6b490).\n",
      "Cannot move to target thread (0x56164e958dc0)\n",
      "\n",
      "QObject::moveToThread: Current thread (0x56164e958dc0) is not the object's thread (0x56160ca6b490).\n",
      "Cannot move to target thread (0x56164e958dc0)\n",
      "\n",
      "QObject::moveToThread: Current thread (0x56164e958dc0) is not the object's thread (0x56160ca6b490).\n",
      "Cannot move to target thread (0x56164e958dc0)\n",
      "\n"
     ]
    }
   ],
   "source": [
    "cv2.namedWindow('RealSense', cv2.WINDOW_AUTOSIZE)\n",
    "\n",
    "num_sample = 300\n",
    "\n",
    "for (i, recording_path_rs) in enumerate(recording_paths_rs):\n",
    "    for j in range(num_sample):\n",
    "        depth_image = cv_depth_videos[i][j]\n",
    "        color_image = cv_color_videos[i][j]\n",
    "\n",
    "        depth_colormap = cv2.applyColorMap(cv2.convertScaleAbs(depth_image, alpha=255/8), cv2.COLORMAP_INFERNO)\n",
    "\n",
    "        depth_colormap_dim = depth_colormap.shape\n",
    "        color_colormap_dim = color_image.shape\n",
    "\n",
    "        # If depth and color resolutions are different, resize color image to match depth image for display\n",
    "        added_image = cv2.addWeighted(depth_colormap,0.4,color_image,0.1,0)\n",
    "        \n",
    "        images = np.hstack((color_image, depth_colormap, added_image))\n",
    "\n",
    "        # Show images\n",
    "        cv2.imshow('RealSense', images)\n",
    "        cv2.waitKey(1)\n",
    "        \n",
    "cv2.destroyAllWindows()"
   ]
  },
  {
   "attachments": {},
   "cell_type": "markdown",
   "metadata": {},
   "source": [
    "### Load Skeleton data\n",
    "\n",
    "Next we load the human pose estimation data. The human pose estimation data is stored in a json."
   ]
  }
 ],
 "metadata": {
  "kernelspec": {
   "display_name": ".env",
   "language": "python",
   "name": "python3"
  },
  "language_info": {
   "codemirror_mode": {
    "name": "ipython",
    "version": 3
   },
   "file_extension": ".py",
   "mimetype": "text/x-python",
   "name": "python",
   "nbconvert_exporter": "python",
   "pygments_lexer": "ipython3",
   "version": "3.9.12"
  },
  "orig_nbformat": 4,
  "vscode": {
   "interpreter": {
    "hash": "664018c6b3995907c30866e98b0660acb95a9fe8c739e9e389ffb1e842754803"
   }
  }
 },
 "nbformat": 4,
 "nbformat_minor": 2
}
