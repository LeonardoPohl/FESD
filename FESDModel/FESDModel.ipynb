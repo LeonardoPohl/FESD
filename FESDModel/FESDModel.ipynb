{
 "cells": [
  {
   "attachments": {},
   "cell_type": "markdown",
   "metadata": {},
   "source": [
    "# FESDModel\n",
    "\n",
    "FESD - Fault estimation for skeleton detection - is a suite that aims at finding faults in joints of skeletons, which are detected by human pose estimatiors.\n",
    "\n",
    "FESDData is the sister project to this notebook, which aims at recording depth and rgb data, as well as populating the data with human poses from variing human pose estimators.\n",
    "\n",
    "Furthermore, FESTData augments all data based on joint confidence.\n",
    "\n",
    "FFESDModel aims to develop and evaluate a model based on the faulty and augmented joint data as well as RGBD data."
   ]
  },
  {
   "attachments": {},
   "cell_type": "markdown",
   "metadata": {},
   "source": [
    "## Libraries\n",
    "\n",
    "We need a range of libraries which are imported here. We also define some constants."
   ]
  },
  {
   "cell_type": "code",
   "execution_count": 1,
   "metadata": {},
   "outputs": [],
   "source": [
    "%load_ext autoreload\n",
    "%autoreload 2"
   ]
  },
  {
   "cell_type": "code",
   "execution_count": 2,
   "metadata": {},
   "outputs": [
    {
     "name": "stdout",
     "output_type": "stream",
     "text": [
      "Num cuda GPUs: 1\n"
     ]
    }
   ],
   "source": [
    "import os\n",
    "from pathlib import Path\n",
    "from time import time\n",
    "\n",
    "from data import FESDDataset\n",
    "from data import Frame, AugmentationParams\n",
    "import json\n",
    "import numpy as np\n",
    "import matplotlib.pyplot as plt\n",
    "import pandas as pd\n",
    "pd.options.mode.chained_assignment = None\n",
    "import seaborn as sns\n",
    "sns.set()\n",
    "\n",
    "import cv2\n",
    "\n",
    "from model import FESD, FESDv2, train, val, test\n",
    "import copy\n",
    "\n",
    "import scipy\n",
    "\n",
    "import torch\n",
    "import torch.nn as nn\n",
    "import torchvision\n",
    "from torchvision import transforms\n",
    "import torch.nn.functional as F\n",
    "from torchvision.models import EfficientNet_V2_M_Weights\n",
    "\n",
    "import datetime\n",
    "\n",
    "from utils import AvgMeter, clip_gradient, get_scheduler\n",
    "from utils.mode import Mode\n",
    "from utils import err2gt, gt2err\n",
    "\n",
    "from copy import deepcopy\n",
    "\n",
    "from tqdm.notebook import tqdm\n",
    "\n",
    "num_gpus = torch.cuda.device_count()\n",
    "is_cuda = torch.cuda.is_available()\n",
    "print(f\"Num cuda GPUs: {num_gpus}\")"
   ]
  },
  {
   "cell_type": "code",
   "execution_count": 3,
   "metadata": {},
   "outputs": [],
   "source": [
    "RECORDING_DIR = Path('H:/Recordings/')\n",
    "CHECKPOINT_DIR = Path('checkpoints')"
   ]
  },
  {
   "attachments": {},
   "cell_type": "markdown",
   "metadata": {},
   "source": [
    "## Data Loading\n",
    "\n",
    "Firstly we need to import all the recordings into the notebook.\n"
   ]
  },
  {
   "cell_type": "code",
   "execution_count": 4,
   "metadata": {},
   "outputs": [
    {
     "data": {
      "text/plain": [
       "13"
      ]
     },
     "execution_count": 4,
     "metadata": {},
     "output_type": "execute_result"
    }
   ],
   "source": [
    "with open(file=\"Exercises.json\", mode='r') as file:\n",
    "  exercises_json = json.load(file)['Exercises']\n",
    "\n",
    "with open(file=\"JointErrors.json\", mode='r') as file:\n",
    "  joint_error_json = json.load(file)\n",
    "\n",
    "with open(file=\"SkeletonErrors.json\", mode='r') as file:\n",
    "  skeleton_error_json = json.load(file)\n",
    "\n",
    "len(exercises_json)"
   ]
  },
  {
   "cell_type": "code",
   "execution_count": 5,
   "metadata": {},
   "outputs": [
    {
     "name": "stdout",
     "output_type": "stream",
     "text": [
      "Recordings Found: 17\n",
      "Total Frames: 510\n",
      "Recordings Found: 9\n",
      "Total Frames: 270\n"
     ]
    }
   ],
   "source": [
    "batchsize = 3\n",
    "im_size = 400\n",
    "\n",
    "test_exercises = ['E-0.01', 'E-1.01', 'E-2.01', 'E-3.01']\n",
    "\n",
    "use_v2 = True\n",
    "if use_v2:\n",
    "  model = FESDv2\n",
    "else:\n",
    "  model = FESD\n",
    "\n",
    "dataset_train = FESDDataset(RECORDING_DIR, im_size, test_exercises, randomize_augmentation_params=True, use_v2=use_v2)\n",
    "dataset_train.randomize_augmentation_params = True\n",
    "\n",
    "dataset_test = FESDDataset(RECORDING_DIR, im_size, test_exercises, test=True, use_v2=use_v2)\n",
    "\n",
    "train_loader = torch.utils.data.DataLoader(dataset_train, batch_size=batchsize)\n",
    "test_loader = torch.utils.data.DataLoader(dataset_test)"
   ]
  },
  {
   "cell_type": "code",
   "execution_count": 6,
   "metadata": {},
   "outputs": [],
   "source": [
    "joint_names_all = [\"-\", \"Head\", \"Neck\", \"Torso\", \"Waist\", \"Left collar\", \"Left shoulder\", \"Left elbow\", \"Left wrist\", \"Left hand\", \"-\", \"Right collar\", \"Right shoulder\", \"Right elbow\", \"Right wrist\", \"Right hand\", \"-\", \"Left hip\", \"Left knee\", \"Left ankle\", \"-\", \"Right hip\", \"Right knee\", \"Right ankle\", \"-\"]\n",
    "joint_names = [i for i in joint_names_all if i != '-']\n",
    "\n",
    "body_halves = np.array([\"Upper Half\", \"Lower Half\"])\n",
    "limbs = np.array([\"Head\", \"Torso\", \"Left arm\", \"Right arm\", \"Left leg\", \"Right leg\"])\n",
    "\n",
    "upper_body_i = [0, 1, 2, 4, 5, 6, 7, 8, 9, 10, 11, 12, 13]\n",
    "lower_body_i = [3, 14, 15, 16, 17, 18, 19]\n",
    "\n",
    "torso_i     = [2, 3, 4, 9]\n",
    "head_i      = [0, 1]\n",
    "left_arm_i  = [5, 6, 7, 8]\n",
    "right_arm_i = [10, 11, 12, 13]\n",
    "left_leg_i  = [14, 15, 16]\n",
    "right_leg_i = [17, 18, 19]\n",
    "\n",
    "joint_errors = []\n",
    "for je in joint_error_json:\n",
    "  joint_errors.append(je[\"Name\"])"
   ]
  },
  {
   "attachments": {},
   "cell_type": "markdown",
   "metadata": {},
   "source": [
    "## Model\n",
    "\n",
    "Build the model according to the chosen mode"
   ]
  },
  {
   "cell_type": "code",
   "execution_count": 7,
   "metadata": {},
   "outputs": [],
   "source": [
    "all_modes = True\n",
    "mode = Mode.FULL_BODY\n",
    "\n",
    "if all_modes:\n",
    "  model_full_body = nn.DataParallel(model(Mode.FULL_BODY.get_num_layers()))\n",
    "  model_half_body = nn.DataParallel(model(Mode.HALF_BODY.get_num_layers()))\n",
    "  model_limbs     = nn.DataParallel(model(Mode.LIMBS.get_num_layers()))\n",
    "  model_joints    = nn.DataParallel(model(Mode.JOINTS.get_num_layers()))\n",
    "else:\n",
    "  model = nn.DataParallel(model(mode.get_num_layers()))\n",
    "\n",
    "if is_cuda:\n",
    "  if all_modes:\n",
    "    model_full_body = model_full_body.cuda()\n",
    "    model_half_body = model_half_body.cuda()\n",
    "    model_limbs     = model_limbs.cuda()\n",
    "    model_joints    = model_joints.cuda()\n",
    "  else:\n",
    "    model = model.cuda()"
   ]
  },
  {
   "attachments": {},
   "cell_type": "markdown",
   "metadata": {},
   "source": [
    "### Train Model\n",
    "\n",
    "In the following we define the training function and train a network on the training data."
   ]
  },
  {
   "cell_type": "code",
   "execution_count": 8,
   "metadata": {},
   "outputs": [
    {
     "name": "stdout",
     "output_type": "stream",
     "text": [
      "Recordings Found: 17\n",
      "Total Frames: 510\n",
      "Recordings Found: 9\n",
      "Total Frames: 270\n",
      "Recordings Found: 17\n",
      "Total Frames: 510\n",
      "Recordings Found: 9\n",
      "Total Frames: 270\n",
      "Recordings Found: 17\n",
      "Total Frames: 510\n",
      "Recordings Found: 9\n",
      "Total Frames: 270\n",
      "Recordings Found: 17\n",
      "Total Frames: 510\n",
      "Recordings Found: 9\n",
      "Total Frames: 270\n"
     ]
    }
   ],
   "source": [
    "if (all_modes):\n",
    "  train_loader_full_body  = torch.utils.data.DataLoader(FESDDataset(RECORDING_DIR, im_size, test_exercises=test_exercises, mode=Mode.FULL_BODY, randomize_augmentation_params=True, use_v2=use_v2), batch_size=batchsize, shuffle=True)\n",
    "  test_loader_full_body   = torch.utils.data.DataLoader(FESDDataset(RECORDING_DIR, im_size, test_exercises=test_exercises, mode=Mode.FULL_BODY, test=True, use_v2=use_v2))\n",
    "  train_loader_half_body  = torch.utils.data.DataLoader(FESDDataset(RECORDING_DIR, im_size, test_exercises=test_exercises, mode=Mode.HALF_BODY, randomize_augmentation_params=True, use_v2=use_v2), batch_size=batchsize, shuffle=True)\n",
    "  test_loader_half_body   = torch.utils.data.DataLoader(FESDDataset(RECORDING_DIR, im_size, test_exercises=test_exercises, mode=Mode.HALF_BODY, test=True, use_v2=use_v2))\n",
    "  train_loader_limbs      = torch.utils.data.DataLoader(FESDDataset(RECORDING_DIR, im_size, test_exercises=test_exercises, mode=Mode.LIMBS, randomize_augmentation_params=True, use_v2=use_v2), batch_size=batchsize, shuffle=True)\n",
    "  test_loader_limbs       = torch.utils.data.DataLoader(FESDDataset(RECORDING_DIR, im_size, test_exercises=test_exercises, mode=Mode.LIMBS, test=True, use_v2=use_v2))\n",
    "  train_loader_joints     = torch.utils.data.DataLoader(FESDDataset(RECORDING_DIR, im_size, test_exercises=test_exercises, mode=Mode.JOINTS, randomize_augmentation_params=True, use_v2=use_v2), batch_size=batchsize, shuffle=True)\n",
    "  test_loader_joints      = torch.utils.data.DataLoader(FESDDataset(RECORDING_DIR, im_size, test_exercises=test_exercises, mode=Mode.JOINTS, test=True, use_v2=use_v2))\n",
    "\n",
    "else:\n",
    "  train_loader = torch.utils.data.DataLoader(dataset_train, batch_size=batchsize)\n",
    "  test_loader = torch.utils.data.DataLoader(dataset_test)"
   ]
  },
  {
   "cell_type": "code",
   "execution_count": 9,
   "metadata": {},
   "outputs": [],
   "source": [
    "\"\"\"\n",
    "torchrun --nproc_per_node=8 train.py \\\n",
    "--model $MODEL --batch-size 128 --lr 0.5 --lr-scheduler cosineannealinglr \\\n",
    "--lr-warmup-epochs 5 --lr-warmup-method linear --auto-augment ta_wide --epochs 600 --random-erase 0.1 \\\n",
    "--label-smoothing 0.1 --mixup-alpha 0.2 --cutmix-alpha 1.0 --weight-decay 0.00002 --norm-weight-decay 0.0 \\\n",
    "--train-crop-size $TRAIN_SIZE --model-ema --val-crop-size $EVAL_SIZE --val-resize-size $EVAL_SIZE \\\n",
    "--ra-sampler --ra-reps 4\n",
    "\"\"\"\n",
    "\n",
    "# epoch number\n",
    "epochs = 100\n",
    "# optimizer\n",
    "optim = 'adam'\n",
    "# learning rate\n",
    "learning_rate = 0.005\n",
    "# learning rate scheduler. can be step, poly or cosine\n",
    "lr_scheduler = 'cosine'\n",
    "# warmup epoch\n",
    "warmup_epoch = 0\n",
    "# warmup multiplier\n",
    "warmup_multiplier = 100\n",
    "# for step scheduler. where to decay lr, can be a list\n",
    "lr_decay_epochs = [120, 160, 200]\n",
    "# for step scheduler. step size to decay lr\n",
    "lr_decay_steps = 20 \n",
    "# for step scheduler. decay rate for learning rate\n",
    "lr_decay_rate = 0.01\n",
    "# weight decay\n",
    "weight_decay = 0.0001\n",
    "# momentum for SGD\n",
    "momentum = 0.9\n",
    "# gradient clipping margin\n",
    "clip = 0.5"
   ]
  },
  {
   "cell_type": "code",
   "execution_count": 10,
   "metadata": {},
   "outputs": [],
   "source": [
    "n_data = len(train_loader.dataset)\n",
    "CE = torch.nn.CrossEntropyLoss()\n",
    "\n",
    "if mode == Mode.FULL_BODY:\n",
    "    CE = torch.nn.CrossEntropyLoss()\n",
    "\n",
    "if is_cuda:\n",
    "    CE = CE.cuda()\n",
    "\n",
    "if all_modes:\n",
    "    if optim == 'adam':\n",
    "        optimizer_full_body = torch.optim.Adam(model_full_body.parameters(),    learning_rate, weight_decay=weight_decay)\n",
    "        optimizer_half_body = torch.optim.Adam(model_half_body.parameters(),    learning_rate, weight_decay=weight_decay)\n",
    "        optimizer_limbs     = torch.optim.Adam(model_limbs.parameters(),        learning_rate, weight_decay=weight_decay)\n",
    "        optimizer_joints    = torch.optim.Adam(model_joints.parameters(),       learning_rate, weight_decay=weight_decay)\n",
    "    elif optim == 'adamW':\n",
    "        optimizer_full_body = torch.optim.AdamW(model_full_body.parameters(),   learning_rate, weight_decay=weight_decay)\n",
    "        optimizer_half_body = torch.optim.AdamW(model_half_body.parameters(),   learning_rate, weight_decay=weight_decay)\n",
    "        optimizer_limbs     = torch.optim.AdamW(model_limbs.parameters(),       learning_rate, weight_decay=weight_decay)\n",
    "        optimizer_joints    = torch.optim.AdamW(model_joints.parameters(),      learning_rate, weight_decay=weight_decay)\n",
    "    elif optim == 'sdg':\n",
    "        optimizer_full_body = torch.optim.SGD(model_full_body.parameters(),     learning_rate / 10.0 * batchsize, momentum=momentum, weight_decay=weight_decay)\n",
    "        optimizer_half_body = torch.optim.SGD(model_half_body.parameters(),     learning_rate / 10.0 * batchsize, momentum=momentum, weight_decay=weight_decay)\n",
    "        optimizer_limbs     = torch.optim.SGD(model_limbs.parameters(),         learning_rate / 10.0 * batchsize, momentum=momentum, weight_decay=weight_decay)\n",
    "        optimizer_joints    = torch.optim.SGD(model_joints.parameters(),        learning_rate / 10.0 * batchsize, momentum=momentum, weight_decay=weight_decay)\n",
    "\n",
    "    scheduler_full_body     = get_scheduler(optimizer_full_body, len(train_loader_full_body), lr_scheduler, lr_decay_epochs, lr_decay_steps, lr_decay_rate, epochs, warmup_epoch,     warmup_multiplier)\n",
    "    scheduler_half_body     = get_scheduler(optimizer_half_body, len(train_loader_half_body), lr_scheduler, lr_decay_epochs, lr_decay_steps, lr_decay_rate, epochs, warmup_epoch, warmup_multiplier)\n",
    "    scheduler_limbs         = get_scheduler(optimizer_limbs, len(train_loader_limbs), lr_scheduler, lr_decay_epochs, lr_decay_steps, lr_decay_rate, epochs, warmup_epoch, warmup_multiplier)\n",
    "    scheduler_joints        = get_scheduler(optimizer_joints, len(train_loader_joints), lr_scheduler, lr_decay_epochs, lr_decay_steps, lr_decay_rate, epochs, warmup_epoch, warmup_multiplier)\n",
    "else:\n",
    "    if optim == 'adam':\n",
    "        optimizer = torch.optim.Adam(model.parameters(), learning_rate, weight_decay=weight_decay)\n",
    "    elif optim == 'adamW':\n",
    "        optimizer = torch.optim.AdamW(model.parameters(), learning_rate, weight_decay=weight_decay)\n",
    "    elif optim == 'sdg':\n",
    "        optimizer = torch.optim.SGD(model.parameters(), learning_rate / 10.0 * batchsize, momentum=momentum, weight_decay=weight_decay)\n",
    "\n",
    "    scheduler = get_scheduler(optimizer, len(train_loader), lr_scheduler, lr_decay_epochs, lr_decay_steps, lr_decay_rate, epochs, warmup_epoch, warmup_multiplier)\n"
   ]
  },
  {
   "cell_type": "code",
   "execution_count": 11,
   "metadata": {},
   "outputs": [],
   "source": [
    "if all_modes:\n",
    "    model_iterator = list(zip([Mode.FULL_BODY,          Mode.HALF_BODY,         Mode.LIMBS,         Mode.JOINTS], \n",
    "                              [model_full_body,         model_half_body,        model_limbs,        model_joints], \n",
    "                              [optimizer_full_body,     optimizer_half_body,    optimizer_limbs,    optimizer_joints], \n",
    "                              [scheduler_full_body,     scheduler_half_body,    scheduler_limbs,    scheduler_joints],\n",
    "                              [train_loader_full_body,  train_loader_half_body, train_loader_limbs, train_loader_joints], \n",
    "                              [test_loader_full_body,   test_loader_half_body,  test_loader_limbs,  test_loader_joints]))"
   ]
  },
  {
   "cell_type": "code",
   "execution_count": 12,
   "metadata": {},
   "outputs": [
    {
     "data": {
      "application/vnd.jupyter.widget-view+json": {
       "model_id": "ed96cb181c874ba6ac35e681b28f6dc0",
       "version_major": 2,
       "version_minor": 0
      },
      "text/plain": [
       "Epoch:   0%|          | 0/100 [00:00<?, ?it/s]"
      ]
     },
     "metadata": {},
     "output_type": "display_data"
    },
    {
     "name": "stdout",
     "output_type": "stream",
     "text": [
      "---   1 ---\n",
      "Epoch (mode:  full body, lr: 4.999e-03, loss: -6.534e+04, acc: 0.480, f1: 0.388, precision: 0.565, recall: 0.314, kappa: -0.001, time: 72.56s)\n",
      "Epoch (mode:  half body, lr: 4.999e-03, loss: -1.993e+05, acc: 0.664, f1: 0.365, precision: 0.311, recall: 0.486, kappa: -0.002, time: 70.11s)\n",
      "Epoch (mode:      limbs, lr: 4.999e-03, loss: -6.523e+05, acc: 0.598, f1: 0.447, precision: 0.491, recall: 0.460, kappa: 0.001, time: 73.46s)\n",
      "Epoch (mode:     joints, lr: 4.999e-03, loss: -5.496e+06, acc: 0.298, f1: 0.205, precision: 0.344, recall: 0.241, kappa: -0.013, time: 98.17s)\n",
      "---   2 ---\n"
     ]
    },
    {
     "name": "stderr",
     "output_type": "stream",
     "text": [
      "C:\\Users\\pohly\\AppData\\Local\\Temp\\ipykernel_17960\\3531825925.py:19: UserWarning: Boolean Series key will be reindexed to match DataFrame index.\n",
      "  last_row = df_model[df_model[\"epoch\"] == epoch][df_model[\"mode\"] == mode.name.lower()].mean(numeric_only=True)\n"
     ]
    },
    {
     "name": "stdout",
     "output_type": "stream",
     "text": [
      "Epoch (mode:  full body, lr: 4.995e-03, loss: -7.565e+05, acc: 0.492, f1: 0.416, precision: 0.594, recall: 0.341, kappa: 0.039, time: 70.25s)\n"
     ]
    },
    {
     "name": "stderr",
     "output_type": "stream",
     "text": [
      "C:\\Users\\pohly\\AppData\\Local\\Temp\\ipykernel_17960\\3531825925.py:19: UserWarning: Boolean Series key will be reindexed to match DataFrame index.\n",
      "  last_row = df_model[df_model[\"epoch\"] == epoch][df_model[\"mode\"] == mode.name.lower()].mean(numeric_only=True)\n"
     ]
    },
    {
     "name": "stdout",
     "output_type": "stream",
     "text": [
      "Epoch (mode:  half body, lr: 4.995e-03, loss: -2.671e+06, acc: 0.664, f1: 0.373, precision: 0.327, recall: 0.488, kappa: -0.002, time: 71.02s)\n"
     ]
    },
    {
     "name": "stderr",
     "output_type": "stream",
     "text": [
      "C:\\Users\\pohly\\AppData\\Local\\Temp\\ipykernel_17960\\3531825925.py:19: UserWarning: Boolean Series key will be reindexed to match DataFrame index.\n",
      "  last_row = df_model[df_model[\"epoch\"] == epoch][df_model[\"mode\"] == mode.name.lower()].mean(numeric_only=True)\n"
     ]
    },
    {
     "name": "stdout",
     "output_type": "stream",
     "text": [
      "Epoch (mode:      limbs, lr: 4.995e-03, loss: -7.762e+06, acc: 0.522, f1: 0.373, precision: 0.452, recall: 0.357, kappa: 0.003, time: 74.96s)\n"
     ]
    },
    {
     "name": "stderr",
     "output_type": "stream",
     "text": [
      "C:\\Users\\pohly\\AppData\\Local\\Temp\\ipykernel_17960\\3531825925.py:19: UserWarning: Boolean Series key will be reindexed to match DataFrame index.\n",
      "  last_row = df_model[df_model[\"epoch\"] == epoch][df_model[\"mode\"] == mode.name.lower()].mean(numeric_only=True)\n"
     ]
    },
    {
     "name": "stdout",
     "output_type": "stream",
     "text": [
      "Epoch (mode:     joints, lr: 4.995e-03, loss: -6.009e+07, acc: 0.233, f1: 0.146, precision: 0.267, recall: 0.164, kappa: -0.010, time: 107.18s)\n",
      "---   3 ---\n"
     ]
    },
    {
     "name": "stderr",
     "output_type": "stream",
     "text": [
      "C:\\Users\\pohly\\AppData\\Local\\Temp\\ipykernel_17960\\3531825925.py:19: UserWarning: Boolean Series key will be reindexed to match DataFrame index.\n",
      "  last_row = df_model[df_model[\"epoch\"] == epoch][df_model[\"mode\"] == mode.name.lower()].mean(numeric_only=True)\n"
     ]
    },
    {
     "name": "stdout",
     "output_type": "stream",
     "text": [
      "Epoch (mode:  full body, lr: 4.989e-03, loss: -2.780e+06, acc: 0.510, f1: 0.412, precision: 0.618, recall: 0.325, kappa: 0.059, time: 70.85s)\n"
     ]
    },
    {
     "name": "stderr",
     "output_type": "stream",
     "text": [
      "C:\\Users\\pohly\\AppData\\Local\\Temp\\ipykernel_17960\\3531825925.py:19: UserWarning: Boolean Series key will be reindexed to match DataFrame index.\n",
      "  last_row = df_model[df_model[\"epoch\"] == epoch][df_model[\"mode\"] == mode.name.lower()].mean(numeric_only=True)\n"
     ]
    },
    {
     "name": "stdout",
     "output_type": "stream",
     "text": [
      "Epoch (mode:  half body, lr: 4.989e-03, loss: -1.105e+07, acc: 0.654, f1: 0.380, precision: 0.329, recall: 0.499, kappa: 0.000, time: 72.18s)\n"
     ]
    },
    {
     "name": "stderr",
     "output_type": "stream",
     "text": [
      "C:\\Users\\pohly\\AppData\\Local\\Temp\\ipykernel_17960\\3531825925.py:19: UserWarning: Boolean Series key will be reindexed to match DataFrame index.\n",
      "  last_row = df_model[df_model[\"epoch\"] == epoch][df_model[\"mode\"] == mode.name.lower()].mean(numeric_only=True)\n"
     ]
    },
    {
     "name": "stdout",
     "output_type": "stream",
     "text": [
      "Epoch (mode:      limbs, lr: 4.989e-03, loss: -3.141e+07, acc: 0.476, f1: 0.332, precision: 0.423, recall: 0.311, kappa: -0.007, time: 76.95s)\n"
     ]
    },
    {
     "name": "stderr",
     "output_type": "stream",
     "text": [
      "C:\\Users\\pohly\\AppData\\Local\\Temp\\ipykernel_17960\\3531825925.py:19: UserWarning: Boolean Series key will be reindexed to match DataFrame index.\n",
      "  last_row = df_model[df_model[\"epoch\"] == epoch][df_model[\"mode\"] == mode.name.lower()].mean(numeric_only=True)\n"
     ]
    },
    {
     "name": "stdout",
     "output_type": "stream",
     "text": [
      "Epoch (mode:     joints, lr: 4.989e-03, loss: -2.221e+08, acc: 0.226, f1: 0.138, precision: 0.251, recall: 0.156, kappa: -0.008, time: 116.30s)\n",
      "---   4 ---\n"
     ]
    },
    {
     "name": "stderr",
     "output_type": "stream",
     "text": [
      "C:\\Users\\pohly\\AppData\\Local\\Temp\\ipykernel_17960\\3531825925.py:19: UserWarning: Boolean Series key will be reindexed to match DataFrame index.\n",
      "  last_row = df_model[df_model[\"epoch\"] == epoch][df_model[\"mode\"] == mode.name.lower()].mean(numeric_only=True)\n"
     ]
    },
    {
     "name": "stdout",
     "output_type": "stream",
     "text": [
      "Epoch (mode:  full body, lr: 4.980e-03, loss: -6.801e+06, acc: 0.439, f1: 0.335, precision: 0.515, recall: 0.261, kappa: -0.081, time: 71.19s)\n"
     ]
    },
    {
     "name": "stderr",
     "output_type": "stream",
     "text": [
      "C:\\Users\\pohly\\AppData\\Local\\Temp\\ipykernel_17960\\3531825925.py:19: UserWarning: Boolean Series key will be reindexed to match DataFrame index.\n",
      "  last_row = df_model[df_model[\"epoch\"] == epoch][df_model[\"mode\"] == mode.name.lower()].mean(numeric_only=True)\n"
     ]
    },
    {
     "name": "stdout",
     "output_type": "stream",
     "text": [
      "Epoch (mode:  half body, lr: 4.980e-03, loss: -2.939e+07, acc: 0.658, f1: 0.398, precision: 0.351, recall: 0.514, kappa: 0.017, time: 72.66s)\n"
     ]
    },
    {
     "name": "stderr",
     "output_type": "stream",
     "text": [
      "C:\\Users\\pohly\\AppData\\Local\\Temp\\ipykernel_17960\\3531825925.py:19: UserWarning: Boolean Series key will be reindexed to match DataFrame index.\n",
      "  last_row = df_model[df_model[\"epoch\"] == epoch][df_model[\"mode\"] == mode.name.lower()].mean(numeric_only=True)\n"
     ]
    },
    {
     "name": "stdout",
     "output_type": "stream",
     "text": [
      "Epoch (mode:      limbs, lr: 4.980e-03, loss: -8.746e+07, acc: 0.467, f1: 0.306, precision: 0.406, recall: 0.277, kappa: -0.008, time: 78.28s)\n"
     ]
    },
    {
     "name": "stderr",
     "output_type": "stream",
     "text": [
      "C:\\Users\\pohly\\AppData\\Local\\Temp\\ipykernel_17960\\3531825925.py:19: UserWarning: Boolean Series key will be reindexed to match DataFrame index.\n",
      "  last_row = df_model[df_model[\"epoch\"] == epoch][df_model[\"mode\"] == mode.name.lower()].mean(numeric_only=True)\n"
     ]
    },
    {
     "name": "stdout",
     "output_type": "stream",
     "text": [
      "Epoch (mode:     joints, lr: 4.980e-03, loss: -5.871e+08, acc: 0.263, f1: 0.169, precision: 0.290, recall: 0.197, kappa: -0.005, time: 124.46s)\n",
      "---   5 ---\n"
     ]
    },
    {
     "name": "stderr",
     "output_type": "stream",
     "text": [
      "C:\\Users\\pohly\\AppData\\Local\\Temp\\ipykernel_17960\\3531825925.py:19: UserWarning: Boolean Series key will be reindexed to match DataFrame index.\n",
      "  last_row = df_model[df_model[\"epoch\"] == epoch][df_model[\"mode\"] == mode.name.lower()].mean(numeric_only=True)\n"
     ]
    },
    {
     "name": "stdout",
     "output_type": "stream",
     "text": [
      "Epoch (mode:  full body, lr: 4.969e-03, loss: -1.350e+07, acc: 0.441, f1: 0.352, precision: 0.521, recall: 0.281, kappa: -0.070, time: 70.88s)\n"
     ]
    },
    {
     "name": "stderr",
     "output_type": "stream",
     "text": [
      "C:\\Users\\pohly\\AppData\\Local\\Temp\\ipykernel_17960\\3531825925.py:19: UserWarning: Boolean Series key will be reindexed to match DataFrame index.\n",
      "  last_row = df_model[df_model[\"epoch\"] == epoch][df_model[\"mode\"] == mode.name.lower()].mean(numeric_only=True)\n"
     ]
    },
    {
     "name": "stdout",
     "output_type": "stream",
     "text": [
      "Epoch (mode:  half body, lr: 4.969e-03, loss: -6.229e+07, acc: 0.643, f1: 0.401, precision: 0.358, recall: 0.507, kappa: 0.015, time: 72.58s)\n"
     ]
    },
    {
     "name": "stderr",
     "output_type": "stream",
     "text": [
      "C:\\Users\\pohly\\AppData\\Local\\Temp\\ipykernel_17960\\3531825925.py:19: UserWarning: Boolean Series key will be reindexed to match DataFrame index.\n",
      "  last_row = df_model[df_model[\"epoch\"] == epoch][df_model[\"mode\"] == mode.name.lower()].mean(numeric_only=True)\n"
     ]
    },
    {
     "name": "stdout",
     "output_type": "stream",
     "text": [
      "Epoch (mode:      limbs, lr: 4.969e-03, loss: -1.825e+08, acc: 0.444, f1: 0.276, precision: 0.377, recall: 0.245, kappa: -0.009, time: 79.53s)\n"
     ]
    },
    {
     "name": "stderr",
     "output_type": "stream",
     "text": [
      "C:\\Users\\pohly\\AppData\\Local\\Temp\\ipykernel_17960\\3531825925.py:19: UserWarning: Boolean Series key will be reindexed to match DataFrame index.\n",
      "  last_row = df_model[df_model[\"epoch\"] == epoch][df_model[\"mode\"] == mode.name.lower()].mean(numeric_only=True)\n"
     ]
    },
    {
     "name": "stdout",
     "output_type": "stream",
     "text": [
      "Epoch (mode:     joints, lr: 4.969e-03, loss: -1.475e+09, acc: 0.291, f1: 0.195, precision: 0.322, recall: 0.228, kappa: 0.003, time: 132.92s)\n",
      "---   6 ---\n"
     ]
    },
    {
     "name": "stderr",
     "output_type": "stream",
     "text": [
      "C:\\Users\\pohly\\AppData\\Local\\Temp\\ipykernel_17960\\3531825925.py:19: UserWarning: Boolean Series key will be reindexed to match DataFrame index.\n",
      "  last_row = df_model[df_model[\"epoch\"] == epoch][df_model[\"mode\"] == mode.name.lower()].mean(numeric_only=True)\n"
     ]
    },
    {
     "name": "stdout",
     "output_type": "stream",
     "text": [
      "Epoch (mode:  full body, lr: 4.956e-03, loss: -2.328e+07, acc: 0.488, f1: 0.399, precision: 0.588, recall: 0.317, kappa: 0.015, time: 71.13s)\n"
     ]
    },
    {
     "name": "stderr",
     "output_type": "stream",
     "text": [
      "C:\\Users\\pohly\\AppData\\Local\\Temp\\ipykernel_17960\\3531825925.py:19: UserWarning: Boolean Series key will be reindexed to match DataFrame index.\n",
      "  last_row = df_model[df_model[\"epoch\"] == epoch][df_model[\"mode\"] == mode.name.lower()].mean(numeric_only=True)\n"
     ]
    },
    {
     "name": "stdout",
     "output_type": "stream",
     "text": [
      "Epoch (mode:  half body, lr: 4.956e-03, loss: -1.156e+08, acc: 0.626, f1: 0.394, precision: 0.352, recall: 0.497, kappa: -0.031, time: 73.44s)\n"
     ]
    },
    {
     "name": "stderr",
     "output_type": "stream",
     "text": [
      "C:\\Users\\pohly\\AppData\\Local\\Temp\\ipykernel_17960\\3531825925.py:19: UserWarning: Boolean Series key will be reindexed to match DataFrame index.\n",
      "  last_row = df_model[df_model[\"epoch\"] == epoch][df_model[\"mode\"] == mode.name.lower()].mean(numeric_only=True)\n"
     ]
    },
    {
     "name": "stdout",
     "output_type": "stream",
     "text": [
      "Epoch (mode:      limbs, lr: 4.956e-03, loss: -3.274e+08, acc: 0.438, f1: 0.272, precision: 0.371, recall: 0.241, kappa: -0.002, time: 80.69s)\n"
     ]
    },
    {
     "name": "stderr",
     "output_type": "stream",
     "text": [
      "C:\\Users\\pohly\\AppData\\Local\\Temp\\ipykernel_17960\\3531825925.py:19: UserWarning: Boolean Series key will be reindexed to match DataFrame index.\n",
      "  last_row = df_model[df_model[\"epoch\"] == epoch][df_model[\"mode\"] == mode.name.lower()].mean(numeric_only=True)\n"
     ]
    },
    {
     "name": "stdout",
     "output_type": "stream",
     "text": [
      "Epoch (mode:     joints, lr: 4.956e-03, loss: -2.935e+09, acc: 0.292, f1: 0.194, precision: 0.323, recall: 0.227, kappa: 0.008, time: 143.74s)\n",
      "---   7 ---\n"
     ]
    },
    {
     "name": "stderr",
     "output_type": "stream",
     "text": [
      "C:\\Users\\pohly\\AppData\\Local\\Temp\\ipykernel_17960\\3531825925.py:19: UserWarning: Boolean Series key will be reindexed to match DataFrame index.\n",
      "  last_row = df_model[df_model[\"epoch\"] == epoch][df_model[\"mode\"] == mode.name.lower()].mean(numeric_only=True)\n"
     ]
    },
    {
     "name": "stdout",
     "output_type": "stream",
     "text": [
      "Epoch (mode:  full body, lr: 4.940e-03, loss: -3.659e+07, acc: 0.453, f1: 0.353, precision: 0.535, recall: 0.277, kappa: -0.049, time: 71.12s)\n"
     ]
    },
    {
     "name": "stderr",
     "output_type": "stream",
     "text": [
      "C:\\Users\\pohly\\AppData\\Local\\Temp\\ipykernel_17960\\3531825925.py:19: UserWarning: Boolean Series key will be reindexed to match DataFrame index.\n",
      "  last_row = df_model[df_model[\"epoch\"] == epoch][df_model[\"mode\"] == mode.name.lower()].mean(numeric_only=True)\n"
     ]
    },
    {
     "name": "stdout",
     "output_type": "stream",
     "text": [
      "Epoch (mode:  half body, lr: 4.940e-03, loss: -1.931e+08, acc: 0.624, f1: 0.406, precision: 0.353, recall: 0.526, kappa: -0.007, time: 73.45s)\n"
     ]
    },
    {
     "name": "stderr",
     "output_type": "stream",
     "text": [
      "C:\\Users\\pohly\\AppData\\Local\\Temp\\ipykernel_17960\\3531825925.py:19: UserWarning: Boolean Series key will be reindexed to match DataFrame index.\n",
      "  last_row = df_model[df_model[\"epoch\"] == epoch][df_model[\"mode\"] == mode.name.lower()].mean(numeric_only=True)\n"
     ]
    },
    {
     "name": "stdout",
     "output_type": "stream",
     "text": [
      "Epoch (mode:      limbs, lr: 4.940e-03, loss: -5.328e+08, acc: 0.456, f1: 0.292, precision: 0.390, recall: 0.265, kappa: 0.030, time: 82.72s)\n"
     ]
    },
    {
     "name": "stderr",
     "output_type": "stream",
     "text": [
      "C:\\Users\\pohly\\AppData\\Local\\Temp\\ipykernel_17960\\3531825925.py:19: UserWarning: Boolean Series key will be reindexed to match DataFrame index.\n",
      "  last_row = df_model[df_model[\"epoch\"] == epoch][df_model[\"mode\"] == mode.name.lower()].mean(numeric_only=True)\n"
     ]
    },
    {
     "name": "stdout",
     "output_type": "stream",
     "text": [
      "Epoch (mode:     joints, lr: 4.940e-03, loss: -5.060e+09, acc: 0.294, f1: 0.196, precision: 0.326, recall: 0.230, kappa: 0.018, time: 158.61s)\n",
      "---   8 ---\n"
     ]
    },
    {
     "name": "stderr",
     "output_type": "stream",
     "text": [
      "C:\\Users\\pohly\\AppData\\Local\\Temp\\ipykernel_17960\\3531825925.py:19: UserWarning: Boolean Series key will be reindexed to match DataFrame index.\n",
      "  last_row = df_model[df_model[\"epoch\"] == epoch][df_model[\"mode\"] == mode.name.lower()].mean(numeric_only=True)\n"
     ]
    },
    {
     "name": "stdout",
     "output_type": "stream",
     "text": [
      "Epoch (mode:  full body, lr: 4.921e-03, loss: -5.435e+07, acc: 0.473, f1: 0.390, precision: 0.565, recall: 0.318, kappa: -0.002, time: 71.60s)\n"
     ]
    },
    {
     "name": "stderr",
     "output_type": "stream",
     "text": [
      "C:\\Users\\pohly\\AppData\\Local\\Temp\\ipykernel_17960\\3531825925.py:19: UserWarning: Boolean Series key will be reindexed to match DataFrame index.\n",
      "  last_row = df_model[df_model[\"epoch\"] == epoch][df_model[\"mode\"] == mode.name.lower()].mean(numeric_only=True)\n"
     ]
    },
    {
     "name": "stdout",
     "output_type": "stream",
     "text": [
      "Epoch (mode:  half body, lr: 4.921e-03, loss: -2.987e+08, acc: 0.644, f1: 0.422, precision: 0.369, recall: 0.551, kappa: 0.027, time: 74.64s)\n"
     ]
    },
    {
     "name": "stderr",
     "output_type": "stream",
     "text": [
      "C:\\Users\\pohly\\AppData\\Local\\Temp\\ipykernel_17960\\3531825925.py:19: UserWarning: Boolean Series key will be reindexed to match DataFrame index.\n",
      "  last_row = df_model[df_model[\"epoch\"] == epoch][df_model[\"mode\"] == mode.name.lower()].mean(numeric_only=True)\n"
     ]
    },
    {
     "name": "stdout",
     "output_type": "stream",
     "text": [
      "Epoch (mode:      limbs, lr: 4.921e-03, loss: -8.105e+08, acc: 0.437, f1: 0.268, precision: 0.360, recall: 0.242, kappa: 0.007, time: 84.67s)\n"
     ]
    },
    {
     "name": "stderr",
     "output_type": "stream",
     "text": [
      "C:\\Users\\pohly\\AppData\\Local\\Temp\\ipykernel_17960\\3531825925.py:19: UserWarning: Boolean Series key will be reindexed to match DataFrame index.\n",
      "  last_row = df_model[df_model[\"epoch\"] == epoch][df_model[\"mode\"] == mode.name.lower()].mean(numeric_only=True)\n"
     ]
    },
    {
     "name": "stdout",
     "output_type": "stream",
     "text": [
      "Epoch (mode:     joints, lr: 4.921e-03, loss: -8.014e+09, acc: 0.283, f1: 0.189, precision: 0.316, recall: 0.221, kappa: 0.007, time: 168.73s)\n",
      "---   9 ---\n"
     ]
    },
    {
     "name": "stderr",
     "output_type": "stream",
     "text": [
      "C:\\Users\\pohly\\AppData\\Local\\Temp\\ipykernel_17960\\3531825925.py:19: UserWarning: Boolean Series key will be reindexed to match DataFrame index.\n",
      "  last_row = df_model[df_model[\"epoch\"] == epoch][df_model[\"mode\"] == mode.name.lower()].mean(numeric_only=True)\n"
     ]
    },
    {
     "name": "stdout",
     "output_type": "stream",
     "text": [
      "Epoch (mode:  full body, lr: 4.901e-03, loss: -7.681e+07, acc: 0.461, f1: 0.374, precision: 0.547, recall: 0.303, kappa: -0.024, time: 71.55s)\n"
     ]
    },
    {
     "name": "stderr",
     "output_type": "stream",
     "text": [
      "C:\\Users\\pohly\\AppData\\Local\\Temp\\ipykernel_17960\\3531825925.py:19: UserWarning: Boolean Series key will be reindexed to match DataFrame index.\n",
      "  last_row = df_model[df_model[\"epoch\"] == epoch][df_model[\"mode\"] == mode.name.lower()].mean(numeric_only=True)\n"
     ]
    },
    {
     "name": "stdout",
     "output_type": "stream",
     "text": [
      "Epoch (mode:  half body, lr: 4.901e-03, loss: -4.387e+08, acc: 0.649, f1: 0.415, precision: 0.366, recall: 0.537, kappa: 0.024, time: 74.59s)\n"
     ]
    },
    {
     "name": "stderr",
     "output_type": "stream",
     "text": [
      "C:\\Users\\pohly\\AppData\\Local\\Temp\\ipykernel_17960\\3531825925.py:19: UserWarning: Boolean Series key will be reindexed to match DataFrame index.\n",
      "  last_row = df_model[df_model[\"epoch\"] == epoch][df_model[\"mode\"] == mode.name.lower()].mean(numeric_only=True)\n"
     ]
    },
    {
     "name": "stdout",
     "output_type": "stream",
     "text": [
      "Epoch (mode:      limbs, lr: 4.901e-03, loss: -1.169e+09, acc: 0.429, f1: 0.259, precision: 0.362, recall: 0.225, kappa: -0.009, time: 86.41s)\n"
     ]
    },
    {
     "name": "stderr",
     "output_type": "stream",
     "text": [
      "C:\\Users\\pohly\\AppData\\Local\\Temp\\ipykernel_17960\\3531825925.py:19: UserWarning: Boolean Series key will be reindexed to match DataFrame index.\n",
      "  last_row = df_model[df_model[\"epoch\"] == epoch][df_model[\"mode\"] == mode.name.lower()].mean(numeric_only=True)\n"
     ]
    },
    {
     "name": "stdout",
     "output_type": "stream",
     "text": [
      "Epoch (mode:     joints, lr: 4.901e-03, loss: -1.180e+10, acc: 0.280, f1: 0.184, precision: 0.307, recall: 0.216, kappa: 0.002, time: 178.86s)\n",
      "---  10 ---\n"
     ]
    },
    {
     "name": "stderr",
     "output_type": "stream",
     "text": [
      "C:\\Users\\pohly\\AppData\\Local\\Temp\\ipykernel_17960\\3531825925.py:19: UserWarning: Boolean Series key will be reindexed to match DataFrame index.\n",
      "  last_row = df_model[df_model[\"epoch\"] == epoch][df_model[\"mode\"] == mode.name.lower()].mean(numeric_only=True)\n"
     ]
    },
    {
     "name": "stdout",
     "output_type": "stream",
     "text": [
      "Epoch (mode:  full body, lr: 4.878e-03, loss: -1.047e+08, acc: 0.471, f1: 0.387, precision: 0.565, recall: 0.311, kappa: -0.008, time: 72.20s)\n"
     ]
    },
    {
     "name": "stderr",
     "output_type": "stream",
     "text": [
      "C:\\Users\\pohly\\AppData\\Local\\Temp\\ipykernel_17960\\3531825925.py:19: UserWarning: Boolean Series key will be reindexed to match DataFrame index.\n",
      "  last_row = df_model[df_model[\"epoch\"] == epoch][df_model[\"mode\"] == mode.name.lower()].mean(numeric_only=True)\n"
     ]
    },
    {
     "name": "stdout",
     "output_type": "stream",
     "text": [
      "Epoch (mode:  half body, lr: 4.878e-03, loss: -6.146e+08, acc: 0.634, f1: 0.405, precision: 0.360, recall: 0.523, kappa: 0.009, time: 75.69s)\n"
     ]
    },
    {
     "name": "stderr",
     "output_type": "stream",
     "text": [
      "C:\\Users\\pohly\\AppData\\Local\\Temp\\ipykernel_17960\\3531825925.py:19: UserWarning: Boolean Series key will be reindexed to match DataFrame index.\n",
      "  last_row = df_model[df_model[\"epoch\"] == epoch][df_model[\"mode\"] == mode.name.lower()].mean(numeric_only=True)\n"
     ]
    },
    {
     "name": "stdout",
     "output_type": "stream",
     "text": [
      "Epoch (mode:      limbs, lr: 4.878e-03, loss: -1.627e+09, acc: 0.434, f1: 0.272, precision: 0.380, recall: 0.236, kappa: 0.006, time: 88.00s)\n"
     ]
    },
    {
     "name": "stderr",
     "output_type": "stream",
     "text": [
      "C:\\Users\\pohly\\AppData\\Local\\Temp\\ipykernel_17960\\3531825925.py:19: UserWarning: Boolean Series key will be reindexed to match DataFrame index.\n",
      "  last_row = df_model[df_model[\"epoch\"] == epoch][df_model[\"mode\"] == mode.name.lower()].mean(numeric_only=True)\n"
     ]
    },
    {
     "name": "stdout",
     "output_type": "stream",
     "text": [
      "Epoch (mode:     joints, lr: 4.878e-03, loss: -1.665e+10, acc: 0.523, f1: 0.398, precision: 0.576, recall: 0.493, kappa: 0.014, time: 188.54s)\n",
      "---  11 ---\n"
     ]
    },
    {
     "name": "stderr",
     "output_type": "stream",
     "text": [
      "C:\\Users\\pohly\\AppData\\Local\\Temp\\ipykernel_17960\\3531825925.py:19: UserWarning: Boolean Series key will be reindexed to match DataFrame index.\n",
      "  last_row = df_model[df_model[\"epoch\"] == epoch][df_model[\"mode\"] == mode.name.lower()].mean(numeric_only=True)\n"
     ]
    },
    {
     "name": "stdout",
     "output_type": "stream",
     "text": [
      "Epoch (mode:  full body, lr: 4.852e-03, loss: -1.382e+08, acc: 0.512, f1: 0.432, precision: 0.624, recall: 0.351, kappa: 0.071, time: 71.98s)\n"
     ]
    },
    {
     "name": "stderr",
     "output_type": "stream",
     "text": [
      "C:\\Users\\pohly\\AppData\\Local\\Temp\\ipykernel_17960\\3531825925.py:19: UserWarning: Boolean Series key will be reindexed to match DataFrame index.\n",
      "  last_row = df_model[df_model[\"epoch\"] == epoch][df_model[\"mode\"] == mode.name.lower()].mean(numeric_only=True)\n"
     ]
    },
    {
     "name": "stdout",
     "output_type": "stream",
     "text": [
      "Epoch (mode:  half body, lr: 4.852e-03, loss: -8.354e+08, acc: 0.660, f1: 0.411, precision: 0.361, recall: 0.531, kappa: 0.025, time: 75.66s)\n"
     ]
    },
    {
     "name": "stderr",
     "output_type": "stream",
     "text": [
      "C:\\Users\\pohly\\AppData\\Local\\Temp\\ipykernel_17960\\3531825925.py:19: UserWarning: Boolean Series key will be reindexed to match DataFrame index.\n",
      "  last_row = df_model[df_model[\"epoch\"] == epoch][df_model[\"mode\"] == mode.name.lower()].mean(numeric_only=True)\n"
     ]
    },
    {
     "name": "stdout",
     "output_type": "stream",
     "text": [
      "Epoch (mode:      limbs, lr: 4.852e-03, loss: -2.168e+09, acc: 0.437, f1: 0.267, precision: 0.372, recall: 0.233, kappa: -0.018, time: 89.34s)\n"
     ]
    },
    {
     "name": "stderr",
     "output_type": "stream",
     "text": [
      "C:\\Users\\pohly\\AppData\\Local\\Temp\\ipykernel_17960\\3531825925.py:19: UserWarning: Boolean Series key will be reindexed to match DataFrame index.\n",
      "  last_row = df_model[df_model[\"epoch\"] == epoch][df_model[\"mode\"] == mode.name.lower()].mean(numeric_only=True)\n"
     ]
    },
    {
     "name": "stdout",
     "output_type": "stream",
     "text": [
      "Epoch (mode:     joints, lr: 4.852e-03, loss: -2.244e+10, acc: 0.683, f1: 0.527, precision: 0.724, recall: 0.680, kappa: 0.051, time: 196.95s)\n",
      "---  12 ---\n"
     ]
    },
    {
     "name": "stderr",
     "output_type": "stream",
     "text": [
      "C:\\Users\\pohly\\AppData\\Local\\Temp\\ipykernel_17960\\3531825925.py:19: UserWarning: Boolean Series key will be reindexed to match DataFrame index.\n",
      "  last_row = df_model[df_model[\"epoch\"] == epoch][df_model[\"mode\"] == mode.name.lower()].mean(numeric_only=True)\n"
     ]
    },
    {
     "name": "stdout",
     "output_type": "stream",
     "text": [
      "Epoch (mode:  full body, lr: 4.824e-03, loss: -1.761e+08, acc: 0.498, f1: 0.411, precision: 0.600, recall: 0.332, kappa: 0.040, time: 72.59s)\n"
     ]
    },
    {
     "name": "stderr",
     "output_type": "stream",
     "text": [
      "C:\\Users\\pohly\\AppData\\Local\\Temp\\ipykernel_17960\\3531825925.py:19: UserWarning: Boolean Series key will be reindexed to match DataFrame index.\n",
      "  last_row = df_model[df_model[\"epoch\"] == epoch][df_model[\"mode\"] == mode.name.lower()].mean(numeric_only=True)\n"
     ]
    },
    {
     "name": "stdout",
     "output_type": "stream",
     "text": [
      "Epoch (mode:  half body, lr: 4.824e-03, loss: -1.104e+09, acc: 0.647, f1: 0.379, precision: 0.333, recall: 0.493, kappa: -0.014, time: 76.49s)\n"
     ]
    },
    {
     "name": "stderr",
     "output_type": "stream",
     "text": [
      "C:\\Users\\pohly\\AppData\\Local\\Temp\\ipykernel_17960\\3531825925.py:19: UserWarning: Boolean Series key will be reindexed to match DataFrame index.\n",
      "  last_row = df_model[df_model[\"epoch\"] == epoch][df_model[\"mode\"] == mode.name.lower()].mean(numeric_only=True)\n"
     ]
    },
    {
     "name": "stdout",
     "output_type": "stream",
     "text": [
      "Epoch (mode:      limbs, lr: 4.824e-03, loss: -2.848e+09, acc: 0.440, f1: 0.257, precision: 0.358, recall: 0.223, kappa: 0.001, time: 89.54s)\n"
     ]
    },
    {
     "name": "stderr",
     "output_type": "stream",
     "text": [
      "C:\\Users\\pohly\\AppData\\Local\\Temp\\ipykernel_17960\\3531825925.py:19: UserWarning: Boolean Series key will be reindexed to match DataFrame index.\n",
      "  last_row = df_model[df_model[\"epoch\"] == epoch][df_model[\"mode\"] == mode.name.lower()].mean(numeric_only=True)\n"
     ]
    },
    {
     "name": "stdout",
     "output_type": "stream",
     "text": [
      "Epoch (mode:     joints, lr: 4.824e-03, loss: -2.977e+10, acc: 0.730, f1: 0.553, precision: 0.747, recall: 0.735, kappa: 0.040, time: 206.56s)\n",
      "---  13 ---\n"
     ]
    },
    {
     "name": "stderr",
     "output_type": "stream",
     "text": [
      "C:\\Users\\pohly\\AppData\\Local\\Temp\\ipykernel_17960\\3531825925.py:19: UserWarning: Boolean Series key will be reindexed to match DataFrame index.\n",
      "  last_row = df_model[df_model[\"epoch\"] == epoch][df_model[\"mode\"] == mode.name.lower()].mean(numeric_only=True)\n"
     ]
    },
    {
     "name": "stdout",
     "output_type": "stream",
     "text": [
      "Epoch (mode:  full body, lr: 4.794e-03, loss: -2.209e+08, acc: 0.490, f1: 0.414, precision: 0.591, recall: 0.341, kappa: 0.031, time: 72.50s)\n"
     ]
    },
    {
     "name": "stderr",
     "output_type": "stream",
     "text": [
      "C:\\Users\\pohly\\AppData\\Local\\Temp\\ipykernel_17960\\3531825925.py:19: UserWarning: Boolean Series key will be reindexed to match DataFrame index.\n",
      "  last_row = df_model[df_model[\"epoch\"] == epoch][df_model[\"mode\"] == mode.name.lower()].mean(numeric_only=True)\n"
     ]
    },
    {
     "name": "stdout",
     "output_type": "stream",
     "text": [
      "Epoch (mode:  half body, lr: 4.794e-03, loss: -1.414e+09, acc: 0.651, f1: 0.393, precision: 0.345, recall: 0.497, kappa: 0.000, time: 76.71s)\n"
     ]
    },
    {
     "name": "stderr",
     "output_type": "stream",
     "text": [
      "C:\\Users\\pohly\\AppData\\Local\\Temp\\ipykernel_17960\\3531825925.py:19: UserWarning: Boolean Series key will be reindexed to match DataFrame index.\n",
      "  last_row = df_model[df_model[\"epoch\"] == epoch][df_model[\"mode\"] == mode.name.lower()].mean(numeric_only=True)\n"
     ]
    },
    {
     "name": "stdout",
     "output_type": "stream",
     "text": [
      "Epoch (mode:      limbs, lr: 4.794e-03, loss: -3.637e+09, acc: 0.435, f1: 0.266, precision: 0.373, recall: 0.233, kappa: 0.001, time: 91.60s)\n"
     ]
    },
    {
     "name": "stderr",
     "output_type": "stream",
     "text": [
      "C:\\Users\\pohly\\AppData\\Local\\Temp\\ipykernel_17960\\3531825925.py:19: UserWarning: Boolean Series key will be reindexed to match DataFrame index.\n",
      "  last_row = df_model[df_model[\"epoch\"] == epoch][df_model[\"mode\"] == mode.name.lower()].mean(numeric_only=True)\n"
     ]
    },
    {
     "name": "stdout",
     "output_type": "stream",
     "text": [
      "Epoch (mode:     joints, lr: 4.794e-03, loss: -3.842e+10, acc: 0.743, f1: 0.559, precision: 0.751, recall: 0.750, kappa: -0.005, time: 221.32s)\n",
      "---  14 ---\n"
     ]
    },
    {
     "name": "stderr",
     "output_type": "stream",
     "text": [
      "C:\\Users\\pohly\\AppData\\Local\\Temp\\ipykernel_17960\\3531825925.py:19: UserWarning: Boolean Series key will be reindexed to match DataFrame index.\n",
      "  last_row = df_model[df_model[\"epoch\"] == epoch][df_model[\"mode\"] == mode.name.lower()].mean(numeric_only=True)\n"
     ]
    },
    {
     "name": "stdout",
     "output_type": "stream",
     "text": [
      "Epoch (mode:  full body, lr: 4.762e-03, loss: -2.747e+08, acc: 0.504, f1: 0.430, precision: 0.600, recall: 0.363, kappa: 0.045, time: 72.80s)\n"
     ]
    },
    {
     "name": "stderr",
     "output_type": "stream",
     "text": [
      "C:\\Users\\pohly\\AppData\\Local\\Temp\\ipykernel_17960\\3531825925.py:19: UserWarning: Boolean Series key will be reindexed to match DataFrame index.\n",
      "  last_row = df_model[df_model[\"epoch\"] == epoch][df_model[\"mode\"] == mode.name.lower()].mean(numeric_only=True)\n"
     ]
    },
    {
     "name": "stdout",
     "output_type": "stream",
     "text": [
      "Epoch (mode:  half body, lr: 4.762e-03, loss: -1.792e+09, acc: 0.664, f1: 0.378, precision: 0.329, recall: 0.493, kappa: -0.008, time: 77.22s)\n"
     ]
    },
    {
     "name": "stderr",
     "output_type": "stream",
     "text": [
      "C:\\Users\\pohly\\AppData\\Local\\Temp\\ipykernel_17960\\3531825925.py:19: UserWarning: Boolean Series key will be reindexed to match DataFrame index.\n",
      "  last_row = df_model[df_model[\"epoch\"] == epoch][df_model[\"mode\"] == mode.name.lower()].mean(numeric_only=True)\n"
     ]
    },
    {
     "name": "stdout",
     "output_type": "stream",
     "text": [
      "Epoch (mode:      limbs, lr: 4.762e-03, loss: -4.544e+09, acc: 0.443, f1: 0.275, precision: 0.389, recall: 0.239, kappa: 0.020, time: 93.56s)\n"
     ]
    },
    {
     "name": "stderr",
     "output_type": "stream",
     "text": [
      "C:\\Users\\pohly\\AppData\\Local\\Temp\\ipykernel_17960\\3531825925.py:19: UserWarning: Boolean Series key will be reindexed to match DataFrame index.\n",
      "  last_row = df_model[df_model[\"epoch\"] == epoch][df_model[\"mode\"] == mode.name.lower()].mean(numeric_only=True)\n"
     ]
    },
    {
     "name": "stdout",
     "output_type": "stream",
     "text": [
      "Epoch (mode:     joints, lr: 4.762e-03, loss: -4.806e+10, acc: 0.761, f1: 0.570, precision: 0.760, recall: 0.773, kappa: -0.013, time: 234.80s)\n",
      "---  15 ---\n"
     ]
    },
    {
     "name": "stderr",
     "output_type": "stream",
     "text": [
      "C:\\Users\\pohly\\AppData\\Local\\Temp\\ipykernel_17960\\3531825925.py:19: UserWarning: Boolean Series key will be reindexed to match DataFrame index.\n",
      "  last_row = df_model[df_model[\"epoch\"] == epoch][df_model[\"mode\"] == mode.name.lower()].mean(numeric_only=True)\n"
     ]
    },
    {
     "name": "stdout",
     "output_type": "stream",
     "text": [
      "Epoch (mode:  full body, lr: 4.728e-03, loss: -3.534e+08, acc: 0.514, f1: 0.473, precision: 0.582, recall: 0.439, kappa: 0.034, time: 72.91s)\n"
     ]
    },
    {
     "name": "stderr",
     "output_type": "stream",
     "text": [
      "C:\\Users\\pohly\\AppData\\Local\\Temp\\ipykernel_17960\\3531825925.py:19: UserWarning: Boolean Series key will be reindexed to match DataFrame index.\n",
      "  last_row = df_model[df_model[\"epoch\"] == epoch][df_model[\"mode\"] == mode.name.lower()].mean(numeric_only=True)\n"
     ]
    },
    {
     "name": "stdout",
     "output_type": "stream",
     "text": [
      "Epoch (mode:  half body, lr: 4.728e-03, loss: -2.216e+09, acc: 0.652, f1: 0.373, precision: 0.322, recall: 0.487, kappa: -0.010, time: 77.70s)\n"
     ]
    },
    {
     "name": "stderr",
     "output_type": "stream",
     "text": [
      "C:\\Users\\pohly\\AppData\\Local\\Temp\\ipykernel_17960\\3531825925.py:19: UserWarning: Boolean Series key will be reindexed to match DataFrame index.\n",
      "  last_row = df_model[df_model[\"epoch\"] == epoch][df_model[\"mode\"] == mode.name.lower()].mean(numeric_only=True)\n"
     ]
    },
    {
     "name": "stdout",
     "output_type": "stream",
     "text": [
      "Epoch (mode:      limbs, lr: 4.728e-03, loss: -5.745e+09, acc: 0.430, f1: 0.259, precision: 0.366, recall: 0.226, kappa: -0.005, time: 96.25s)\n"
     ]
    },
    {
     "name": "stderr",
     "output_type": "stream",
     "text": [
      "C:\\Users\\pohly\\AppData\\Local\\Temp\\ipykernel_17960\\3531825925.py:19: UserWarning: Boolean Series key will be reindexed to match DataFrame index.\n",
      "  last_row = df_model[df_model[\"epoch\"] == epoch][df_model[\"mode\"] == mode.name.lower()].mean(numeric_only=True)\n"
     ]
    },
    {
     "name": "stdout",
     "output_type": "stream",
     "text": [
      "Epoch (mode:     joints, lr: 4.728e-03, loss: -5.948e+10, acc: 0.755, f1: 0.565, precision: 0.756, recall: 0.765, kappa: -0.021, time: 247.51s)\n",
      "---  16 ---\n"
     ]
    },
    {
     "name": "stderr",
     "output_type": "stream",
     "text": [
      "C:\\Users\\pohly\\AppData\\Local\\Temp\\ipykernel_17960\\3531825925.py:19: UserWarning: Boolean Series key will be reindexed to match DataFrame index.\n",
      "  last_row = df_model[df_model[\"epoch\"] == epoch][df_model[\"mode\"] == mode.name.lower()].mean(numeric_only=True)\n"
     ]
    },
    {
     "name": "stdout",
     "output_type": "stream",
     "text": [
      "Epoch (mode:  full body, lr: 4.691e-03, loss: -5.087e+08, acc: 0.561, f1: 0.637, precision: 0.570, recall: 0.806, kappa: -0.001, time: 74.02s)\n"
     ]
    },
    {
     "name": "stderr",
     "output_type": "stream",
     "text": [
      "C:\\Users\\pohly\\AppData\\Local\\Temp\\ipykernel_17960\\3531825925.py:19: UserWarning: Boolean Series key will be reindexed to match DataFrame index.\n",
      "  last_row = df_model[df_model[\"epoch\"] == epoch][df_model[\"mode\"] == mode.name.lower()].mean(numeric_only=True)\n"
     ]
    },
    {
     "name": "stdout",
     "output_type": "stream",
     "text": [
      "Epoch (mode:  half body, lr: 4.691e-03, loss: -2.742e+09, acc: 0.646, f1: 0.367, precision: 0.322, recall: 0.468, kappa: -0.023, time: 78.52s)\n"
     ]
    },
    {
     "name": "stderr",
     "output_type": "stream",
     "text": [
      "C:\\Users\\pohly\\AppData\\Local\\Temp\\ipykernel_17960\\3531825925.py:19: UserWarning: Boolean Series key will be reindexed to match DataFrame index.\n",
      "  last_row = df_model[df_model[\"epoch\"] == epoch][df_model[\"mode\"] == mode.name.lower()].mean(numeric_only=True)\n"
     ]
    },
    {
     "name": "stdout",
     "output_type": "stream",
     "text": [
      "Epoch (mode:      limbs, lr: 4.691e-03, loss: -7.473e+09, acc: 0.424, f1: 0.250, precision: 0.353, recall: 0.217, kappa: -0.030, time: 97.60s)\n"
     ]
    },
    {
     "name": "stderr",
     "output_type": "stream",
     "text": [
      "C:\\Users\\pohly\\AppData\\Local\\Temp\\ipykernel_17960\\3531825925.py:19: UserWarning: Boolean Series key will be reindexed to match DataFrame index.\n",
      "  last_row = df_model[df_model[\"epoch\"] == epoch][df_model[\"mode\"] == mode.name.lower()].mean(numeric_only=True)\n"
     ]
    },
    {
     "name": "stdout",
     "output_type": "stream",
     "text": [
      "Epoch (mode:     joints, lr: 4.691e-03, loss: -7.210e+10, acc: 0.740, f1: 0.554, precision: 0.746, recall: 0.747, kappa: -0.037, time: 251.07s)\n",
      "---  17 ---\n"
     ]
    },
    {
     "name": "stderr",
     "output_type": "stream",
     "text": [
      "C:\\Users\\pohly\\AppData\\Local\\Temp\\ipykernel_17960\\3531825925.py:19: UserWarning: Boolean Series key will be reindexed to match DataFrame index.\n",
      "  last_row = df_model[df_model[\"epoch\"] == epoch][df_model[\"mode\"] == mode.name.lower()].mean(numeric_only=True)\n"
     ]
    },
    {
     "name": "stdout",
     "output_type": "stream",
     "text": [
      "Epoch (mode:  full body, lr: 4.652e-03, loss: -6.790e+08, acc: 0.569, f1: 0.679, precision: 0.571, recall: 0.922, kappa: 0.000, time: 73.78s)\n"
     ]
    },
    {
     "name": "stderr",
     "output_type": "stream",
     "text": [
      "C:\\Users\\pohly\\AppData\\Local\\Temp\\ipykernel_17960\\3531825925.py:19: UserWarning: Boolean Series key will be reindexed to match DataFrame index.\n",
      "  last_row = df_model[df_model[\"epoch\"] == epoch][df_model[\"mode\"] == mode.name.lower()].mean(numeric_only=True)\n"
     ]
    },
    {
     "name": "stdout",
     "output_type": "stream",
     "text": [
      "Epoch (mode:  half body, lr: 4.652e-03, loss: -3.289e+09, acc: 0.650, f1: 0.369, precision: 0.320, recall: 0.482, kappa: -0.015, time: 79.38s)\n"
     ]
    },
    {
     "name": "stderr",
     "output_type": "stream",
     "text": [
      "C:\\Users\\pohly\\AppData\\Local\\Temp\\ipykernel_17960\\3531825925.py:19: UserWarning: Boolean Series key will be reindexed to match DataFrame index.\n",
      "  last_row = df_model[df_model[\"epoch\"] == epoch][df_model[\"mode\"] == mode.name.lower()].mean(numeric_only=True)\n"
     ]
    },
    {
     "name": "stdout",
     "output_type": "stream",
     "text": [
      "Epoch (mode:      limbs, lr: 4.652e-03, loss: -8.982e+09, acc: 0.437, f1: 0.255, precision: 0.358, recall: 0.222, kappa: 0.009, time: 97.72s)\n"
     ]
    },
    {
     "name": "stderr",
     "output_type": "stream",
     "text": [
      "C:\\Users\\pohly\\AppData\\Local\\Temp\\ipykernel_17960\\3531825925.py:19: UserWarning: Boolean Series key will be reindexed to match DataFrame index.\n",
      "  last_row = df_model[df_model[\"epoch\"] == epoch][df_model[\"mode\"] == mode.name.lower()].mean(numeric_only=True)\n"
     ]
    },
    {
     "name": "stdout",
     "output_type": "stream",
     "text": [
      "Epoch (mode:     joints, lr: 4.652e-03, loss: -8.708e+10, acc: 0.739, f1: 0.552, precision: 0.744, recall: 0.745, kappa: -0.038, time: 261.45s)\n",
      "---  18 ---\n"
     ]
    },
    {
     "name": "stderr",
     "output_type": "stream",
     "text": [
      "C:\\Users\\pohly\\AppData\\Local\\Temp\\ipykernel_17960\\3531825925.py:19: UserWarning: Boolean Series key will be reindexed to match DataFrame index.\n",
      "  last_row = df_model[df_model[\"epoch\"] == epoch][df_model[\"mode\"] == mode.name.lower()].mean(numeric_only=True)\n"
     ]
    },
    {
     "name": "stdout",
     "output_type": "stream",
     "text": [
      "Epoch (mode:  full body, lr: 4.611e-03, loss: -8.537e+08, acc: 0.571, f1: 0.677, precision: 0.571, recall: 0.912, kappa: 0.000, time: 74.35s)\n"
     ]
    },
    {
     "name": "stderr",
     "output_type": "stream",
     "text": [
      "C:\\Users\\pohly\\AppData\\Local\\Temp\\ipykernel_17960\\3531825925.py:19: UserWarning: Boolean Series key will be reindexed to match DataFrame index.\n",
      "  last_row = df_model[df_model[\"epoch\"] == epoch][df_model[\"mode\"] == mode.name.lower()].mean(numeric_only=True)\n"
     ]
    },
    {
     "name": "stdout",
     "output_type": "stream",
     "text": [
      "Epoch (mode:  half body, lr: 4.611e-03, loss: -3.918e+09, acc: 0.654, f1: 0.374, precision: 0.324, recall: 0.490, kappa: -0.005, time: 79.16s)\n"
     ]
    },
    {
     "name": "stderr",
     "output_type": "stream",
     "text": [
      "C:\\Users\\pohly\\AppData\\Local\\Temp\\ipykernel_17960\\3531825925.py:19: UserWarning: Boolean Series key will be reindexed to match DataFrame index.\n",
      "  last_row = df_model[df_model[\"epoch\"] == epoch][df_model[\"mode\"] == mode.name.lower()].mean(numeric_only=True)\n"
     ]
    },
    {
     "name": "stdout",
     "output_type": "stream",
     "text": [
      "Epoch (mode:      limbs, lr: 4.611e-03, loss: -1.065e+10, acc: 0.419, f1: 0.253, precision: 0.354, recall: 0.220, kappa: -0.003, time: 99.47s)\n"
     ]
    },
    {
     "name": "stderr",
     "output_type": "stream",
     "text": [
      "C:\\Users\\pohly\\AppData\\Local\\Temp\\ipykernel_17960\\3531825925.py:19: UserWarning: Boolean Series key will be reindexed to match DataFrame index.\n",
      "  last_row = df_model[df_model[\"epoch\"] == epoch][df_model[\"mode\"] == mode.name.lower()].mean(numeric_only=True)\n"
     ]
    },
    {
     "name": "stdout",
     "output_type": "stream",
     "text": [
      "Epoch (mode:     joints, lr: 4.611e-03, loss: -1.035e+11, acc: 0.737, f1: 0.549, precision: 0.742, recall: 0.738, kappa: -0.003, time: 270.71s)\n",
      "---  19 ---\n"
     ]
    },
    {
     "name": "stderr",
     "output_type": "stream",
     "text": [
      "C:\\Users\\pohly\\AppData\\Local\\Temp\\ipykernel_17960\\3531825925.py:19: UserWarning: Boolean Series key will be reindexed to match DataFrame index.\n",
      "  last_row = df_model[df_model[\"epoch\"] == epoch][df_model[\"mode\"] == mode.name.lower()].mean(numeric_only=True)\n"
     ]
    },
    {
     "name": "stdout",
     "output_type": "stream",
     "text": [
      "Epoch (mode:  full body, lr: 4.568e-03, loss: -1.033e+09, acc: 0.571, f1: 0.685, precision: 0.571, recall: 0.941, kappa: 0.000, time: 74.06s)\n"
     ]
    },
    {
     "name": "stderr",
     "output_type": "stream",
     "text": [
      "C:\\Users\\pohly\\AppData\\Local\\Temp\\ipykernel_17960\\3531825925.py:19: UserWarning: Boolean Series key will be reindexed to match DataFrame index.\n",
      "  last_row = df_model[df_model[\"epoch\"] == epoch][df_model[\"mode\"] == mode.name.lower()].mean(numeric_only=True)\n"
     ]
    },
    {
     "name": "stdout",
     "output_type": "stream",
     "text": [
      "Epoch (mode:  half body, lr: 4.568e-03, loss: -4.591e+09, acc: 0.669, f1: 0.391, precision: 0.342, recall: 0.507, kappa: 0.009, time: 79.33s)\n"
     ]
    },
    {
     "name": "stderr",
     "output_type": "stream",
     "text": [
      "C:\\Users\\pohly\\AppData\\Local\\Temp\\ipykernel_17960\\3531825925.py:19: UserWarning: Boolean Series key will be reindexed to match DataFrame index.\n",
      "  last_row = df_model[df_model[\"epoch\"] == epoch][df_model[\"mode\"] == mode.name.lower()].mean(numeric_only=True)\n"
     ]
    },
    {
     "name": "stdout",
     "output_type": "stream",
     "text": [
      "Epoch (mode:      limbs, lr: 4.568e-03, loss: -1.254e+10, acc: 0.430, f1: 0.246, precision: 0.349, recall: 0.214, kappa: -0.005, time: 101.12s)\n"
     ]
    },
    {
     "name": "stderr",
     "output_type": "stream",
     "text": [
      "C:\\Users\\pohly\\AppData\\Local\\Temp\\ipykernel_17960\\3531825925.py:19: UserWarning: Boolean Series key will be reindexed to match DataFrame index.\n",
      "  last_row = df_model[df_model[\"epoch\"] == epoch][df_model[\"mode\"] == mode.name.lower()].mean(numeric_only=True)\n"
     ]
    },
    {
     "name": "stdout",
     "output_type": "stream",
     "text": [
      "Epoch (mode:     joints, lr: 4.568e-03, loss: -1.208e+11, acc: 0.716, f1: 0.536, precision: 0.729, recall: 0.716, kappa: -0.008, time: 287.05s)\n",
      "---  20 ---\n"
     ]
    },
    {
     "name": "stderr",
     "output_type": "stream",
     "text": [
      "C:\\Users\\pohly\\AppData\\Local\\Temp\\ipykernel_17960\\3531825925.py:19: UserWarning: Boolean Series key will be reindexed to match DataFrame index.\n",
      "  last_row = df_model[df_model[\"epoch\"] == epoch][df_model[\"mode\"] == mode.name.lower()].mean(numeric_only=True)\n"
     ]
    },
    {
     "name": "stdout",
     "output_type": "stream",
     "text": [
      "Epoch (mode:  full body, lr: 4.523e-03, loss: -1.241e+09, acc: 0.571, f1: 0.679, precision: 0.571, recall: 0.918, kappa: 0.000, time: 74.99s)\n"
     ]
    },
    {
     "name": "stderr",
     "output_type": "stream",
     "text": [
      "C:\\Users\\pohly\\AppData\\Local\\Temp\\ipykernel_17960\\3531825925.py:19: UserWarning: Boolean Series key will be reindexed to match DataFrame index.\n",
      "  last_row = df_model[df_model[\"epoch\"] == epoch][df_model[\"mode\"] == mode.name.lower()].mean(numeric_only=True)\n"
     ]
    },
    {
     "name": "stdout",
     "output_type": "stream",
     "text": [
      "Epoch (mode:  half body, lr: 4.523e-03, loss: -5.294e+09, acc: 0.652, f1: 0.360, precision: 0.307, recall: 0.476, kappa: -0.012, time: 81.78s)\n"
     ]
    },
    {
     "name": "stderr",
     "output_type": "stream",
     "text": [
      "C:\\Users\\pohly\\AppData\\Local\\Temp\\ipykernel_17960\\3531825925.py:19: UserWarning: Boolean Series key will be reindexed to match DataFrame index.\n",
      "  last_row = df_model[df_model[\"epoch\"] == epoch][df_model[\"mode\"] == mode.name.lower()].mean(numeric_only=True)\n"
     ]
    },
    {
     "name": "stdout",
     "output_type": "stream",
     "text": [
      "Epoch (mode:      limbs, lr: 4.523e-03, loss: -1.458e+10, acc: 0.430, f1: 0.248, precision: 0.351, recall: 0.215, kappa: -0.008, time: 105.09s)\n"
     ]
    },
    {
     "name": "stderr",
     "output_type": "stream",
     "text": [
      "C:\\Users\\pohly\\AppData\\Local\\Temp\\ipykernel_17960\\3531825925.py:19: UserWarning: Boolean Series key will be reindexed to match DataFrame index.\n",
      "  last_row = df_model[df_model[\"epoch\"] == epoch][df_model[\"mode\"] == mode.name.lower()].mean(numeric_only=True)\n"
     ]
    },
    {
     "name": "stdout",
     "output_type": "stream",
     "text": [
      "Epoch (mode:     joints, lr: 4.523e-03, loss: -1.399e+11, acc: 0.718, f1: 0.537, precision: 0.733, recall: 0.716, kappa: 0.004, time: 304.38s)\n",
      "---  21 ---\n"
     ]
    },
    {
     "name": "stderr",
     "output_type": "stream",
     "text": [
      "C:\\Users\\pohly\\AppData\\Local\\Temp\\ipykernel_17960\\3531825925.py:19: UserWarning: Boolean Series key will be reindexed to match DataFrame index.\n",
      "  last_row = df_model[df_model[\"epoch\"] == epoch][df_model[\"mode\"] == mode.name.lower()].mean(numeric_only=True)\n"
     ]
    },
    {
     "name": "stdout",
     "output_type": "stream",
     "text": [
      "Epoch (mode:  full body, lr: 4.475e-03, loss: -1.463e+09, acc: 0.571, f1: 0.680, precision: 0.571, recall: 0.924, kappa: 0.000, time: 76.44s)\n"
     ]
    },
    {
     "name": "stderr",
     "output_type": "stream",
     "text": [
      "C:\\Users\\pohly\\AppData\\Local\\Temp\\ipykernel_17960\\3531825925.py:19: UserWarning: Boolean Series key will be reindexed to match DataFrame index.\n",
      "  last_row = df_model[df_model[\"epoch\"] == epoch][df_model[\"mode\"] == mode.name.lower()].mean(numeric_only=True)\n"
     ]
    },
    {
     "name": "stdout",
     "output_type": "stream",
     "text": [
      "Epoch (mode:  half body, lr: 4.475e-03, loss: -6.119e+09, acc: 0.652, f1: 0.362, precision: 0.311, recall: 0.475, kappa: -0.025, time: 81.28s)\n"
     ]
    },
    {
     "name": "stderr",
     "output_type": "stream",
     "text": [
      "C:\\Users\\pohly\\AppData\\Local\\Temp\\ipykernel_17960\\3531825925.py:19: UserWarning: Boolean Series key will be reindexed to match DataFrame index.\n",
      "  last_row = df_model[df_model[\"epoch\"] == epoch][df_model[\"mode\"] == mode.name.lower()].mean(numeric_only=True)\n"
     ]
    },
    {
     "name": "stdout",
     "output_type": "stream",
     "text": [
      "Epoch (mode:      limbs, lr: 4.475e-03, loss: -1.685e+10, acc: 0.433, f1: 0.256, precision: 0.367, recall: 0.221, kappa: 0.002, time: 106.81s)\n"
     ]
    },
    {
     "name": "stderr",
     "output_type": "stream",
     "text": [
      "C:\\Users\\pohly\\AppData\\Local\\Temp\\ipykernel_17960\\3531825925.py:19: UserWarning: Boolean Series key will be reindexed to match DataFrame index.\n",
      "  last_row = df_model[df_model[\"epoch\"] == epoch][df_model[\"mode\"] == mode.name.lower()].mean(numeric_only=True)\n"
     ]
    },
    {
     "name": "stdout",
     "output_type": "stream",
     "text": [
      "Epoch (mode:     joints, lr: 4.475e-03, loss: -1.621e+11, acc: 0.699, f1: 0.523, precision: 0.719, recall: 0.694, kappa: -0.002, time: 317.57s)\n",
      "---  22 ---\n"
     ]
    },
    {
     "name": "stderr",
     "output_type": "stream",
     "text": [
      "C:\\Users\\pohly\\AppData\\Local\\Temp\\ipykernel_17960\\3531825925.py:19: UserWarning: Boolean Series key will be reindexed to match DataFrame index.\n",
      "  last_row = df_model[df_model[\"epoch\"] == epoch][df_model[\"mode\"] == mode.name.lower()].mean(numeric_only=True)\n"
     ]
    },
    {
     "name": "stdout",
     "output_type": "stream",
     "text": [
      "Epoch (mode:  full body, lr: 4.426e-03, loss: -1.729e+09, acc: 0.571, f1: 0.677, precision: 0.571, recall: 0.918, kappa: 0.000, time: 75.59s)\n"
     ]
    },
    {
     "name": "stderr",
     "output_type": "stream",
     "text": [
      "C:\\Users\\pohly\\AppData\\Local\\Temp\\ipykernel_17960\\3531825925.py:19: UserWarning: Boolean Series key will be reindexed to match DataFrame index.\n",
      "  last_row = df_model[df_model[\"epoch\"] == epoch][df_model[\"mode\"] == mode.name.lower()].mean(numeric_only=True)\n"
     ]
    },
    {
     "name": "stdout",
     "output_type": "stream",
     "text": [
      "Epoch (mode:  half body, lr: 4.426e-03, loss: -6.991e+09, acc: 0.652, f1: 0.375, precision: 0.325, recall: 0.491, kappa: -0.021, time: 82.29s)\n"
     ]
    },
    {
     "name": "stderr",
     "output_type": "stream",
     "text": [
      "C:\\Users\\pohly\\AppData\\Local\\Temp\\ipykernel_17960\\3531825925.py:19: UserWarning: Boolean Series key will be reindexed to match DataFrame index.\n",
      "  last_row = df_model[df_model[\"epoch\"] == epoch][df_model[\"mode\"] == mode.name.lower()].mean(numeric_only=True)\n"
     ]
    },
    {
     "name": "stdout",
     "output_type": "stream",
     "text": [
      "Epoch (mode:      limbs, lr: 4.426e-03, loss: -1.921e+10, acc: 0.443, f1: 0.264, precision: 0.370, recall: 0.230, kappa: 0.005, time: 108.24s)\n"
     ]
    },
    {
     "name": "stderr",
     "output_type": "stream",
     "text": [
      "C:\\Users\\pohly\\AppData\\Local\\Temp\\ipykernel_17960\\3531825925.py:19: UserWarning: Boolean Series key will be reindexed to match DataFrame index.\n",
      "  last_row = df_model[df_model[\"epoch\"] == epoch][df_model[\"mode\"] == mode.name.lower()].mean(numeric_only=True)\n"
     ]
    },
    {
     "name": "stdout",
     "output_type": "stream",
     "text": [
      "Epoch (mode:     joints, lr: 4.426e-03, loss: -1.862e+11, acc: 0.690, f1: 0.515, precision: 0.711, recall: 0.682, kappa: 0.008, time: 332.89s)\n",
      "---  23 ---\n"
     ]
    },
    {
     "name": "stderr",
     "output_type": "stream",
     "text": [
      "C:\\Users\\pohly\\AppData\\Local\\Temp\\ipykernel_17960\\3531825925.py:19: UserWarning: Boolean Series key will be reindexed to match DataFrame index.\n",
      "  last_row = df_model[df_model[\"epoch\"] == epoch][df_model[\"mode\"] == mode.name.lower()].mean(numeric_only=True)\n"
     ]
    },
    {
     "name": "stdout",
     "output_type": "stream",
     "text": [
      "Epoch (mode:  full body, lr: 4.375e-03, loss: -1.980e+09, acc: 0.571, f1: 0.678, precision: 0.571, recall: 0.906, kappa: 0.000, time: 76.59s)\n"
     ]
    },
    {
     "name": "stderr",
     "output_type": "stream",
     "text": [
      "C:\\Users\\pohly\\AppData\\Local\\Temp\\ipykernel_17960\\3531825925.py:19: UserWarning: Boolean Series key will be reindexed to match DataFrame index.\n",
      "  last_row = df_model[df_model[\"epoch\"] == epoch][df_model[\"mode\"] == mode.name.lower()].mean(numeric_only=True)\n"
     ]
    },
    {
     "name": "stdout",
     "output_type": "stream",
     "text": [
      "Epoch (mode:  half body, lr: 4.375e-03, loss: -7.961e+09, acc: 0.656, f1: 0.363, precision: 0.311, recall: 0.476, kappa: -0.008, time: 83.34s)\n"
     ]
    },
    {
     "name": "stderr",
     "output_type": "stream",
     "text": [
      "C:\\Users\\pohly\\AppData\\Local\\Temp\\ipykernel_17960\\3531825925.py:19: UserWarning: Boolean Series key will be reindexed to match DataFrame index.\n",
      "  last_row = df_model[df_model[\"epoch\"] == epoch][df_model[\"mode\"] == mode.name.lower()].mean(numeric_only=True)\n"
     ]
    },
    {
     "name": "stdout",
     "output_type": "stream",
     "text": [
      "Epoch (mode:      limbs, lr: 4.375e-03, loss: -2.193e+10, acc: 0.449, f1: 0.269, precision: 0.382, recall: 0.229, kappa: 0.006, time: 109.51s)\n"
     ]
    },
    {
     "name": "stderr",
     "output_type": "stream",
     "text": [
      "C:\\Users\\pohly\\AppData\\Local\\Temp\\ipykernel_17960\\3531825925.py:19: UserWarning: Boolean Series key will be reindexed to match DataFrame index.\n",
      "  last_row = df_model[df_model[\"epoch\"] == epoch][df_model[\"mode\"] == mode.name.lower()].mean(numeric_only=True)\n"
     ]
    },
    {
     "name": "stdout",
     "output_type": "stream",
     "text": [
      "Epoch (mode:     joints, lr: 4.375e-03, loss: -2.108e+11, acc: 0.670, f1: 0.502, precision: 0.696, recall: 0.661, kappa: -0.027, time: 350.26s)\n",
      "---  24 ---\n"
     ]
    },
    {
     "name": "stderr",
     "output_type": "stream",
     "text": [
      "C:\\Users\\pohly\\AppData\\Local\\Temp\\ipykernel_17960\\3531825925.py:19: UserWarning: Boolean Series key will be reindexed to match DataFrame index.\n",
      "  last_row = df_model[df_model[\"epoch\"] == epoch][df_model[\"mode\"] == mode.name.lower()].mean(numeric_only=True)\n"
     ]
    },
    {
     "name": "stdout",
     "output_type": "stream",
     "text": [
      "Epoch (mode:  full body, lr: 4.323e-03, loss: -2.285e+09, acc: 0.571, f1: 0.682, precision: 0.571, recall: 0.924, kappa: 0.000, time: 76.69s)\n"
     ]
    },
    {
     "name": "stderr",
     "output_type": "stream",
     "text": [
      "C:\\Users\\pohly\\AppData\\Local\\Temp\\ipykernel_17960\\3531825925.py:19: UserWarning: Boolean Series key will be reindexed to match DataFrame index.\n",
      "  last_row = df_model[df_model[\"epoch\"] == epoch][df_model[\"mode\"] == mode.name.lower()].mean(numeric_only=True)\n"
     ]
    },
    {
     "name": "stdout",
     "output_type": "stream",
     "text": [
      "Epoch (mode:  half body, lr: 4.323e-03, loss: -8.948e+09, acc: 0.655, f1: 0.384, precision: 0.335, recall: 0.503, kappa: -0.002, time: 83.09s)\n"
     ]
    },
    {
     "name": "stderr",
     "output_type": "stream",
     "text": [
      "C:\\Users\\pohly\\AppData\\Local\\Temp\\ipykernel_17960\\3531825925.py:19: UserWarning: Boolean Series key will be reindexed to match DataFrame index.\n",
      "  last_row = df_model[df_model[\"epoch\"] == epoch][df_model[\"mode\"] == mode.name.lower()].mean(numeric_only=True)\n"
     ]
    },
    {
     "name": "stdout",
     "output_type": "stream",
     "text": [
      "Epoch (mode:      limbs, lr: 4.323e-03, loss: -2.480e+10, acc: 0.449, f1: 0.270, precision: 0.382, recall: 0.232, kappa: 0.002, time: 110.86s)\n"
     ]
    },
    {
     "name": "stderr",
     "output_type": "stream",
     "text": [
      "C:\\Users\\pohly\\AppData\\Local\\Temp\\ipykernel_17960\\3531825925.py:19: UserWarning: Boolean Series key will be reindexed to match DataFrame index.\n",
      "  last_row = df_model[df_model[\"epoch\"] == epoch][df_model[\"mode\"] == mode.name.lower()].mean(numeric_only=True)\n"
     ]
    },
    {
     "name": "stdout",
     "output_type": "stream",
     "text": [
      "Epoch (mode:     joints, lr: 4.323e-03, loss: -2.366e+11, acc: 0.672, f1: 0.503, precision: 0.698, recall: 0.663, kappa: -0.017, time: 355.17s)\n",
      "---  25 ---\n"
     ]
    },
    {
     "name": "stderr",
     "output_type": "stream",
     "text": [
      "C:\\Users\\pohly\\AppData\\Local\\Temp\\ipykernel_17960\\3531825925.py:19: UserWarning: Boolean Series key will be reindexed to match DataFrame index.\n",
      "  last_row = df_model[df_model[\"epoch\"] == epoch][df_model[\"mode\"] == mode.name.lower()].mean(numeric_only=True)\n"
     ]
    },
    {
     "name": "stdout",
     "output_type": "stream",
     "text": [
      "Epoch (mode:  full body, lr: 4.268e-03, loss: -2.560e+09, acc: 0.571, f1: 0.675, precision: 0.571, recall: 0.912, kappa: 0.000, time: 76.77s)\n"
     ]
    },
    {
     "name": "stderr",
     "output_type": "stream",
     "text": [
      "C:\\Users\\pohly\\AppData\\Local\\Temp\\ipykernel_17960\\3531825925.py:19: UserWarning: Boolean Series key will be reindexed to match DataFrame index.\n",
      "  last_row = df_model[df_model[\"epoch\"] == epoch][df_model[\"mode\"] == mode.name.lower()].mean(numeric_only=True)\n"
     ]
    },
    {
     "name": "stdout",
     "output_type": "stream",
     "text": [
      "Epoch (mode:  half body, lr: 4.268e-03, loss: -1.011e+10, acc: 0.657, f1: 0.388, precision: 0.336, recall: 0.501, kappa: 0.004, time: 83.17s)\n"
     ]
    },
    {
     "name": "stderr",
     "output_type": "stream",
     "text": [
      "C:\\Users\\pohly\\AppData\\Local\\Temp\\ipykernel_17960\\3531825925.py:19: UserWarning: Boolean Series key will be reindexed to match DataFrame index.\n",
      "  last_row = df_model[df_model[\"epoch\"] == epoch][df_model[\"mode\"] == mode.name.lower()].mean(numeric_only=True)\n"
     ]
    },
    {
     "name": "stdout",
     "output_type": "stream",
     "text": [
      "Epoch (mode:      limbs, lr: 4.268e-03, loss: -2.786e+10, acc: 0.433, f1: 0.248, precision: 0.350, recall: 0.218, kappa: -0.017, time: 111.43s)\n"
     ]
    },
    {
     "name": "stderr",
     "output_type": "stream",
     "text": [
      "C:\\Users\\pohly\\AppData\\Local\\Temp\\ipykernel_17960\\3531825925.py:19: UserWarning: Boolean Series key will be reindexed to match DataFrame index.\n",
      "  last_row = df_model[df_model[\"epoch\"] == epoch][df_model[\"mode\"] == mode.name.lower()].mean(numeric_only=True)\n"
     ]
    },
    {
     "name": "stdout",
     "output_type": "stream",
     "text": [
      "Epoch (mode:     joints, lr: 4.268e-03, loss: -2.672e+11, acc: 0.668, f1: 0.501, precision: 0.698, recall: 0.657, kappa: 0.023, time: 384.58s)\n",
      "---  26 ---\n"
     ]
    },
    {
     "name": "stderr",
     "output_type": "stream",
     "text": [
      "C:\\Users\\pohly\\AppData\\Local\\Temp\\ipykernel_17960\\3531825925.py:19: UserWarning: Boolean Series key will be reindexed to match DataFrame index.\n",
      "  last_row = df_model[df_model[\"epoch\"] == epoch][df_model[\"mode\"] == mode.name.lower()].mean(numeric_only=True)\n"
     ]
    },
    {
     "name": "stdout",
     "output_type": "stream",
     "text": [
      "Epoch (mode:  full body, lr: 4.212e-03, loss: -2.928e+09, acc: 0.571, f1: 0.687, precision: 0.571, recall: 0.947, kappa: 0.000, time: 77.18s)\n"
     ]
    },
    {
     "name": "stderr",
     "output_type": "stream",
     "text": [
      "C:\\Users\\pohly\\AppData\\Local\\Temp\\ipykernel_17960\\3531825925.py:19: UserWarning: Boolean Series key will be reindexed to match DataFrame index.\n",
      "  last_row = df_model[df_model[\"epoch\"] == epoch][df_model[\"mode\"] == mode.name.lower()].mean(numeric_only=True)\n"
     ]
    },
    {
     "name": "stdout",
     "output_type": "stream",
     "text": [
      "Epoch (mode:  half body, lr: 4.212e-03, loss: -1.120e+10, acc: 0.666, f1: 0.376, precision: 0.332, recall: 0.474, kappa: 0.011, time: 84.36s)\n"
     ]
    },
    {
     "name": "stderr",
     "output_type": "stream",
     "text": [
      "C:\\Users\\pohly\\AppData\\Local\\Temp\\ipykernel_17960\\3531825925.py:19: UserWarning: Boolean Series key will be reindexed to match DataFrame index.\n",
      "  last_row = df_model[df_model[\"epoch\"] == epoch][df_model[\"mode\"] == mode.name.lower()].mean(numeric_only=True)\n"
     ]
    },
    {
     "name": "stdout",
     "output_type": "stream",
     "text": [
      "Epoch (mode:      limbs, lr: 4.212e-03, loss: -3.099e+10, acc: 0.452, f1: 0.256, precision: 0.361, recall: 0.219, kappa: 0.008, time: 114.97s)\n"
     ]
    },
    {
     "name": "stderr",
     "output_type": "stream",
     "text": [
      "C:\\Users\\pohly\\AppData\\Local\\Temp\\ipykernel_17960\\3531825925.py:19: UserWarning: Boolean Series key will be reindexed to match DataFrame index.\n",
      "  last_row = df_model[df_model[\"epoch\"] == epoch][df_model[\"mode\"] == mode.name.lower()].mean(numeric_only=True)\n"
     ]
    },
    {
     "name": "stdout",
     "output_type": "stream",
     "text": [
      "Epoch (mode:     joints, lr: 4.212e-03, loss: -2.963e+11, acc: 0.665, f1: 0.497, precision: 0.692, recall: 0.653, kappa: 0.000, time: 395.80s)\n",
      "---  27 ---\n"
     ]
    },
    {
     "name": "stderr",
     "output_type": "stream",
     "text": [
      "C:\\Users\\pohly\\AppData\\Local\\Temp\\ipykernel_17960\\3531825925.py:19: UserWarning: Boolean Series key will be reindexed to match DataFrame index.\n",
      "  last_row = df_model[df_model[\"epoch\"] == epoch][df_model[\"mode\"] == mode.name.lower()].mean(numeric_only=True)\n"
     ]
    },
    {
     "name": "stdout",
     "output_type": "stream",
     "text": [
      "Epoch (mode:  full body, lr: 4.153e-03, loss: -3.270e+09, acc: 0.571, f1: 0.676, precision: 0.571, recall: 0.912, kappa: 0.000, time: 76.88s)\n"
     ]
    },
    {
     "name": "stderr",
     "output_type": "stream",
     "text": [
      "C:\\Users\\pohly\\AppData\\Local\\Temp\\ipykernel_17960\\3531825925.py:19: UserWarning: Boolean Series key will be reindexed to match DataFrame index.\n",
      "  last_row = df_model[df_model[\"epoch\"] == epoch][df_model[\"mode\"] == mode.name.lower()].mean(numeric_only=True)\n"
     ]
    },
    {
     "name": "stdout",
     "output_type": "stream",
     "text": [
      "Epoch (mode:  half body, lr: 4.153e-03, loss: -1.246e+10, acc: 0.663, f1: 0.376, precision: 0.327, recall: 0.484, kappa: -0.008, time: 84.70s)\n"
     ]
    },
    {
     "name": "stderr",
     "output_type": "stream",
     "text": [
      "C:\\Users\\pohly\\AppData\\Local\\Temp\\ipykernel_17960\\3531825925.py:19: UserWarning: Boolean Series key will be reindexed to match DataFrame index.\n",
      "  last_row = df_model[df_model[\"epoch\"] == epoch][df_model[\"mode\"] == mode.name.lower()].mean(numeric_only=True)\n"
     ]
    },
    {
     "name": "stdout",
     "output_type": "stream",
     "text": [
      "Epoch (mode:      limbs, lr: 4.153e-03, loss: -3.437e+10, acc: 0.438, f1: 0.266, precision: 0.373, recall: 0.232, kappa: 0.002, time: 116.55s)\n"
     ]
    },
    {
     "name": "stderr",
     "output_type": "stream",
     "text": [
      "C:\\Users\\pohly\\AppData\\Local\\Temp\\ipykernel_17960\\3531825925.py:19: UserWarning: Boolean Series key will be reindexed to match DataFrame index.\n",
      "  last_row = df_model[df_model[\"epoch\"] == epoch][df_model[\"mode\"] == mode.name.lower()].mean(numeric_only=True)\n"
     ]
    },
    {
     "name": "stdout",
     "output_type": "stream",
     "text": [
      "Epoch (mode:     joints, lr: 4.153e-03, loss: -3.312e+11, acc: 0.659, f1: 0.493, precision: 0.688, recall: 0.649, kappa: -0.002, time: 409.17s)\n",
      "---  28 ---\n"
     ]
    },
    {
     "name": "stderr",
     "output_type": "stream",
     "text": [
      "C:\\Users\\pohly\\AppData\\Local\\Temp\\ipykernel_17960\\3531825925.py:19: UserWarning: Boolean Series key will be reindexed to match DataFrame index.\n",
      "  last_row = df_model[df_model[\"epoch\"] == epoch][df_model[\"mode\"] == mode.name.lower()].mean(numeric_only=True)\n"
     ]
    },
    {
     "name": "stdout",
     "output_type": "stream",
     "text": [
      "Epoch (mode:  full body, lr: 4.094e-03, loss: -3.626e+09, acc: 0.571, f1: 0.689, precision: 0.571, recall: 0.941, kappa: 0.000, time: 77.88s)\n"
     ]
    },
    {
     "name": "stderr",
     "output_type": "stream",
     "text": [
      "C:\\Users\\pohly\\AppData\\Local\\Temp\\ipykernel_17960\\3531825925.py:19: UserWarning: Boolean Series key will be reindexed to match DataFrame index.\n",
      "  last_row = df_model[df_model[\"epoch\"] == epoch][df_model[\"mode\"] == mode.name.lower()].mean(numeric_only=True)\n"
     ]
    },
    {
     "name": "stdout",
     "output_type": "stream",
     "text": [
      "Epoch (mode:  half body, lr: 4.094e-03, loss: -1.379e+10, acc: 0.664, f1: 0.379, precision: 0.326, recall: 0.501, kappa: 0.002, time: 85.35s)\n"
     ]
    },
    {
     "name": "stderr",
     "output_type": "stream",
     "text": [
      "C:\\Users\\pohly\\AppData\\Local\\Temp\\ipykernel_17960\\3531825925.py:19: UserWarning: Boolean Series key will be reindexed to match DataFrame index.\n",
      "  last_row = df_model[df_model[\"epoch\"] == epoch][df_model[\"mode\"] == mode.name.lower()].mean(numeric_only=True)\n"
     ]
    },
    {
     "name": "stdout",
     "output_type": "stream",
     "text": [
      "Epoch (mode:      limbs, lr: 4.094e-03, loss: -3.815e+10, acc: 0.448, f1: 0.263, precision: 0.376, recall: 0.223, kappa: -0.002, time: 117.15s)\n"
     ]
    },
    {
     "name": "stderr",
     "output_type": "stream",
     "text": [
      "C:\\Users\\pohly\\AppData\\Local\\Temp\\ipykernel_17960\\3531825925.py:19: UserWarning: Boolean Series key will be reindexed to match DataFrame index.\n",
      "  last_row = df_model[df_model[\"epoch\"] == epoch][df_model[\"mode\"] == mode.name.lower()].mean(numeric_only=True)\n"
     ]
    },
    {
     "name": "stdout",
     "output_type": "stream",
     "text": [
      "Epoch (mode:     joints, lr: 4.094e-03, loss: -3.655e+11, acc: 0.648, f1: 0.485, precision: 0.679, recall: 0.635, kappa: -0.015, time: 416.12s)\n",
      "---  29 ---\n"
     ]
    },
    {
     "name": "stderr",
     "output_type": "stream",
     "text": [
      "C:\\Users\\pohly\\AppData\\Local\\Temp\\ipykernel_17960\\3531825925.py:19: UserWarning: Boolean Series key will be reindexed to match DataFrame index.\n",
      "  last_row = df_model[df_model[\"epoch\"] == epoch][df_model[\"mode\"] == mode.name.lower()].mean(numeric_only=True)\n"
     ]
    },
    {
     "name": "stdout",
     "output_type": "stream",
     "text": [
      "Epoch (mode:  full body, lr: 4.032e-03, loss: -4.019e+09, acc: 0.571, f1: 0.683, precision: 0.571, recall: 0.935, kappa: 0.000, time: 78.65s)\n"
     ]
    },
    {
     "name": "stderr",
     "output_type": "stream",
     "text": [
      "C:\\Users\\pohly\\AppData\\Local\\Temp\\ipykernel_17960\\3531825925.py:19: UserWarning: Boolean Series key will be reindexed to match DataFrame index.\n",
      "  last_row = df_model[df_model[\"epoch\"] == epoch][df_model[\"mode\"] == mode.name.lower()].mean(numeric_only=True)\n"
     ]
    },
    {
     "name": "stdout",
     "output_type": "stream",
     "text": [
      "Epoch (mode:  half body, lr: 4.032e-03, loss: -1.516e+10, acc: 0.655, f1: 0.365, precision: 0.316, recall: 0.476, kappa: -0.012, time: 86.40s)\n"
     ]
    },
    {
     "name": "stderr",
     "output_type": "stream",
     "text": [
      "C:\\Users\\pohly\\AppData\\Local\\Temp\\ipykernel_17960\\3531825925.py:19: UserWarning: Boolean Series key will be reindexed to match DataFrame index.\n",
      "  last_row = df_model[df_model[\"epoch\"] == epoch][df_model[\"mode\"] == mode.name.lower()].mean(numeric_only=True)\n"
     ]
    },
    {
     "name": "stdout",
     "output_type": "stream",
     "text": [
      "Epoch (mode:      limbs, lr: 4.032e-03, loss: -4.199e+10, acc: 0.452, f1: 0.265, precision: 0.373, recall: 0.227, kappa: -0.001, time: 119.40s)\n"
     ]
    },
    {
     "name": "stderr",
     "output_type": "stream",
     "text": [
      "C:\\Users\\pohly\\AppData\\Local\\Temp\\ipykernel_17960\\3531825925.py:19: UserWarning: Boolean Series key will be reindexed to match DataFrame index.\n",
      "  last_row = df_model[df_model[\"epoch\"] == epoch][df_model[\"mode\"] == mode.name.lower()].mean(numeric_only=True)\n"
     ]
    },
    {
     "name": "stdout",
     "output_type": "stream",
     "text": [
      "Epoch (mode:     joints, lr: 4.032e-03, loss: -4.011e+11, acc: 0.647, f1: 0.485, precision: 0.679, recall: 0.633, kappa: -0.011, time: 429.68s)\n",
      "---  30 ---\n"
     ]
    },
    {
     "name": "stderr",
     "output_type": "stream",
     "text": [
      "C:\\Users\\pohly\\AppData\\Local\\Temp\\ipykernel_17960\\3531825925.py:19: UserWarning: Boolean Series key will be reindexed to match DataFrame index.\n",
      "  last_row = df_model[df_model[\"epoch\"] == epoch][df_model[\"mode\"] == mode.name.lower()].mean(numeric_only=True)\n"
     ]
    },
    {
     "name": "stdout",
     "output_type": "stream",
     "text": [
      "Epoch (mode:  full body, lr: 3.970e-03, loss: -4.454e+09, acc: 0.571, f1: 0.681, precision: 0.571, recall: 0.929, kappa: 0.000, time: 77.79s)\n"
     ]
    },
    {
     "name": "stderr",
     "output_type": "stream",
     "text": [
      "C:\\Users\\pohly\\AppData\\Local\\Temp\\ipykernel_17960\\3531825925.py:19: UserWarning: Boolean Series key will be reindexed to match DataFrame index.\n",
      "  last_row = df_model[df_model[\"epoch\"] == epoch][df_model[\"mode\"] == mode.name.lower()].mean(numeric_only=True)\n"
     ]
    },
    {
     "name": "stdout",
     "output_type": "stream",
     "text": [
      "Epoch (mode:  half body, lr: 3.970e-03, loss: -1.652e+10, acc: 0.660, f1: 0.370, precision: 0.322, recall: 0.480, kappa: 0.001, time: 86.68s)\n"
     ]
    },
    {
     "name": "stderr",
     "output_type": "stream",
     "text": [
      "C:\\Users\\pohly\\AppData\\Local\\Temp\\ipykernel_17960\\3531825925.py:19: UserWarning: Boolean Series key will be reindexed to match DataFrame index.\n",
      "  last_row = df_model[df_model[\"epoch\"] == epoch][df_model[\"mode\"] == mode.name.lower()].mean(numeric_only=True)\n"
     ]
    },
    {
     "name": "stdout",
     "output_type": "stream",
     "text": [
      "Epoch (mode:      limbs, lr: 3.970e-03, loss: -4.597e+10, acc: 0.462, f1: 0.273, precision: 0.382, recall: 0.233, kappa: 0.012, time: 121.52s)\n"
     ]
    },
    {
     "name": "stderr",
     "output_type": "stream",
     "text": [
      "C:\\Users\\pohly\\AppData\\Local\\Temp\\ipykernel_17960\\3531825925.py:19: UserWarning: Boolean Series key will be reindexed to match DataFrame index.\n",
      "  last_row = df_model[df_model[\"epoch\"] == epoch][df_model[\"mode\"] == mode.name.lower()].mean(numeric_only=True)\n"
     ]
    },
    {
     "name": "stdout",
     "output_type": "stream",
     "text": [
      "Epoch (mode:     joints, lr: 3.970e-03, loss: -4.379e+11, acc: 0.636, f1: 0.477, precision: 0.669, recall: 0.622, kappa: -0.032, time: 441.33s)\n",
      "---  31 ---\n"
     ]
    },
    {
     "name": "stderr",
     "output_type": "stream",
     "text": [
      "C:\\Users\\pohly\\AppData\\Local\\Temp\\ipykernel_17960\\3531825925.py:19: UserWarning: Boolean Series key will be reindexed to match DataFrame index.\n",
      "  last_row = df_model[df_model[\"epoch\"] == epoch][df_model[\"mode\"] == mode.name.lower()].mean(numeric_only=True)\n"
     ]
    },
    {
     "name": "stdout",
     "output_type": "stream",
     "text": [
      "Epoch (mode:  full body, lr: 3.905e-03, loss: -4.851e+09, acc: 0.571, f1: 0.677, precision: 0.571, recall: 0.912, kappa: 0.000, time: 78.73s)\n"
     ]
    },
    {
     "name": "stderr",
     "output_type": "stream",
     "text": [
      "C:\\Users\\pohly\\AppData\\Local\\Temp\\ipykernel_17960\\3531825925.py:19: UserWarning: Boolean Series key will be reindexed to match DataFrame index.\n",
      "  last_row = df_model[df_model[\"epoch\"] == epoch][df_model[\"mode\"] == mode.name.lower()].mean(numeric_only=True)\n"
     ]
    },
    {
     "name": "stdout",
     "output_type": "stream",
     "text": [
      "Epoch (mode:  half body, lr: 3.905e-03, loss: -1.808e+10, acc: 0.659, f1: 0.372, precision: 0.325, recall: 0.483, kappa: 0.000, time: 86.76s)\n"
     ]
    },
    {
     "name": "stderr",
     "output_type": "stream",
     "text": [
      "C:\\Users\\pohly\\AppData\\Local\\Temp\\ipykernel_17960\\3531825925.py:19: UserWarning: Boolean Series key will be reindexed to match DataFrame index.\n",
      "  last_row = df_model[df_model[\"epoch\"] == epoch][df_model[\"mode\"] == mode.name.lower()].mean(numeric_only=True)\n"
     ]
    },
    {
     "name": "stdout",
     "output_type": "stream",
     "text": [
      "Epoch (mode:      limbs, lr: 3.905e-03, loss: -5.008e+10, acc: 0.457, f1: 0.265, precision: 0.377, recall: 0.228, kappa: 0.015, time: 122.33s)\n"
     ]
    },
    {
     "name": "stderr",
     "output_type": "stream",
     "text": [
      "C:\\Users\\pohly\\AppData\\Local\\Temp\\ipykernel_17960\\3531825925.py:19: UserWarning: Boolean Series key will be reindexed to match DataFrame index.\n",
      "  last_row = df_model[df_model[\"epoch\"] == epoch][df_model[\"mode\"] == mode.name.lower()].mean(numeric_only=True)\n"
     ]
    },
    {
     "name": "stdout",
     "output_type": "stream",
     "text": [
      "Epoch (mode:     joints, lr: 3.905e-03, loss: -4.783e+11, acc: 0.653, f1: 0.489, precision: 0.684, recall: 0.641, kappa: 0.002, time: 448.85s)\n",
      "---  32 ---\n"
     ]
    },
    {
     "name": "stderr",
     "output_type": "stream",
     "text": [
      "C:\\Users\\pohly\\AppData\\Local\\Temp\\ipykernel_17960\\3531825925.py:19: UserWarning: Boolean Series key will be reindexed to match DataFrame index.\n",
      "  last_row = df_model[df_model[\"epoch\"] == epoch][df_model[\"mode\"] == mode.name.lower()].mean(numeric_only=True)\n"
     ]
    },
    {
     "name": "stdout",
     "output_type": "stream",
     "text": [
      "Epoch (mode:  full body, lr: 3.840e-03, loss: -5.310e+09, acc: 0.571, f1: 0.684, precision: 0.571, recall: 0.935, kappa: 0.000, time: 77.98s)\n"
     ]
    },
    {
     "name": "stderr",
     "output_type": "stream",
     "text": [
      "C:\\Users\\pohly\\AppData\\Local\\Temp\\ipykernel_17960\\3531825925.py:19: UserWarning: Boolean Series key will be reindexed to match DataFrame index.\n",
      "  last_row = df_model[df_model[\"epoch\"] == epoch][df_model[\"mode\"] == mode.name.lower()].mean(numeric_only=True)\n"
     ]
    },
    {
     "name": "stdout",
     "output_type": "stream",
     "text": [
      "Epoch (mode:  half body, lr: 3.840e-03, loss: -1.955e+10, acc: 0.675, f1: 0.391, precision: 0.342, recall: 0.507, kappa: 0.034, time: 87.38s)\n"
     ]
    },
    {
     "name": "stderr",
     "output_type": "stream",
     "text": [
      "C:\\Users\\pohly\\AppData\\Local\\Temp\\ipykernel_17960\\3531825925.py:19: UserWarning: Boolean Series key will be reindexed to match DataFrame index.\n",
      "  last_row = df_model[df_model[\"epoch\"] == epoch][df_model[\"mode\"] == mode.name.lower()].mean(numeric_only=True)\n"
     ]
    },
    {
     "name": "stdout",
     "output_type": "stream",
     "text": [
      "Epoch (mode:      limbs, lr: 3.840e-03, loss: -5.463e+10, acc: 0.448, f1: 0.241, precision: 0.342, recall: 0.203, kappa: 0.003, time: 123.00s)\n"
     ]
    },
    {
     "name": "stderr",
     "output_type": "stream",
     "text": [
      "C:\\Users\\pohly\\AppData\\Local\\Temp\\ipykernel_17960\\3531825925.py:19: UserWarning: Boolean Series key will be reindexed to match DataFrame index.\n",
      "  last_row = df_model[df_model[\"epoch\"] == epoch][df_model[\"mode\"] == mode.name.lower()].mean(numeric_only=True)\n"
     ]
    },
    {
     "name": "stdout",
     "output_type": "stream",
     "text": [
      "Epoch (mode:     joints, lr: 3.840e-03, loss: -5.204e+11, acc: 0.638, f1: 0.477, precision: 0.671, recall: 0.624, kappa: -0.016, time: 461.92s)\n",
      "---  33 ---\n"
     ]
    },
    {
     "name": "stderr",
     "output_type": "stream",
     "text": [
      "C:\\Users\\pohly\\AppData\\Local\\Temp\\ipykernel_17960\\3531825925.py:19: UserWarning: Boolean Series key will be reindexed to match DataFrame index.\n",
      "  last_row = df_model[df_model[\"epoch\"] == epoch][df_model[\"mode\"] == mode.name.lower()].mean(numeric_only=True)\n"
     ]
    },
    {
     "name": "stdout",
     "output_type": "stream",
     "text": [
      "Epoch (mode:  full body, lr: 3.773e-03, loss: -5.734e+09, acc: 0.571, f1: 0.691, precision: 0.571, recall: 0.965, kappa: 0.000, time: 78.64s)\n"
     ]
    },
    {
     "name": "stderr",
     "output_type": "stream",
     "text": [
      "C:\\Users\\pohly\\AppData\\Local\\Temp\\ipykernel_17960\\3531825925.py:19: UserWarning: Boolean Series key will be reindexed to match DataFrame index.\n",
      "  last_row = df_model[df_model[\"epoch\"] == epoch][df_model[\"mode\"] == mode.name.lower()].mean(numeric_only=True)\n"
     ]
    },
    {
     "name": "stdout",
     "output_type": "stream",
     "text": [
      "Epoch (mode:  half body, lr: 3.773e-03, loss: -2.119e+10, acc: 0.659, f1: 0.368, precision: 0.317, recall: 0.482, kappa: -0.010, time: 88.23s)\n"
     ]
    },
    {
     "name": "stderr",
     "output_type": "stream",
     "text": [
      "C:\\Users\\pohly\\AppData\\Local\\Temp\\ipykernel_17960\\3531825925.py:19: UserWarning: Boolean Series key will be reindexed to match DataFrame index.\n",
      "  last_row = df_model[df_model[\"epoch\"] == epoch][df_model[\"mode\"] == mode.name.lower()].mean(numeric_only=True)\n"
     ]
    },
    {
     "name": "stdout",
     "output_type": "stream",
     "text": [
      "Epoch (mode:      limbs, lr: 3.773e-03, loss: -5.939e+10, acc: 0.455, f1: 0.254, precision: 0.361, recall: 0.216, kappa: 0.018, time: 124.28s)\n"
     ]
    },
    {
     "name": "stderr",
     "output_type": "stream",
     "text": [
      "C:\\Users\\pohly\\AppData\\Local\\Temp\\ipykernel_17960\\3531825925.py:19: UserWarning: Boolean Series key will be reindexed to match DataFrame index.\n",
      "  last_row = df_model[df_model[\"epoch\"] == epoch][df_model[\"mode\"] == mode.name.lower()].mean(numeric_only=True)\n"
     ]
    },
    {
     "name": "stdout",
     "output_type": "stream",
     "text": [
      "Epoch (mode:     joints, lr: 3.773e-03, loss: -5.606e+11, acc: 0.642, f1: 0.481, precision: 0.676, recall: 0.628, kappa: 0.000, time: 471.50s)\n",
      "---  34 ---\n"
     ]
    },
    {
     "name": "stderr",
     "output_type": "stream",
     "text": [
      "C:\\Users\\pohly\\AppData\\Local\\Temp\\ipykernel_17960\\3531825925.py:19: UserWarning: Boolean Series key will be reindexed to match DataFrame index.\n",
      "  last_row = df_model[df_model[\"epoch\"] == epoch][df_model[\"mode\"] == mode.name.lower()].mean(numeric_only=True)\n"
     ]
    },
    {
     "name": "stdout",
     "output_type": "stream",
     "text": [
      "Epoch (mode:  full body, lr: 3.705e-03, loss: -6.292e+09, acc: 0.571, f1: 0.676, precision: 0.571, recall: 0.900, kappa: 0.000, time: 78.23s)\n"
     ]
    },
    {
     "name": "stderr",
     "output_type": "stream",
     "text": [
      "C:\\Users\\pohly\\AppData\\Local\\Temp\\ipykernel_17960\\3531825925.py:19: UserWarning: Boolean Series key will be reindexed to match DataFrame index.\n",
      "  last_row = df_model[df_model[\"epoch\"] == epoch][df_model[\"mode\"] == mode.name.lower()].mean(numeric_only=True)\n"
     ]
    },
    {
     "name": "stdout",
     "output_type": "stream",
     "text": [
      "Epoch (mode:  half body, lr: 3.705e-03, loss: -2.295e+10, acc: 0.653, f1: 0.362, precision: 0.311, recall: 0.472, kappa: -0.018, time: 88.02s)\n"
     ]
    },
    {
     "name": "stderr",
     "output_type": "stream",
     "text": [
      "C:\\Users\\pohly\\AppData\\Local\\Temp\\ipykernel_17960\\3531825925.py:19: UserWarning: Boolean Series key will be reindexed to match DataFrame index.\n",
      "  last_row = df_model[df_model[\"epoch\"] == epoch][df_model[\"mode\"] == mode.name.lower()].mean(numeric_only=True)\n"
     ]
    },
    {
     "name": "stdout",
     "output_type": "stream",
     "text": [
      "Epoch (mode:      limbs, lr: 3.705e-03, loss: -6.351e+10, acc: 0.437, f1: 0.229, precision: 0.327, recall: 0.193, kappa: -0.028, time: 126.72s)\n"
     ]
    },
    {
     "name": "stderr",
     "output_type": "stream",
     "text": [
      "C:\\Users\\pohly\\AppData\\Local\\Temp\\ipykernel_17960\\3531825925.py:19: UserWarning: Boolean Series key will be reindexed to match DataFrame index.\n",
      "  last_row = df_model[df_model[\"epoch\"] == epoch][df_model[\"mode\"] == mode.name.lower()].mean(numeric_only=True)\n"
     ]
    },
    {
     "name": "stdout",
     "output_type": "stream",
     "text": [
      "Epoch (mode:     joints, lr: 3.705e-03, loss: -6.055e+11, acc: 0.641, f1: 0.479, precision: 0.674, recall: 0.625, kappa: 0.001, time: 479.53s)\n",
      "---  35 ---\n"
     ]
    },
    {
     "name": "stderr",
     "output_type": "stream",
     "text": [
      "C:\\Users\\pohly\\AppData\\Local\\Temp\\ipykernel_17960\\3531825925.py:19: UserWarning: Boolean Series key will be reindexed to match DataFrame index.\n",
      "  last_row = df_model[df_model[\"epoch\"] == epoch][df_model[\"mode\"] == mode.name.lower()].mean(numeric_only=True)\n"
     ]
    },
    {
     "name": "stdout",
     "output_type": "stream",
     "text": [
      "Epoch (mode:  full body, lr: 3.635e-03, loss: -6.745e+09, acc: 0.571, f1: 0.680, precision: 0.571, recall: 0.924, kappa: 0.000, time: 78.82s)\n"
     ]
    },
    {
     "name": "stderr",
     "output_type": "stream",
     "text": [
      "C:\\Users\\pohly\\AppData\\Local\\Temp\\ipykernel_17960\\3531825925.py:19: UserWarning: Boolean Series key will be reindexed to match DataFrame index.\n",
      "  last_row = df_model[df_model[\"epoch\"] == epoch][df_model[\"mode\"] == mode.name.lower()].mean(numeric_only=True)\n"
     ]
    },
    {
     "name": "stdout",
     "output_type": "stream",
     "text": [
      "Epoch (mode:  half body, lr: 3.635e-03, loss: -2.473e+10, acc: 0.665, f1: 0.373, precision: 0.322, recall: 0.485, kappa: 0.006, time: 88.52s)\n"
     ]
    },
    {
     "name": "stderr",
     "output_type": "stream",
     "text": [
      "C:\\Users\\pohly\\AppData\\Local\\Temp\\ipykernel_17960\\3531825925.py:19: UserWarning: Boolean Series key will be reindexed to match DataFrame index.\n",
      "  last_row = df_model[df_model[\"epoch\"] == epoch][df_model[\"mode\"] == mode.name.lower()].mean(numeric_only=True)\n"
     ]
    },
    {
     "name": "stdout",
     "output_type": "stream",
     "text": [
      "Epoch (mode:      limbs, lr: 3.635e-03, loss: -6.896e+10, acc: 0.450, f1: 0.250, precision: 0.356, recall: 0.212, kappa: -0.011, time: 128.46s)\n"
     ]
    },
    {
     "name": "stderr",
     "output_type": "stream",
     "text": [
      "C:\\Users\\pohly\\AppData\\Local\\Temp\\ipykernel_17960\\3531825925.py:19: UserWarning: Boolean Series key will be reindexed to match DataFrame index.\n",
      "  last_row = df_model[df_model[\"epoch\"] == epoch][df_model[\"mode\"] == mode.name.lower()].mean(numeric_only=True)\n"
     ]
    },
    {
     "name": "stdout",
     "output_type": "stream",
     "text": [
      "Epoch (mode:     joints, lr: 3.635e-03, loss: -6.567e+11, acc: 0.643, f1: 0.481, precision: 0.677, recall: 0.626, kappa: 0.010, time: 490.18s)\n",
      "---  36 ---\n"
     ]
    },
    {
     "name": "stderr",
     "output_type": "stream",
     "text": [
      "C:\\Users\\pohly\\AppData\\Local\\Temp\\ipykernel_17960\\3531825925.py:19: UserWarning: Boolean Series key will be reindexed to match DataFrame index.\n",
      "  last_row = df_model[df_model[\"epoch\"] == epoch][df_model[\"mode\"] == mode.name.lower()].mean(numeric_only=True)\n"
     ]
    },
    {
     "name": "stdout",
     "output_type": "stream",
     "text": [
      "Epoch (mode:  full body, lr: 3.565e-03, loss: -7.252e+09, acc: 0.571, f1: 0.679, precision: 0.571, recall: 0.924, kappa: 0.000, time: 78.97s)\n"
     ]
    },
    {
     "name": "stderr",
     "output_type": "stream",
     "text": [
      "C:\\Users\\pohly\\AppData\\Local\\Temp\\ipykernel_17960\\3531825925.py:19: UserWarning: Boolean Series key will be reindexed to match DataFrame index.\n",
      "  last_row = df_model[df_model[\"epoch\"] == epoch][df_model[\"mode\"] == mode.name.lower()].mean(numeric_only=True)\n"
     ]
    },
    {
     "name": "stdout",
     "output_type": "stream",
     "text": [
      "Epoch (mode:  half body, lr: 3.565e-03, loss: -2.640e+10, acc: 0.653, f1: 0.371, precision: 0.325, recall: 0.480, kappa: -0.014, time: 89.05s)\n"
     ]
    },
    {
     "name": "stderr",
     "output_type": "stream",
     "text": [
      "C:\\Users\\pohly\\AppData\\Local\\Temp\\ipykernel_17960\\3531825925.py:19: UserWarning: Boolean Series key will be reindexed to match DataFrame index.\n",
      "  last_row = df_model[df_model[\"epoch\"] == epoch][df_model[\"mode\"] == mode.name.lower()].mean(numeric_only=True)\n"
     ]
    },
    {
     "name": "stdout",
     "output_type": "stream",
     "text": [
      "Epoch (mode:      limbs, lr: 3.565e-03, loss: -7.427e+10, acc: 0.430, f1: 0.230, precision: 0.328, recall: 0.196, kappa: -0.018, time: 130.29s)\n"
     ]
    },
    {
     "name": "stderr",
     "output_type": "stream",
     "text": [
      "C:\\Users\\pohly\\AppData\\Local\\Temp\\ipykernel_17960\\3531825925.py:19: UserWarning: Boolean Series key will be reindexed to match DataFrame index.\n",
      "  last_row = df_model[df_model[\"epoch\"] == epoch][df_model[\"mode\"] == mode.name.lower()].mean(numeric_only=True)\n"
     ]
    },
    {
     "name": "stdout",
     "output_type": "stream",
     "text": [
      "Epoch (mode:     joints, lr: 3.565e-03, loss: -7.010e+11, acc: 0.635, f1: 0.474, precision: 0.665, recall: 0.621, kappa: -0.017, time: 508.07s)\n",
      "---  37 ---\n"
     ]
    },
    {
     "name": "stderr",
     "output_type": "stream",
     "text": [
      "C:\\Users\\pohly\\AppData\\Local\\Temp\\ipykernel_17960\\3531825925.py:19: UserWarning: Boolean Series key will be reindexed to match DataFrame index.\n",
      "  last_row = df_model[df_model[\"epoch\"] == epoch][df_model[\"mode\"] == mode.name.lower()].mean(numeric_only=True)\n"
     ]
    },
    {
     "name": "stdout",
     "output_type": "stream",
     "text": [
      "Epoch (mode:  full body, lr: 3.493e-03, loss: -7.802e+09, acc: 0.571, f1: 0.684, precision: 0.571, recall: 0.929, kappa: 0.000, time: 79.98s)\n"
     ]
    },
    {
     "name": "stderr",
     "output_type": "stream",
     "text": [
      "C:\\Users\\pohly\\AppData\\Local\\Temp\\ipykernel_17960\\3531825925.py:19: UserWarning: Boolean Series key will be reindexed to match DataFrame index.\n",
      "  last_row = df_model[df_model[\"epoch\"] == epoch][df_model[\"mode\"] == mode.name.lower()].mean(numeric_only=True)\n"
     ]
    },
    {
     "name": "stdout",
     "output_type": "stream",
     "text": [
      "Epoch (mode:  half body, lr: 3.493e-03, loss: -2.844e+10, acc: 0.671, f1: 0.374, precision: 0.325, recall: 0.485, kappa: 0.013, time: 90.20s)\n"
     ]
    },
    {
     "name": "stderr",
     "output_type": "stream",
     "text": [
      "C:\\Users\\pohly\\AppData\\Local\\Temp\\ipykernel_17960\\3531825925.py:19: UserWarning: Boolean Series key will be reindexed to match DataFrame index.\n",
      "  last_row = df_model[df_model[\"epoch\"] == epoch][df_model[\"mode\"] == mode.name.lower()].mean(numeric_only=True)\n"
     ]
    },
    {
     "name": "stdout",
     "output_type": "stream",
     "text": [
      "Epoch (mode:      limbs, lr: 3.493e-03, loss: -7.906e+10, acc: 0.452, f1: 0.242, precision: 0.342, recall: 0.207, kappa: -0.003, time: 131.09s)\n"
     ]
    },
    {
     "name": "stderr",
     "output_type": "stream",
     "text": [
      "C:\\Users\\pohly\\AppData\\Local\\Temp\\ipykernel_17960\\3531825925.py:19: UserWarning: Boolean Series key will be reindexed to match DataFrame index.\n",
      "  last_row = df_model[df_model[\"epoch\"] == epoch][df_model[\"mode\"] == mode.name.lower()].mean(numeric_only=True)\n"
     ]
    },
    {
     "name": "stdout",
     "output_type": "stream",
     "text": [
      "Epoch (mode:     joints, lr: 3.493e-03, loss: -7.489e+11, acc: 0.633, f1: 0.475, precision: 0.668, recall: 0.618, kappa: 0.001, time: 512.30s)\n",
      "---  38 ---\n"
     ]
    },
    {
     "name": "stderr",
     "output_type": "stream",
     "text": [
      "C:\\Users\\pohly\\AppData\\Local\\Temp\\ipykernel_17960\\3531825925.py:19: UserWarning: Boolean Series key will be reindexed to match DataFrame index.\n",
      "  last_row = df_model[df_model[\"epoch\"] == epoch][df_model[\"mode\"] == mode.name.lower()].mean(numeric_only=True)\n"
     ]
    },
    {
     "name": "stdout",
     "output_type": "stream",
     "text": [
      "Epoch (mode:  full body, lr: 3.421e-03, loss: -8.347e+09, acc: 0.571, f1: 0.672, precision: 0.571, recall: 0.900, kappa: 0.000, time: 79.78s)\n"
     ]
    },
    {
     "name": "stderr",
     "output_type": "stream",
     "text": [
      "C:\\Users\\pohly\\AppData\\Local\\Temp\\ipykernel_17960\\3531825925.py:19: UserWarning: Boolean Series key will be reindexed to match DataFrame index.\n",
      "  last_row = df_model[df_model[\"epoch\"] == epoch][df_model[\"mode\"] == mode.name.lower()].mean(numeric_only=True)\n"
     ]
    },
    {
     "name": "stdout",
     "output_type": "stream",
     "text": [
      "Epoch (mode:  half body, lr: 3.421e-03, loss: -3.016e+10, acc: 0.662, f1: 0.363, precision: 0.313, recall: 0.481, kappa: -0.004, time: 89.78s)\n"
     ]
    },
    {
     "name": "stderr",
     "output_type": "stream",
     "text": [
      "C:\\Users\\pohly\\AppData\\Local\\Temp\\ipykernel_17960\\3531825925.py:19: UserWarning: Boolean Series key will be reindexed to match DataFrame index.\n",
      "  last_row = df_model[df_model[\"epoch\"] == epoch][df_model[\"mode\"] == mode.name.lower()].mean(numeric_only=True)\n"
     ]
    },
    {
     "name": "stdout",
     "output_type": "stream",
     "text": [
      "Epoch (mode:      limbs, lr: 3.421e-03, loss: -8.483e+10, acc: 0.449, f1: 0.232, precision: 0.329, recall: 0.198, kappa: -0.000, time: 132.17s)\n"
     ]
    },
    {
     "name": "stderr",
     "output_type": "stream",
     "text": [
      "C:\\Users\\pohly\\AppData\\Local\\Temp\\ipykernel_17960\\3531825925.py:19: UserWarning: Boolean Series key will be reindexed to match DataFrame index.\n",
      "  last_row = df_model[df_model[\"epoch\"] == epoch][df_model[\"mode\"] == mode.name.lower()].mean(numeric_only=True)\n"
     ]
    },
    {
     "name": "stdout",
     "output_type": "stream",
     "text": [
      "Epoch (mode:     joints, lr: 3.421e-03, loss: -7.978e+11, acc: 0.630, f1: 0.471, precision: 0.665, recall: 0.612, kappa: -0.003, time: 517.32s)\n",
      "---  39 ---\n"
     ]
    },
    {
     "name": "stderr",
     "output_type": "stream",
     "text": [
      "C:\\Users\\pohly\\AppData\\Local\\Temp\\ipykernel_17960\\3531825925.py:19: UserWarning: Boolean Series key will be reindexed to match DataFrame index.\n",
      "  last_row = df_model[df_model[\"epoch\"] == epoch][df_model[\"mode\"] == mode.name.lower()].mean(numeric_only=True)\n"
     ]
    },
    {
     "name": "stdout",
     "output_type": "stream",
     "text": [
      "Epoch (mode:  full body, lr: 3.347e-03, loss: -8.903e+09, acc: 0.571, f1: 0.674, precision: 0.571, recall: 0.912, kappa: 0.000, time: 79.48s)\n"
     ]
    },
    {
     "name": "stderr",
     "output_type": "stream",
     "text": [
      "C:\\Users\\pohly\\AppData\\Local\\Temp\\ipykernel_17960\\3531825925.py:19: UserWarning: Boolean Series key will be reindexed to match DataFrame index.\n",
      "  last_row = df_model[df_model[\"epoch\"] == epoch][df_model[\"mode\"] == mode.name.lower()].mean(numeric_only=True)\n"
     ]
    },
    {
     "name": "stdout",
     "output_type": "stream",
     "text": [
      "Epoch (mode:  half body, lr: 3.347e-03, loss: -3.198e+10, acc: 0.666, f1: 0.370, precision: 0.316, recall: 0.490, kappa: 0.001, time: 90.75s)\n"
     ]
    },
    {
     "name": "stderr",
     "output_type": "stream",
     "text": [
      "C:\\Users\\pohly\\AppData\\Local\\Temp\\ipykernel_17960\\3531825925.py:19: UserWarning: Boolean Series key will be reindexed to match DataFrame index.\n",
      "  last_row = df_model[df_model[\"epoch\"] == epoch][df_model[\"mode\"] == mode.name.lower()].mean(numeric_only=True)\n"
     ]
    },
    {
     "name": "stdout",
     "output_type": "stream",
     "text": [
      "Epoch (mode:      limbs, lr: 3.347e-03, loss: -8.998e+10, acc: 0.452, f1: 0.233, precision: 0.339, recall: 0.197, kappa: 0.011, time: 133.54s)\n"
     ]
    },
    {
     "name": "stderr",
     "output_type": "stream",
     "text": [
      "C:\\Users\\pohly\\AppData\\Local\\Temp\\ipykernel_17960\\3531825925.py:19: UserWarning: Boolean Series key will be reindexed to match DataFrame index.\n",
      "  last_row = df_model[df_model[\"epoch\"] == epoch][df_model[\"mode\"] == mode.name.lower()].mean(numeric_only=True)\n"
     ]
    },
    {
     "name": "stdout",
     "output_type": "stream",
     "text": [
      "Epoch (mode:     joints, lr: 3.347e-03, loss: -8.486e+11, acc: 0.634, f1: 0.474, precision: 0.669, recall: 0.618, kappa: -0.007, time: 533.62s)\n",
      "---  40 ---\n"
     ]
    },
    {
     "name": "stderr",
     "output_type": "stream",
     "text": [
      "C:\\Users\\pohly\\AppData\\Local\\Temp\\ipykernel_17960\\3531825925.py:19: UserWarning: Boolean Series key will be reindexed to match DataFrame index.\n",
      "  last_row = df_model[df_model[\"epoch\"] == epoch][df_model[\"mode\"] == mode.name.lower()].mean(numeric_only=True)\n"
     ]
    },
    {
     "name": "stdout",
     "output_type": "stream",
     "text": [
      "Epoch (mode:  full body, lr: 3.273e-03, loss: -9.493e+09, acc: 0.571, f1: 0.684, precision: 0.571, recall: 0.935, kappa: 0.000, time: 79.91s)\n"
     ]
    },
    {
     "name": "stderr",
     "output_type": "stream",
     "text": [
      "C:\\Users\\pohly\\AppData\\Local\\Temp\\ipykernel_17960\\3531825925.py:19: UserWarning: Boolean Series key will be reindexed to match DataFrame index.\n",
      "  last_row = df_model[df_model[\"epoch\"] == epoch][df_model[\"mode\"] == mode.name.lower()].mean(numeric_only=True)\n"
     ]
    },
    {
     "name": "stdout",
     "output_type": "stream",
     "text": [
      "Epoch (mode:  half body, lr: 3.273e-03, loss: -3.407e+10, acc: 0.658, f1: 0.371, precision: 0.322, recall: 0.484, kappa: 0.005, time: 91.06s)\n"
     ]
    },
    {
     "name": "stderr",
     "output_type": "stream",
     "text": [
      "C:\\Users\\pohly\\AppData\\Local\\Temp\\ipykernel_17960\\3531825925.py:19: UserWarning: Boolean Series key will be reindexed to match DataFrame index.\n",
      "  last_row = df_model[df_model[\"epoch\"] == epoch][df_model[\"mode\"] == mode.name.lower()].mean(numeric_only=True)\n"
     ]
    },
    {
     "name": "stdout",
     "output_type": "stream",
     "text": [
      "Epoch (mode:      limbs, lr: 3.273e-03, loss: -9.600e+10, acc: 0.457, f1: 0.238, precision: 0.349, recall: 0.199, kappa: 0.005, time: 134.95s)\n"
     ]
    },
    {
     "name": "stderr",
     "output_type": "stream",
     "text": [
      "C:\\Users\\pohly\\AppData\\Local\\Temp\\ipykernel_17960\\3531825925.py:19: UserWarning: Boolean Series key will be reindexed to match DataFrame index.\n",
      "  last_row = df_model[df_model[\"epoch\"] == epoch][df_model[\"mode\"] == mode.name.lower()].mean(numeric_only=True)\n"
     ]
    },
    {
     "name": "stdout",
     "output_type": "stream",
     "text": [
      "Epoch (mode:     joints, lr: 3.273e-03, loss: -9.029e+11, acc: 0.634, f1: 0.473, precision: 0.667, recall: 0.616, kappa: 0.004, time: 516.81s)\n",
      "---  41 ---\n"
     ]
    },
    {
     "name": "stderr",
     "output_type": "stream",
     "text": [
      "C:\\Users\\pohly\\AppData\\Local\\Temp\\ipykernel_17960\\3531825925.py:19: UserWarning: Boolean Series key will be reindexed to match DataFrame index.\n",
      "  last_row = df_model[df_model[\"epoch\"] == epoch][df_model[\"mode\"] == mode.name.lower()].mean(numeric_only=True)\n"
     ]
    },
    {
     "name": "stdout",
     "output_type": "stream",
     "text": [
      "Epoch (mode:  full body, lr: 3.198e-03, loss: -9.990e+09, acc: 0.571, f1: 0.686, precision: 0.571, recall: 0.935, kappa: 0.000, time: 79.84s)\n"
     ]
    },
    {
     "name": "stderr",
     "output_type": "stream",
     "text": [
      "C:\\Users\\pohly\\AppData\\Local\\Temp\\ipykernel_17960\\3531825925.py:19: UserWarning: Boolean Series key will be reindexed to match DataFrame index.\n",
      "  last_row = df_model[df_model[\"epoch\"] == epoch][df_model[\"mode\"] == mode.name.lower()].mean(numeric_only=True)\n"
     ]
    },
    {
     "name": "stdout",
     "output_type": "stream",
     "text": [
      "Epoch (mode:  half body, lr: 3.198e-03, loss: -3.593e+10, acc: 0.662, f1: 0.368, precision: 0.320, recall: 0.476, kappa: -0.000, time: 89.12s)\n"
     ]
    },
    {
     "name": "stderr",
     "output_type": "stream",
     "text": [
      "C:\\Users\\pohly\\AppData\\Local\\Temp\\ipykernel_17960\\3531825925.py:19: UserWarning: Boolean Series key will be reindexed to match DataFrame index.\n",
      "  last_row = df_model[df_model[\"epoch\"] == epoch][df_model[\"mode\"] == mode.name.lower()].mean(numeric_only=True)\n"
     ]
    },
    {
     "name": "stdout",
     "output_type": "stream",
     "text": [
      "Epoch (mode:      limbs, lr: 3.198e-03, loss: -1.020e+11, acc: 0.445, f1: 0.225, precision: 0.324, recall: 0.191, kappa: -0.011, time: 131.35s)\n"
     ]
    },
    {
     "name": "stderr",
     "output_type": "stream",
     "text": [
      "C:\\Users\\pohly\\AppData\\Local\\Temp\\ipykernel_17960\\3531825925.py:19: UserWarning: Boolean Series key will be reindexed to match DataFrame index.\n",
      "  last_row = df_model[df_model[\"epoch\"] == epoch][df_model[\"mode\"] == mode.name.lower()].mean(numeric_only=True)\n"
     ]
    },
    {
     "name": "stdout",
     "output_type": "stream",
     "text": [
      "Epoch (mode:     joints, lr: 3.198e-03, loss: -9.477e+11, acc: 0.628, f1: 0.470, precision: 0.662, recall: 0.614, kappa: -0.013, time: 518.74s)\n",
      "---  42 ---\n"
     ]
    },
    {
     "name": "stderr",
     "output_type": "stream",
     "text": [
      "C:\\Users\\pohly\\AppData\\Local\\Temp\\ipykernel_17960\\3531825925.py:19: UserWarning: Boolean Series key will be reindexed to match DataFrame index.\n",
      "  last_row = df_model[df_model[\"epoch\"] == epoch][df_model[\"mode\"] == mode.name.lower()].mean(numeric_only=True)\n"
     ]
    },
    {
     "name": "stdout",
     "output_type": "stream",
     "text": [
      "Epoch (mode:  full body, lr: 3.122e-03, loss: -1.060e+10, acc: 0.571, f1: 0.685, precision: 0.571, recall: 0.935, kappa: 0.000, time: 79.53s)\n"
     ]
    },
    {
     "name": "stderr",
     "output_type": "stream",
     "text": [
      "C:\\Users\\pohly\\AppData\\Local\\Temp\\ipykernel_17960\\3531825925.py:19: UserWarning: Boolean Series key will be reindexed to match DataFrame index.\n",
      "  last_row = df_model[df_model[\"epoch\"] == epoch][df_model[\"mode\"] == mode.name.lower()].mean(numeric_only=True)\n"
     ]
    },
    {
     "name": "stdout",
     "output_type": "stream",
     "text": [
      "Epoch (mode:  half body, lr: 3.122e-03, loss: -3.795e+10, acc: 0.657, f1: 0.365, precision: 0.314, recall: 0.478, kappa: -0.012, time: 90.25s)\n"
     ]
    },
    {
     "name": "stderr",
     "output_type": "stream",
     "text": [
      "C:\\Users\\pohly\\AppData\\Local\\Temp\\ipykernel_17960\\3531825925.py:19: UserWarning: Boolean Series key will be reindexed to match DataFrame index.\n",
      "  last_row = df_model[df_model[\"epoch\"] == epoch][df_model[\"mode\"] == mode.name.lower()].mean(numeric_only=True)\n"
     ]
    },
    {
     "name": "stdout",
     "output_type": "stream",
     "text": [
      "Epoch (mode:      limbs, lr: 3.122e-03, loss: -1.074e+11, acc: 0.450, f1: 0.233, precision: 0.331, recall: 0.197, kappa: 0.013, time: 134.17s)\n"
     ]
    },
    {
     "name": "stderr",
     "output_type": "stream",
     "text": [
      "C:\\Users\\pohly\\AppData\\Local\\Temp\\ipykernel_17960\\3531825925.py:19: UserWarning: Boolean Series key will be reindexed to match DataFrame index.\n",
      "  last_row = df_model[df_model[\"epoch\"] == epoch][df_model[\"mode\"] == mode.name.lower()].mean(numeric_only=True)\n"
     ]
    },
    {
     "name": "stdout",
     "output_type": "stream",
     "text": [
      "Epoch (mode:     joints, lr: 3.122e-03, loss: -1.004e+12, acc: 0.635, f1: 0.474, precision: 0.669, recall: 0.617, kappa: -0.011, time: 543.66s)\n",
      "---  43 ---\n"
     ]
    },
    {
     "name": "stderr",
     "output_type": "stream",
     "text": [
      "C:\\Users\\pohly\\AppData\\Local\\Temp\\ipykernel_17960\\3531825925.py:19: UserWarning: Boolean Series key will be reindexed to match DataFrame index.\n",
      "  last_row = df_model[df_model[\"epoch\"] == epoch][df_model[\"mode\"] == mode.name.lower()].mean(numeric_only=True)\n"
     ]
    },
    {
     "name": "stdout",
     "output_type": "stream",
     "text": [
      "Epoch (mode:  full body, lr: 3.046e-03, loss: -1.115e+10, acc: 0.571, f1: 0.686, precision: 0.571, recall: 0.935, kappa: 0.000, time: 80.09s)\n"
     ]
    },
    {
     "name": "stderr",
     "output_type": "stream",
     "text": [
      "C:\\Users\\pohly\\AppData\\Local\\Temp\\ipykernel_17960\\3531825925.py:19: UserWarning: Boolean Series key will be reindexed to match DataFrame index.\n",
      "  last_row = df_model[df_model[\"epoch\"] == epoch][df_model[\"mode\"] == mode.name.lower()].mean(numeric_only=True)\n"
     ]
    },
    {
     "name": "stdout",
     "output_type": "stream",
     "text": [
      "Epoch (mode:  half body, lr: 3.046e-03, loss: -3.993e+10, acc: 0.665, f1: 0.376, precision: 0.329, recall: 0.486, kappa: 0.014, time: 91.99s)\n"
     ]
    },
    {
     "name": "stderr",
     "output_type": "stream",
     "text": [
      "C:\\Users\\pohly\\AppData\\Local\\Temp\\ipykernel_17960\\3531825925.py:19: UserWarning: Boolean Series key will be reindexed to match DataFrame index.\n",
      "  last_row = df_model[df_model[\"epoch\"] == epoch][df_model[\"mode\"] == mode.name.lower()].mean(numeric_only=True)\n"
     ]
    },
    {
     "name": "stdout",
     "output_type": "stream",
     "text": [
      "Epoch (mode:      limbs, lr: 3.046e-03, loss: -1.135e+11, acc: 0.446, f1: 0.224, precision: 0.327, recall: 0.188, kappa: 0.001, time: 136.41s)\n"
     ]
    },
    {
     "name": "stderr",
     "output_type": "stream",
     "text": [
      "C:\\Users\\pohly\\AppData\\Local\\Temp\\ipykernel_17960\\3531825925.py:19: UserWarning: Boolean Series key will be reindexed to match DataFrame index.\n",
      "  last_row = df_model[df_model[\"epoch\"] == epoch][df_model[\"mode\"] == mode.name.lower()].mean(numeric_only=True)\n"
     ]
    },
    {
     "name": "stdout",
     "output_type": "stream",
     "text": [
      "Epoch (mode:     joints, lr: 3.046e-03, loss: -1.060e+12, acc: 0.629, f1: 0.471, precision: 0.664, recall: 0.614, kappa: -0.016, time: 574.67s)\n",
      "---  44 ---\n"
     ]
    },
    {
     "name": "stderr",
     "output_type": "stream",
     "text": [
      "C:\\Users\\pohly\\AppData\\Local\\Temp\\ipykernel_17960\\3531825925.py:19: UserWarning: Boolean Series key will be reindexed to match DataFrame index.\n",
      "  last_row = df_model[df_model[\"epoch\"] == epoch][df_model[\"mode\"] == mode.name.lower()].mean(numeric_only=True)\n"
     ]
    },
    {
     "name": "stdout",
     "output_type": "stream",
     "text": [
      "Epoch (mode:  full body, lr: 2.969e-03, loss: -1.179e+10, acc: 0.571, f1: 0.674, precision: 0.571, recall: 0.900, kappa: 0.000, time: 80.53s)\n"
     ]
    },
    {
     "name": "stderr",
     "output_type": "stream",
     "text": [
      "C:\\Users\\pohly\\AppData\\Local\\Temp\\ipykernel_17960\\3531825925.py:19: UserWarning: Boolean Series key will be reindexed to match DataFrame index.\n",
      "  last_row = df_model[df_model[\"epoch\"] == epoch][df_model[\"mode\"] == mode.name.lower()].mean(numeric_only=True)\n"
     ]
    },
    {
     "name": "stdout",
     "output_type": "stream",
     "text": [
      "Epoch (mode:  half body, lr: 2.969e-03, loss: -4.222e+10, acc: 0.660, f1: 0.364, precision: 0.316, recall: 0.479, kappa: -0.006, time: 91.88s)\n"
     ]
    },
    {
     "name": "stderr",
     "output_type": "stream",
     "text": [
      "C:\\Users\\pohly\\AppData\\Local\\Temp\\ipykernel_17960\\3531825925.py:19: UserWarning: Boolean Series key will be reindexed to match DataFrame index.\n",
      "  last_row = df_model[df_model[\"epoch\"] == epoch][df_model[\"mode\"] == mode.name.lower()].mean(numeric_only=True)\n"
     ]
    },
    {
     "name": "stdout",
     "output_type": "stream",
     "text": [
      "Epoch (mode:      limbs, lr: 2.969e-03, loss: -1.201e+11, acc: 0.443, f1: 0.219, precision: 0.312, recall: 0.188, kappa: 0.004, time: 137.58s)\n"
     ]
    },
    {
     "name": "stderr",
     "output_type": "stream",
     "text": [
      "C:\\Users\\pohly\\AppData\\Local\\Temp\\ipykernel_17960\\3531825925.py:19: UserWarning: Boolean Series key will be reindexed to match DataFrame index.\n",
      "  last_row = df_model[df_model[\"epoch\"] == epoch][df_model[\"mode\"] == mode.name.lower()].mean(numeric_only=True)\n"
     ]
    },
    {
     "name": "stdout",
     "output_type": "stream",
     "text": [
      "Epoch (mode:     joints, lr: 2.969e-03, loss: -1.109e+12, acc: 0.627, f1: 0.470, precision: 0.663, recall: 0.611, kappa: -0.002, time: 561.46s)\n",
      "---  45 ---\n"
     ]
    },
    {
     "name": "stderr",
     "output_type": "stream",
     "text": [
      "C:\\Users\\pohly\\AppData\\Local\\Temp\\ipykernel_17960\\3531825925.py:19: UserWarning: Boolean Series key will be reindexed to match DataFrame index.\n",
      "  last_row = df_model[df_model[\"epoch\"] == epoch][df_model[\"mode\"] == mode.name.lower()].mean(numeric_only=True)\n"
     ]
    },
    {
     "name": "stdout",
     "output_type": "stream",
     "text": [
      "Epoch (mode:  full body, lr: 2.892e-03, loss: -1.236e+10, acc: 0.571, f1: 0.679, precision: 0.571, recall: 0.924, kappa: 0.000, time: 81.77s)\n"
     ]
    },
    {
     "name": "stderr",
     "output_type": "stream",
     "text": [
      "C:\\Users\\pohly\\AppData\\Local\\Temp\\ipykernel_17960\\3531825925.py:19: UserWarning: Boolean Series key will be reindexed to match DataFrame index.\n",
      "  last_row = df_model[df_model[\"epoch\"] == epoch][df_model[\"mode\"] == mode.name.lower()].mean(numeric_only=True)\n"
     ]
    },
    {
     "name": "stdout",
     "output_type": "stream",
     "text": [
      "Epoch (mode:  half body, lr: 2.892e-03, loss: -4.429e+10, acc: 0.660, f1: 0.375, precision: 0.327, recall: 0.485, kappa: 0.003, time: 92.79s)\n"
     ]
    },
    {
     "name": "stderr",
     "output_type": "stream",
     "text": [
      "C:\\Users\\pohly\\AppData\\Local\\Temp\\ipykernel_17960\\3531825925.py:19: UserWarning: Boolean Series key will be reindexed to match DataFrame index.\n",
      "  last_row = df_model[df_model[\"epoch\"] == epoch][df_model[\"mode\"] == mode.name.lower()].mean(numeric_only=True)\n"
     ]
    },
    {
     "name": "stdout",
     "output_type": "stream",
     "text": [
      "Epoch (mode:      limbs, lr: 2.892e-03, loss: -1.259e+11, acc: 0.447, f1: 0.213, precision: 0.313, recall: 0.177, kappa: 0.013, time: 141.56s)\n"
     ]
    },
    {
     "name": "stderr",
     "output_type": "stream",
     "text": [
      "C:\\Users\\pohly\\AppData\\Local\\Temp\\ipykernel_17960\\3531825925.py:19: UserWarning: Boolean Series key will be reindexed to match DataFrame index.\n",
      "  last_row = df_model[df_model[\"epoch\"] == epoch][df_model[\"mode\"] == mode.name.lower()].mean(numeric_only=True)\n"
     ]
    },
    {
     "name": "stdout",
     "output_type": "stream",
     "text": [
      "Epoch (mode:     joints, lr: 2.892e-03, loss: -1.170e+12, acc: 0.631, f1: 0.472, precision: 0.666, recall: 0.615, kappa: -0.012, time: 585.43s)\n",
      "---  46 ---\n"
     ]
    },
    {
     "name": "stderr",
     "output_type": "stream",
     "text": [
      "C:\\Users\\pohly\\AppData\\Local\\Temp\\ipykernel_17960\\3531825925.py:19: UserWarning: Boolean Series key will be reindexed to match DataFrame index.\n",
      "  last_row = df_model[df_model[\"epoch\"] == epoch][df_model[\"mode\"] == mode.name.lower()].mean(numeric_only=True)\n"
     ]
    },
    {
     "name": "stdout",
     "output_type": "stream",
     "text": [
      "Epoch (mode:  full body, lr: 2.814e-03, loss: -1.303e+10, acc: 0.571, f1: 0.674, precision: 0.571, recall: 0.906, kappa: 0.000, time: 81.33s)\n"
     ]
    },
    {
     "name": "stderr",
     "output_type": "stream",
     "text": [
      "C:\\Users\\pohly\\AppData\\Local\\Temp\\ipykernel_17960\\3531825925.py:19: UserWarning: Boolean Series key will be reindexed to match DataFrame index.\n",
      "  last_row = df_model[df_model[\"epoch\"] == epoch][df_model[\"mode\"] == mode.name.lower()].mean(numeric_only=True)\n"
     ]
    },
    {
     "name": "stdout",
     "output_type": "stream",
     "text": [
      "Epoch (mode:  half body, lr: 2.814e-03, loss: -4.643e+10, acc: 0.666, f1: 0.373, precision: 0.325, recall: 0.491, kappa: 0.013, time: 93.97s)\n"
     ]
    },
    {
     "name": "stderr",
     "output_type": "stream",
     "text": [
      "C:\\Users\\pohly\\AppData\\Local\\Temp\\ipykernel_17960\\3531825925.py:19: UserWarning: Boolean Series key will be reindexed to match DataFrame index.\n",
      "  last_row = df_model[df_model[\"epoch\"] == epoch][df_model[\"mode\"] == mode.name.lower()].mean(numeric_only=True)\n"
     ]
    },
    {
     "name": "stdout",
     "output_type": "stream",
     "text": [
      "Epoch (mode:      limbs, lr: 2.814e-03, loss: -1.318e+11, acc: 0.445, f1: 0.231, precision: 0.338, recall: 0.193, kappa: 0.003, time: 140.11s)\n"
     ]
    },
    {
     "name": "stderr",
     "output_type": "stream",
     "text": [
      "C:\\Users\\pohly\\AppData\\Local\\Temp\\ipykernel_17960\\3531825925.py:19: UserWarning: Boolean Series key will be reindexed to match DataFrame index.\n",
      "  last_row = df_model[df_model[\"epoch\"] == epoch][df_model[\"mode\"] == mode.name.lower()].mean(numeric_only=True)\n"
     ]
    },
    {
     "name": "stdout",
     "output_type": "stream",
     "text": [
      "Epoch (mode:     joints, lr: 2.814e-03, loss: -1.226e+12, acc: 0.638, f1: 0.476, precision: 0.670, recall: 0.621, kappa: 0.012, time: 562.73s)\n",
      "---  47 ---\n"
     ]
    },
    {
     "name": "stderr",
     "output_type": "stream",
     "text": [
      "C:\\Users\\pohly\\AppData\\Local\\Temp\\ipykernel_17960\\3531825925.py:19: UserWarning: Boolean Series key will be reindexed to match DataFrame index.\n",
      "  last_row = df_model[df_model[\"epoch\"] == epoch][df_model[\"mode\"] == mode.name.lower()].mean(numeric_only=True)\n"
     ]
    },
    {
     "name": "stdout",
     "output_type": "stream",
     "text": [
      "Epoch (mode:  full body, lr: 2.736e-03, loss: -1.360e+10, acc: 0.571, f1: 0.678, precision: 0.571, recall: 0.924, kappa: 0.000, time: 79.94s)\n"
     ]
    },
    {
     "name": "stderr",
     "output_type": "stream",
     "text": [
      "C:\\Users\\pohly\\AppData\\Local\\Temp\\ipykernel_17960\\3531825925.py:19: UserWarning: Boolean Series key will be reindexed to match DataFrame index.\n",
      "  last_row = df_model[df_model[\"epoch\"] == epoch][df_model[\"mode\"] == mode.name.lower()].mean(numeric_only=True)\n"
     ]
    },
    {
     "name": "stdout",
     "output_type": "stream",
     "text": [
      "Epoch (mode:  half body, lr: 2.736e-03, loss: -4.831e+10, acc: 0.665, f1: 0.376, precision: 0.325, recall: 0.493, kappa: 0.006, time: 92.32s)\n"
     ]
    },
    {
     "name": "stderr",
     "output_type": "stream",
     "text": [
      "C:\\Users\\pohly\\AppData\\Local\\Temp\\ipykernel_17960\\3531825925.py:19: UserWarning: Boolean Series key will be reindexed to match DataFrame index.\n",
      "  last_row = df_model[df_model[\"epoch\"] == epoch][df_model[\"mode\"] == mode.name.lower()].mean(numeric_only=True)\n"
     ]
    },
    {
     "name": "stdout",
     "output_type": "stream",
     "text": [
      "Epoch (mode:      limbs, lr: 2.736e-03, loss: -1.388e+11, acc: 0.446, f1: 0.216, precision: 0.313, recall: 0.184, kappa: 0.013, time: 139.51s)\n"
     ]
    },
    {
     "name": "stderr",
     "output_type": "stream",
     "text": [
      "C:\\Users\\pohly\\AppData\\Local\\Temp\\ipykernel_17960\\3531825925.py:19: UserWarning: Boolean Series key will be reindexed to match DataFrame index.\n",
      "  last_row = df_model[df_model[\"epoch\"] == epoch][df_model[\"mode\"] == mode.name.lower()].mean(numeric_only=True)\n"
     ]
    },
    {
     "name": "stdout",
     "output_type": "stream",
     "text": [
      "Epoch (mode:     joints, lr: 2.736e-03, loss: -1.277e+12, acc: 0.634, f1: 0.473, precision: 0.667, recall: 0.617, kappa: 0.007, time: 573.57s)\n",
      "---  48 ---\n"
     ]
    },
    {
     "name": "stderr",
     "output_type": "stream",
     "text": [
      "C:\\Users\\pohly\\AppData\\Local\\Temp\\ipykernel_17960\\3531825925.py:19: UserWarning: Boolean Series key will be reindexed to match DataFrame index.\n",
      "  last_row = df_model[df_model[\"epoch\"] == epoch][df_model[\"mode\"] == mode.name.lower()].mean(numeric_only=True)\n"
     ]
    },
    {
     "name": "stdout",
     "output_type": "stream",
     "text": [
      "Epoch (mode:  full body, lr: 2.657e-03, loss: -1.410e+10, acc: 0.571, f1: 0.678, precision: 0.571, recall: 0.918, kappa: 0.000, time: 80.84s)\n"
     ]
    },
    {
     "name": "stderr",
     "output_type": "stream",
     "text": [
      "C:\\Users\\pohly\\AppData\\Local\\Temp\\ipykernel_17960\\3531825925.py:19: UserWarning: Boolean Series key will be reindexed to match DataFrame index.\n",
      "  last_row = df_model[df_model[\"epoch\"] == epoch][df_model[\"mode\"] == mode.name.lower()].mean(numeric_only=True)\n"
     ]
    },
    {
     "name": "stdout",
     "output_type": "stream",
     "text": [
      "Epoch (mode:  half body, lr: 2.657e-03, loss: -5.070e+10, acc: 0.664, f1: 0.369, precision: 0.325, recall: 0.478, kappa: -0.002, time: 92.46s)\n"
     ]
    },
    {
     "name": "stderr",
     "output_type": "stream",
     "text": [
      "C:\\Users\\pohly\\AppData\\Local\\Temp\\ipykernel_17960\\3531825925.py:19: UserWarning: Boolean Series key will be reindexed to match DataFrame index.\n",
      "  last_row = df_model[df_model[\"epoch\"] == epoch][df_model[\"mode\"] == mode.name.lower()].mean(numeric_only=True)\n"
     ]
    },
    {
     "name": "stdout",
     "output_type": "stream",
     "text": [
      "Epoch (mode:      limbs, lr: 2.657e-03, loss: -1.449e+11, acc: 0.441, f1: 0.213, precision: 0.307, recall: 0.180, kappa: 0.002, time: 140.39s)\n"
     ]
    },
    {
     "name": "stderr",
     "output_type": "stream",
     "text": [
      "C:\\Users\\pohly\\AppData\\Local\\Temp\\ipykernel_17960\\3531825925.py:19: UserWarning: Boolean Series key will be reindexed to match DataFrame index.\n",
      "  last_row = df_model[df_model[\"epoch\"] == epoch][df_model[\"mode\"] == mode.name.lower()].mean(numeric_only=True)\n"
     ]
    },
    {
     "name": "stdout",
     "output_type": "stream",
     "text": [
      "Epoch (mode:     joints, lr: 2.657e-03, loss: -1.335e+12, acc: 0.637, f1: 0.476, precision: 0.671, recall: 0.619, kappa: 0.010, time: 582.70s)\n",
      "---  49 ---\n"
     ]
    },
    {
     "name": "stderr",
     "output_type": "stream",
     "text": [
      "C:\\Users\\pohly\\AppData\\Local\\Temp\\ipykernel_17960\\3531825925.py:19: UserWarning: Boolean Series key will be reindexed to match DataFrame index.\n",
      "  last_row = df_model[df_model[\"epoch\"] == epoch][df_model[\"mode\"] == mode.name.lower()].mean(numeric_only=True)\n"
     ]
    },
    {
     "name": "stdout",
     "output_type": "stream",
     "text": [
      "Epoch (mode:  full body, lr: 2.579e-03, loss: -1.479e+10, acc: 0.571, f1: 0.676, precision: 0.571, recall: 0.912, kappa: 0.000, time: 80.58s)\n"
     ]
    },
    {
     "name": "stderr",
     "output_type": "stream",
     "text": [
      "C:\\Users\\pohly\\AppData\\Local\\Temp\\ipykernel_17960\\3531825925.py:19: UserWarning: Boolean Series key will be reindexed to match DataFrame index.\n",
      "  last_row = df_model[df_model[\"epoch\"] == epoch][df_model[\"mode\"] == mode.name.lower()].mean(numeric_only=True)\n"
     ]
    },
    {
     "name": "stdout",
     "output_type": "stream",
     "text": [
      "Epoch (mode:  half body, lr: 2.579e-03, loss: -5.294e+10, acc: 0.662, f1: 0.374, precision: 0.326, recall: 0.489, kappa: -0.005, time: 93.90s)\n"
     ]
    },
    {
     "name": "stderr",
     "output_type": "stream",
     "text": [
      "C:\\Users\\pohly\\AppData\\Local\\Temp\\ipykernel_17960\\3531825925.py:19: UserWarning: Boolean Series key will be reindexed to match DataFrame index.\n",
      "  last_row = df_model[df_model[\"epoch\"] == epoch][df_model[\"mode\"] == mode.name.lower()].mean(numeric_only=True)\n"
     ]
    },
    {
     "name": "stdout",
     "output_type": "stream",
     "text": [
      "Epoch (mode:      limbs, lr: 2.579e-03, loss: -1.511e+11, acc: 0.447, f1: 0.215, precision: 0.312, recall: 0.181, kappa: -0.001, time: 142.59s)\n"
     ]
    },
    {
     "name": "stderr",
     "output_type": "stream",
     "text": [
      "C:\\Users\\pohly\\AppData\\Local\\Temp\\ipykernel_17960\\3531825925.py:19: UserWarning: Boolean Series key will be reindexed to match DataFrame index.\n",
      "  last_row = df_model[df_model[\"epoch\"] == epoch][df_model[\"mode\"] == mode.name.lower()].mean(numeric_only=True)\n"
     ]
    },
    {
     "name": "stdout",
     "output_type": "stream",
     "text": [
      "Epoch (mode:     joints, lr: 2.579e-03, loss: -1.386e+12, acc: 0.637, f1: 0.475, precision: 0.671, recall: 0.619, kappa: 0.003, time: 607.58s)\n",
      "---  50 ---\n"
     ]
    },
    {
     "name": "stderr",
     "output_type": "stream",
     "text": [
      "C:\\Users\\pohly\\AppData\\Local\\Temp\\ipykernel_17960\\3531825925.py:19: UserWarning: Boolean Series key will be reindexed to match DataFrame index.\n",
      "  last_row = df_model[df_model[\"epoch\"] == epoch][df_model[\"mode\"] == mode.name.lower()].mean(numeric_only=True)\n"
     ]
    },
    {
     "name": "stdout",
     "output_type": "stream",
     "text": [
      "Epoch (mode:  full body, lr: 2.501e-03, loss: -1.541e+10, acc: 0.571, f1: 0.675, precision: 0.571, recall: 0.906, kappa: 0.000, time: 82.09s)\n"
     ]
    },
    {
     "name": "stderr",
     "output_type": "stream",
     "text": [
      "C:\\Users\\pohly\\AppData\\Local\\Temp\\ipykernel_17960\\3531825925.py:19: UserWarning: Boolean Series key will be reindexed to match DataFrame index.\n",
      "  last_row = df_model[df_model[\"epoch\"] == epoch][df_model[\"mode\"] == mode.name.lower()].mean(numeric_only=True)\n"
     ]
    },
    {
     "name": "stdout",
     "output_type": "stream",
     "text": [
      "Epoch (mode:  half body, lr: 2.501e-03, loss: -5.467e+10, acc: 0.673, f1: 0.381, precision: 0.333, recall: 0.492, kappa: 0.015, time: 94.90s)\n"
     ]
    },
    {
     "name": "stderr",
     "output_type": "stream",
     "text": [
      "C:\\Users\\pohly\\AppData\\Local\\Temp\\ipykernel_17960\\3531825925.py:19: UserWarning: Boolean Series key will be reindexed to match DataFrame index.\n",
      "  last_row = df_model[df_model[\"epoch\"] == epoch][df_model[\"mode\"] == mode.name.lower()].mean(numeric_only=True)\n"
     ]
    },
    {
     "name": "stdout",
     "output_type": "stream",
     "text": [
      "Epoch (mode:      limbs, lr: 2.501e-03, loss: -1.574e+11, acc: 0.437, f1: 0.218, precision: 0.307, recall: 0.185, kappa: -0.013, time: 147.68s)\n"
     ]
    },
    {
     "name": "stderr",
     "output_type": "stream",
     "text": [
      "C:\\Users\\pohly\\AppData\\Local\\Temp\\ipykernel_17960\\3531825925.py:19: UserWarning: Boolean Series key will be reindexed to match DataFrame index.\n",
      "  last_row = df_model[df_model[\"epoch\"] == epoch][df_model[\"mode\"] == mode.name.lower()].mean(numeric_only=True)\n"
     ]
    },
    {
     "name": "stdout",
     "output_type": "stream",
     "text": [
      "Epoch (mode:     joints, lr: 2.501e-03, loss: -1.439e+12, acc: 0.636, f1: 0.475, precision: 0.670, recall: 0.618, kappa: 0.013, time: 661.91s)\n",
      "---  51 ---\n"
     ]
    },
    {
     "name": "stderr",
     "output_type": "stream",
     "text": [
      "C:\\Users\\pohly\\AppData\\Local\\Temp\\ipykernel_17960\\3531825925.py:19: UserWarning: Boolean Series key will be reindexed to match DataFrame index.\n",
      "  last_row = df_model[df_model[\"epoch\"] == epoch][df_model[\"mode\"] == mode.name.lower()].mean(numeric_only=True)\n"
     ]
    },
    {
     "name": "stdout",
     "output_type": "stream",
     "text": [
      "Epoch (mode:  full body, lr: 2.422e-03, loss: -1.606e+10, acc: 0.571, f1: 0.678, precision: 0.571, recall: 0.912, kappa: 0.000, time: 83.70s)\n"
     ]
    },
    {
     "name": "stderr",
     "output_type": "stream",
     "text": [
      "C:\\Users\\pohly\\AppData\\Local\\Temp\\ipykernel_17960\\3531825925.py:19: UserWarning: Boolean Series key will be reindexed to match DataFrame index.\n",
      "  last_row = df_model[df_model[\"epoch\"] == epoch][df_model[\"mode\"] == mode.name.lower()].mean(numeric_only=True)\n"
     ]
    },
    {
     "name": "stdout",
     "output_type": "stream",
     "text": [
      "Epoch (mode:  half body, lr: 2.422e-03, loss: -5.709e+10, acc: 0.673, f1: 0.374, precision: 0.326, recall: 0.484, kappa: 0.008, time: 97.71s)\n"
     ]
    },
    {
     "name": "stderr",
     "output_type": "stream",
     "text": [
      "C:\\Users\\pohly\\AppData\\Local\\Temp\\ipykernel_17960\\3531825925.py:19: UserWarning: Boolean Series key will be reindexed to match DataFrame index.\n",
      "  last_row = df_model[df_model[\"epoch\"] == epoch][df_model[\"mode\"] == mode.name.lower()].mean(numeric_only=True)\n"
     ]
    },
    {
     "name": "stdout",
     "output_type": "stream",
     "text": [
      "Epoch (mode:      limbs, lr: 2.422e-03, loss: -1.638e+11, acc: 0.446, f1: 0.213, precision: 0.312, recall: 0.176, kappa: -0.004, time: 155.05s)\n"
     ]
    },
    {
     "name": "stderr",
     "output_type": "stream",
     "text": [
      "C:\\Users\\pohly\\AppData\\Local\\Temp\\ipykernel_17960\\3531825925.py:19: UserWarning: Boolean Series key will be reindexed to match DataFrame index.\n",
      "  last_row = df_model[df_model[\"epoch\"] == epoch][df_model[\"mode\"] == mode.name.lower()].mean(numeric_only=True)\n"
     ]
    },
    {
     "name": "stdout",
     "output_type": "stream",
     "text": [
      "Epoch (mode:     joints, lr: 2.422e-03, loss: -1.502e+12, acc: 0.631, f1: 0.471, precision: 0.666, recall: 0.613, kappa: 0.014, time: 684.89s)\n",
      "---  52 ---\n"
     ]
    },
    {
     "name": "stderr",
     "output_type": "stream",
     "text": [
      "C:\\Users\\pohly\\AppData\\Local\\Temp\\ipykernel_17960\\3531825925.py:19: UserWarning: Boolean Series key will be reindexed to match DataFrame index.\n",
      "  last_row = df_model[df_model[\"epoch\"] == epoch][df_model[\"mode\"] == mode.name.lower()].mean(numeric_only=True)\n"
     ]
    },
    {
     "name": "stdout",
     "output_type": "stream",
     "text": [
      "Epoch (mode:  full body, lr: 2.344e-03, loss: -1.665e+10, acc: 0.571, f1: 0.681, precision: 0.571, recall: 0.929, kappa: 0.000, time: 83.70s)\n"
     ]
    },
    {
     "name": "stderr",
     "output_type": "stream",
     "text": [
      "C:\\Users\\pohly\\AppData\\Local\\Temp\\ipykernel_17960\\3531825925.py:19: UserWarning: Boolean Series key will be reindexed to match DataFrame index.\n",
      "  last_row = df_model[df_model[\"epoch\"] == epoch][df_model[\"mode\"] == mode.name.lower()].mean(numeric_only=True)\n"
     ]
    },
    {
     "name": "stdout",
     "output_type": "stream",
     "text": [
      "Epoch (mode:  half body, lr: 2.344e-03, loss: -5.895e+10, acc: 0.651, f1: 0.365, precision: 0.316, recall: 0.475, kappa: -0.016, time: 97.77s)\n"
     ]
    },
    {
     "name": "stderr",
     "output_type": "stream",
     "text": [
      "C:\\Users\\pohly\\AppData\\Local\\Temp\\ipykernel_17960\\3531825925.py:19: UserWarning: Boolean Series key will be reindexed to match DataFrame index.\n",
      "  last_row = df_model[df_model[\"epoch\"] == epoch][df_model[\"mode\"] == mode.name.lower()].mean(numeric_only=True)\n"
     ]
    },
    {
     "name": "stdout",
     "output_type": "stream",
     "text": [
      "Epoch (mode:      limbs, lr: 2.344e-03, loss: -1.690e+11, acc: 0.435, f1: 0.214, precision: 0.311, recall: 0.181, kappa: -0.010, time: 157.58s)\n"
     ]
    },
    {
     "name": "stderr",
     "output_type": "stream",
     "text": [
      "C:\\Users\\pohly\\AppData\\Local\\Temp\\ipykernel_17960\\3531825925.py:19: UserWarning: Boolean Series key will be reindexed to match DataFrame index.\n",
      "  last_row = df_model[df_model[\"epoch\"] == epoch][df_model[\"mode\"] == mode.name.lower()].mean(numeric_only=True)\n"
     ]
    },
    {
     "name": "stdout",
     "output_type": "stream",
     "text": [
      "Epoch (mode:     joints, lr: 2.344e-03, loss: -1.549e+12, acc: 0.636, f1: 0.477, precision: 0.672, recall: 0.620, kappa: 0.020, time: 685.84s)\n",
      "---  53 ---\n"
     ]
    },
    {
     "name": "stderr",
     "output_type": "stream",
     "text": [
      "C:\\Users\\pohly\\AppData\\Local\\Temp\\ipykernel_17960\\3531825925.py:19: UserWarning: Boolean Series key will be reindexed to match DataFrame index.\n",
      "  last_row = df_model[df_model[\"epoch\"] == epoch][df_model[\"mode\"] == mode.name.lower()].mean(numeric_only=True)\n"
     ]
    },
    {
     "name": "stdout",
     "output_type": "stream",
     "text": [
      "Epoch (mode:  full body, lr: 2.265e-03, loss: -1.728e+10, acc: 0.571, f1: 0.678, precision: 0.571, recall: 0.906, kappa: 0.000, time: 83.57s)\n"
     ]
    },
    {
     "name": "stderr",
     "output_type": "stream",
     "text": [
      "C:\\Users\\pohly\\AppData\\Local\\Temp\\ipykernel_17960\\3531825925.py:19: UserWarning: Boolean Series key will be reindexed to match DataFrame index.\n",
      "  last_row = df_model[df_model[\"epoch\"] == epoch][df_model[\"mode\"] == mode.name.lower()].mean(numeric_only=True)\n"
     ]
    },
    {
     "name": "stdout",
     "output_type": "stream",
     "text": [
      "Epoch (mode:  half body, lr: 2.265e-03, loss: -6.086e+10, acc: 0.665, f1: 0.376, precision: 0.329, recall: 0.487, kappa: 0.006, time: 98.48s)\n"
     ]
    },
    {
     "name": "stderr",
     "output_type": "stream",
     "text": [
      "C:\\Users\\pohly\\AppData\\Local\\Temp\\ipykernel_17960\\3531825925.py:19: UserWarning: Boolean Series key will be reindexed to match DataFrame index.\n",
      "  last_row = df_model[df_model[\"epoch\"] == epoch][df_model[\"mode\"] == mode.name.lower()].mean(numeric_only=True)\n"
     ]
    },
    {
     "name": "stdout",
     "output_type": "stream",
     "text": [
      "Epoch (mode:      limbs, lr: 2.265e-03, loss: -1.746e+11, acc: 0.444, f1: 0.211, precision: 0.314, recall: 0.176, kappa: 0.003, time: 159.35s)\n"
     ]
    },
    {
     "name": "stderr",
     "output_type": "stream",
     "text": [
      "C:\\Users\\pohly\\AppData\\Local\\Temp\\ipykernel_17960\\3531825925.py:19: UserWarning: Boolean Series key will be reindexed to match DataFrame index.\n",
      "  last_row = df_model[df_model[\"epoch\"] == epoch][df_model[\"mode\"] == mode.name.lower()].mean(numeric_only=True)\n"
     ]
    },
    {
     "name": "stdout",
     "output_type": "stream",
     "text": [
      "Epoch (mode:     joints, lr: 2.265e-03, loss: -1.606e+12, acc: 0.626, f1: 0.469, precision: 0.661, recall: 0.611, kappa: -0.015, time: 701.85s)\n",
      "---  54 ---\n"
     ]
    },
    {
     "name": "stderr",
     "output_type": "stream",
     "text": [
      "C:\\Users\\pohly\\AppData\\Local\\Temp\\ipykernel_17960\\3531825925.py:19: UserWarning: Boolean Series key will be reindexed to match DataFrame index.\n",
      "  last_row = df_model[df_model[\"epoch\"] == epoch][df_model[\"mode\"] == mode.name.lower()].mean(numeric_only=True)\n"
     ]
    },
    {
     "name": "stdout",
     "output_type": "stream",
     "text": [
      "Epoch (mode:  full body, lr: 2.187e-03, loss: -1.773e+10, acc: 0.571, f1: 0.675, precision: 0.571, recall: 0.900, kappa: 0.000, time: 84.55s)\n"
     ]
    },
    {
     "name": "stderr",
     "output_type": "stream",
     "text": [
      "C:\\Users\\pohly\\AppData\\Local\\Temp\\ipykernel_17960\\3531825925.py:19: UserWarning: Boolean Series key will be reindexed to match DataFrame index.\n",
      "  last_row = df_model[df_model[\"epoch\"] == epoch][df_model[\"mode\"] == mode.name.lower()].mean(numeric_only=True)\n"
     ]
    },
    {
     "name": "stdout",
     "output_type": "stream",
     "text": [
      "Epoch (mode:  half body, lr: 2.187e-03, loss: -6.326e+10, acc: 0.660, f1: 0.374, precision: 0.325, recall: 0.489, kappa: 0.007, time: 99.84s)\n"
     ]
    },
    {
     "name": "stderr",
     "output_type": "stream",
     "text": [
      "C:\\Users\\pohly\\AppData\\Local\\Temp\\ipykernel_17960\\3531825925.py:19: UserWarning: Boolean Series key will be reindexed to match DataFrame index.\n",
      "  last_row = df_model[df_model[\"epoch\"] == epoch][df_model[\"mode\"] == mode.name.lower()].mean(numeric_only=True)\n"
     ]
    },
    {
     "name": "stdout",
     "output_type": "stream",
     "text": [
      "Epoch (mode:      limbs, lr: 2.187e-03, loss: -1.808e+11, acc: 0.440, f1: 0.212, precision: 0.311, recall: 0.178, kappa: 0.006, time: 160.56s)\n"
     ]
    },
    {
     "name": "stderr",
     "output_type": "stream",
     "text": [
      "C:\\Users\\pohly\\AppData\\Local\\Temp\\ipykernel_17960\\3531825925.py:19: UserWarning: Boolean Series key will be reindexed to match DataFrame index.\n",
      "  last_row = df_model[df_model[\"epoch\"] == epoch][df_model[\"mode\"] == mode.name.lower()].mean(numeric_only=True)\n"
     ]
    },
    {
     "name": "stdout",
     "output_type": "stream",
     "text": [
      "Epoch (mode:     joints, lr: 2.187e-03, loss: -1.674e+12, acc: 0.640, f1: 0.478, precision: 0.670, recall: 0.626, kappa: -0.007, time: 713.53s)\n",
      "---  55 ---\n"
     ]
    },
    {
     "name": "stderr",
     "output_type": "stream",
     "text": [
      "C:\\Users\\pohly\\AppData\\Local\\Temp\\ipykernel_17960\\3531825925.py:19: UserWarning: Boolean Series key will be reindexed to match DataFrame index.\n",
      "  last_row = df_model[df_model[\"epoch\"] == epoch][df_model[\"mode\"] == mode.name.lower()].mean(numeric_only=True)\n"
     ]
    },
    {
     "name": "stdout",
     "output_type": "stream",
     "text": [
      "Epoch (mode:  full body, lr: 2.109e-03, loss: -1.839e+10, acc: 0.571, f1: 0.680, precision: 0.571, recall: 0.929, kappa: 0.000, time: 84.54s)\n"
     ]
    },
    {
     "name": "stderr",
     "output_type": "stream",
     "text": [
      "C:\\Users\\pohly\\AppData\\Local\\Temp\\ipykernel_17960\\3531825925.py:19: UserWarning: Boolean Series key will be reindexed to match DataFrame index.\n",
      "  last_row = df_model[df_model[\"epoch\"] == epoch][df_model[\"mode\"] == mode.name.lower()].mean(numeric_only=True)\n"
     ]
    },
    {
     "name": "stdout",
     "output_type": "stream",
     "text": [
      "Epoch (mode:  half body, lr: 2.109e-03, loss: -6.543e+10, acc: 0.668, f1: 0.371, precision: 0.322, recall: 0.484, kappa: 0.015, time: 100.55s)\n"
     ]
    },
    {
     "name": "stderr",
     "output_type": "stream",
     "text": [
      "C:\\Users\\pohly\\AppData\\Local\\Temp\\ipykernel_17960\\3531825925.py:19: UserWarning: Boolean Series key will be reindexed to match DataFrame index.\n",
      "  last_row = df_model[df_model[\"epoch\"] == epoch][df_model[\"mode\"] == mode.name.lower()].mean(numeric_only=True)\n"
     ]
    },
    {
     "name": "stdout",
     "output_type": "stream",
     "text": [
      "Epoch (mode:      limbs, lr: 2.109e-03, loss: -1.876e+11, acc: 0.445, f1: 0.218, precision: 0.320, recall: 0.181, kappa: -0.003, time: 161.29s)\n"
     ]
    },
    {
     "name": "stderr",
     "output_type": "stream",
     "text": [
      "C:\\Users\\pohly\\AppData\\Local\\Temp\\ipykernel_17960\\3531825925.py:19: UserWarning: Boolean Series key will be reindexed to match DataFrame index.\n",
      "  last_row = df_model[df_model[\"epoch\"] == epoch][df_model[\"mode\"] == mode.name.lower()].mean(numeric_only=True)\n"
     ]
    },
    {
     "name": "stdout",
     "output_type": "stream",
     "text": [
      "Epoch (mode:     joints, lr: 2.109e-03, loss: -1.704e+12, acc: 0.641, f1: 0.478, precision: 0.672, recall: 0.625, kappa: 0.006, time: 726.57s)\n",
      "---  56 ---\n"
     ]
    },
    {
     "name": "stderr",
     "output_type": "stream",
     "text": [
      "C:\\Users\\pohly\\AppData\\Local\\Temp\\ipykernel_17960\\3531825925.py:19: UserWarning: Boolean Series key will be reindexed to match DataFrame index.\n",
      "  last_row = df_model[df_model[\"epoch\"] == epoch][df_model[\"mode\"] == mode.name.lower()].mean(numeric_only=True)\n"
     ]
    },
    {
     "name": "stdout",
     "output_type": "stream",
     "text": [
      "Epoch (mode:  full body, lr: 2.032e-03, loss: -1.908e+10, acc: 0.571, f1: 0.677, precision: 0.571, recall: 0.912, kappa: 0.000, time: 86.61s)\n"
     ]
    },
    {
     "name": "stderr",
     "output_type": "stream",
     "text": [
      "C:\\Users\\pohly\\AppData\\Local\\Temp\\ipykernel_17960\\3531825925.py:19: UserWarning: Boolean Series key will be reindexed to match DataFrame index.\n",
      "  last_row = df_model[df_model[\"epoch\"] == epoch][df_model[\"mode\"] == mode.name.lower()].mean(numeric_only=True)\n"
     ]
    },
    {
     "name": "stdout",
     "output_type": "stream",
     "text": [
      "Epoch (mode:  half body, lr: 2.032e-03, loss: -6.712e+10, acc: 0.659, f1: 0.373, precision: 0.319, recall: 0.488, kappa: 0.006, time: 103.91s)\n"
     ]
    },
    {
     "name": "stderr",
     "output_type": "stream",
     "text": [
      "C:\\Users\\pohly\\AppData\\Local\\Temp\\ipykernel_17960\\3531825925.py:19: UserWarning: Boolean Series key will be reindexed to match DataFrame index.\n",
      "  last_row = df_model[df_model[\"epoch\"] == epoch][df_model[\"mode\"] == mode.name.lower()].mean(numeric_only=True)\n"
     ]
    },
    {
     "name": "stdout",
     "output_type": "stream",
     "text": [
      "Epoch (mode:      limbs, lr: 2.032e-03, loss: -1.940e+11, acc: 0.447, f1: 0.215, precision: 0.307, recall: 0.182, kappa: -0.001, time: 166.64s)\n"
     ]
    },
    {
     "name": "stderr",
     "output_type": "stream",
     "text": [
      "C:\\Users\\pohly\\AppData\\Local\\Temp\\ipykernel_17960\\3531825925.py:19: UserWarning: Boolean Series key will be reindexed to match DataFrame index.\n",
      "  last_row = df_model[df_model[\"epoch\"] == epoch][df_model[\"mode\"] == mode.name.lower()].mean(numeric_only=True)\n"
     ]
    },
    {
     "name": "stdout",
     "output_type": "stream",
     "text": [
      "Epoch (mode:     joints, lr: 2.032e-03, loss: -1.764e+12, acc: 0.643, f1: 0.482, precision: 0.676, recall: 0.630, kappa: 0.013, time: 720.21s)\n",
      "---  57 ---\n"
     ]
    },
    {
     "name": "stderr",
     "output_type": "stream",
     "text": [
      "C:\\Users\\pohly\\AppData\\Local\\Temp\\ipykernel_17960\\3531825925.py:19: UserWarning: Boolean Series key will be reindexed to match DataFrame index.\n",
      "  last_row = df_model[df_model[\"epoch\"] == epoch][df_model[\"mode\"] == mode.name.lower()].mean(numeric_only=True)\n"
     ]
    },
    {
     "name": "stdout",
     "output_type": "stream",
     "text": [
      "Epoch (mode:  full body, lr: 1.955e-03, loss: -1.965e+10, acc: 0.571, f1: 0.685, precision: 0.571, recall: 0.953, kappa: 0.000, time: 84.54s)\n"
     ]
    },
    {
     "name": "stderr",
     "output_type": "stream",
     "text": [
      "C:\\Users\\pohly\\AppData\\Local\\Temp\\ipykernel_17960\\3531825925.py:19: UserWarning: Boolean Series key will be reindexed to match DataFrame index.\n",
      "  last_row = df_model[df_model[\"epoch\"] == epoch][df_model[\"mode\"] == mode.name.lower()].mean(numeric_only=True)\n"
     ]
    },
    {
     "name": "stdout",
     "output_type": "stream",
     "text": [
      "Epoch (mode:  half body, lr: 1.955e-03, loss: -6.940e+10, acc: 0.657, f1: 0.375, precision: 0.320, recall: 0.494, kappa: -0.002, time: 100.39s)\n"
     ]
    },
    {
     "name": "stderr",
     "output_type": "stream",
     "text": [
      "C:\\Users\\pohly\\AppData\\Local\\Temp\\ipykernel_17960\\3531825925.py:19: UserWarning: Boolean Series key will be reindexed to match DataFrame index.\n",
      "  last_row = df_model[df_model[\"epoch\"] == epoch][df_model[\"mode\"] == mode.name.lower()].mean(numeric_only=True)\n"
     ]
    },
    {
     "name": "stdout",
     "output_type": "stream",
     "text": [
      "Epoch (mode:      limbs, lr: 1.955e-03, loss: -1.991e+11, acc: 0.438, f1: 0.204, precision: 0.297, recall: 0.170, kappa: -0.004, time: 163.01s)\n"
     ]
    },
    {
     "name": "stderr",
     "output_type": "stream",
     "text": [
      "C:\\Users\\pohly\\AppData\\Local\\Temp\\ipykernel_17960\\3531825925.py:19: UserWarning: Boolean Series key will be reindexed to match DataFrame index.\n",
      "  last_row = df_model[df_model[\"epoch\"] == epoch][df_model[\"mode\"] == mode.name.lower()].mean(numeric_only=True)\n"
     ]
    },
    {
     "name": "stdout",
     "output_type": "stream",
     "text": [
      "Epoch (mode:     joints, lr: 1.955e-03, loss: -1.819e+12, acc: 0.640, f1: 0.477, precision: 0.670, recall: 0.624, kappa: -0.005, time: 741.22s)\n",
      "---  58 ---\n"
     ]
    },
    {
     "name": "stderr",
     "output_type": "stream",
     "text": [
      "C:\\Users\\pohly\\AppData\\Local\\Temp\\ipykernel_17960\\3531825925.py:19: UserWarning: Boolean Series key will be reindexed to match DataFrame index.\n",
      "  last_row = df_model[df_model[\"epoch\"] == epoch][df_model[\"mode\"] == mode.name.lower()].mean(numeric_only=True)\n"
     ]
    },
    {
     "name": "stdout",
     "output_type": "stream",
     "text": [
      "Epoch (mode:  full body, lr: 1.879e-03, loss: -2.003e+10, acc: 0.571, f1: 0.680, precision: 0.571, recall: 0.924, kappa: 0.000, time: 84.57s)\n"
     ]
    },
    {
     "name": "stderr",
     "output_type": "stream",
     "text": [
      "C:\\Users\\pohly\\AppData\\Local\\Temp\\ipykernel_17960\\3531825925.py:19: UserWarning: Boolean Series key will be reindexed to match DataFrame index.\n",
      "  last_row = df_model[df_model[\"epoch\"] == epoch][df_model[\"mode\"] == mode.name.lower()].mean(numeric_only=True)\n"
     ]
    },
    {
     "name": "stdout",
     "output_type": "stream",
     "text": [
      "Epoch (mode:  half body, lr: 1.879e-03, loss: -7.144e+10, acc: 0.660, f1: 0.368, precision: 0.322, recall: 0.470, kappa: 0.000, time: 99.54s)\n"
     ]
    },
    {
     "name": "stderr",
     "output_type": "stream",
     "text": [
      "C:\\Users\\pohly\\AppData\\Local\\Temp\\ipykernel_17960\\3531825925.py:19: UserWarning: Boolean Series key will be reindexed to match DataFrame index.\n",
      "  last_row = df_model[df_model[\"epoch\"] == epoch][df_model[\"mode\"] == mode.name.lower()].mean(numeric_only=True)\n"
     ]
    },
    {
     "name": "stdout",
     "output_type": "stream",
     "text": [
      "Epoch (mode:      limbs, lr: 1.879e-03, loss: -2.040e+11, acc: 0.439, f1: 0.199, precision: 0.288, recall: 0.166, kappa: -0.004, time: 160.28s)\n"
     ]
    },
    {
     "name": "stderr",
     "output_type": "stream",
     "text": [
      "C:\\Users\\pohly\\AppData\\Local\\Temp\\ipykernel_17960\\3531825925.py:19: UserWarning: Boolean Series key will be reindexed to match DataFrame index.\n",
      "  last_row = df_model[df_model[\"epoch\"] == epoch][df_model[\"mode\"] == mode.name.lower()].mean(numeric_only=True)\n"
     ]
    },
    {
     "name": "stdout",
     "output_type": "stream",
     "text": [
      "Epoch (mode:     joints, lr: 1.879e-03, loss: -1.863e+12, acc: 0.643, f1: 0.480, precision: 0.675, recall: 0.627, kappa: 0.010, time: 717.58s)\n",
      "---  59 ---\n"
     ]
    },
    {
     "name": "stderr",
     "output_type": "stream",
     "text": [
      "C:\\Users\\pohly\\AppData\\Local\\Temp\\ipykernel_17960\\3531825925.py:19: UserWarning: Boolean Series key will be reindexed to match DataFrame index.\n",
      "  last_row = df_model[df_model[\"epoch\"] == epoch][df_model[\"mode\"] == mode.name.lower()].mean(numeric_only=True)\n"
     ]
    },
    {
     "name": "stdout",
     "output_type": "stream",
     "text": [
      "Epoch (mode:  full body, lr: 1.803e-03, loss: -2.062e+10, acc: 0.571, f1: 0.674, precision: 0.571, recall: 0.900, kappa: 0.000, time: 84.55s)\n"
     ]
    },
    {
     "name": "stderr",
     "output_type": "stream",
     "text": [
      "C:\\Users\\pohly\\AppData\\Local\\Temp\\ipykernel_17960\\3531825925.py:19: UserWarning: Boolean Series key will be reindexed to match DataFrame index.\n",
      "  last_row = df_model[df_model[\"epoch\"] == epoch][df_model[\"mode\"] == mode.name.lower()].mean(numeric_only=True)\n"
     ]
    },
    {
     "name": "stdout",
     "output_type": "stream",
     "text": [
      "Epoch (mode:  half body, lr: 1.803e-03, loss: -7.316e+10, acc: 0.673, f1: 0.380, precision: 0.336, recall: 0.480, kappa: 0.027, time: 99.91s)\n"
     ]
    },
    {
     "name": "stderr",
     "output_type": "stream",
     "text": [
      "C:\\Users\\pohly\\AppData\\Local\\Temp\\ipykernel_17960\\3531825925.py:19: UserWarning: Boolean Series key will be reindexed to match DataFrame index.\n",
      "  last_row = df_model[df_model[\"epoch\"] == epoch][df_model[\"mode\"] == mode.name.lower()].mean(numeric_only=True)\n"
     ]
    },
    {
     "name": "stdout",
     "output_type": "stream",
     "text": [
      "Epoch (mode:      limbs, lr: 1.803e-03, loss: -2.112e+11, acc: 0.455, f1: 0.225, precision: 0.319, recall: 0.192, kappa: 0.015, time: 162.16s)\n"
     ]
    },
    {
     "name": "stderr",
     "output_type": "stream",
     "text": [
      "C:\\Users\\pohly\\AppData\\Local\\Temp\\ipykernel_17960\\3531825925.py:19: UserWarning: Boolean Series key will be reindexed to match DataFrame index.\n",
      "  last_row = df_model[df_model[\"epoch\"] == epoch][df_model[\"mode\"] == mode.name.lower()].mean(numeric_only=True)\n"
     ]
    },
    {
     "name": "stdout",
     "output_type": "stream",
     "text": [
      "Epoch (mode:     joints, lr: 1.803e-03, loss: -1.918e+12, acc: 0.635, f1: 0.475, precision: 0.666, recall: 0.621, kappa: -0.014, time: 735.93s)\n",
      "---  60 ---\n"
     ]
    },
    {
     "name": "stderr",
     "output_type": "stream",
     "text": [
      "C:\\Users\\pohly\\AppData\\Local\\Temp\\ipykernel_17960\\3531825925.py:19: UserWarning: Boolean Series key will be reindexed to match DataFrame index.\n",
      "  last_row = df_model[df_model[\"epoch\"] == epoch][df_model[\"mode\"] == mode.name.lower()].mean(numeric_only=True)\n"
     ]
    },
    {
     "name": "stdout",
     "output_type": "stream",
     "text": [
      "Epoch (mode:  full body, lr: 1.728e-03, loss: -2.094e+10, acc: 0.571, f1: 0.671, precision: 0.571, recall: 0.900, kappa: 0.000, time: 85.62s)\n"
     ]
    },
    {
     "name": "stderr",
     "output_type": "stream",
     "text": [
      "C:\\Users\\pohly\\AppData\\Local\\Temp\\ipykernel_17960\\3531825925.py:19: UserWarning: Boolean Series key will be reindexed to match DataFrame index.\n",
      "  last_row = df_model[df_model[\"epoch\"] == epoch][df_model[\"mode\"] == mode.name.lower()].mean(numeric_only=True)\n"
     ]
    },
    {
     "name": "stdout",
     "output_type": "stream",
     "text": [
      "Epoch (mode:  half body, lr: 1.728e-03, loss: -7.486e+10, acc: 0.662, f1: 0.375, precision: 0.325, recall: 0.485, kappa: 0.013, time: 102.77s)\n"
     ]
    },
    {
     "name": "stderr",
     "output_type": "stream",
     "text": [
      "C:\\Users\\pohly\\AppData\\Local\\Temp\\ipykernel_17960\\3531825925.py:19: UserWarning: Boolean Series key will be reindexed to match DataFrame index.\n",
      "  last_row = df_model[df_model[\"epoch\"] == epoch][df_model[\"mode\"] == mode.name.lower()].mean(numeric_only=True)\n"
     ]
    },
    {
     "name": "stdout",
     "output_type": "stream",
     "text": [
      "Epoch (mode:      limbs, lr: 1.728e-03, loss: -2.162e+11, acc: 0.442, f1: 0.210, precision: 0.308, recall: 0.176, kappa: 0.012, time: 170.43s)\n"
     ]
    },
    {
     "name": "stderr",
     "output_type": "stream",
     "text": [
      "C:\\Users\\pohly\\AppData\\Local\\Temp\\ipykernel_17960\\3531825925.py:19: UserWarning: Boolean Series key will be reindexed to match DataFrame index.\n",
      "  last_row = df_model[df_model[\"epoch\"] == epoch][df_model[\"mode\"] == mode.name.lower()].mean(numeric_only=True)\n"
     ]
    },
    {
     "name": "stdout",
     "output_type": "stream",
     "text": [
      "Epoch (mode:     joints, lr: 1.728e-03, loss: -1.965e+12, acc: 0.647, f1: 0.483, precision: 0.679, recall: 0.630, kappa: 0.026, time: 769.52s)\n",
      "---  61 ---\n"
     ]
    },
    {
     "name": "stderr",
     "output_type": "stream",
     "text": [
      "C:\\Users\\pohly\\AppData\\Local\\Temp\\ipykernel_17960\\3531825925.py:19: UserWarning: Boolean Series key will be reindexed to match DataFrame index.\n",
      "  last_row = df_model[df_model[\"epoch\"] == epoch][df_model[\"mode\"] == mode.name.lower()].mean(numeric_only=True)\n"
     ]
    },
    {
     "name": "stdout",
     "output_type": "stream",
     "text": [
      "Epoch (mode:  full body, lr: 1.654e-03, loss: -2.158e+10, acc: 0.571, f1: 0.672, precision: 0.571, recall: 0.906, kappa: 0.000, time: 86.39s)\n"
     ]
    },
    {
     "name": "stderr",
     "output_type": "stream",
     "text": [
      "C:\\Users\\pohly\\AppData\\Local\\Temp\\ipykernel_17960\\3531825925.py:19: UserWarning: Boolean Series key will be reindexed to match DataFrame index.\n",
      "  last_row = df_model[df_model[\"epoch\"] == epoch][df_model[\"mode\"] == mode.name.lower()].mean(numeric_only=True)\n"
     ]
    },
    {
     "name": "stdout",
     "output_type": "stream",
     "text": [
      "Epoch (mode:  half body, lr: 1.654e-03, loss: -7.708e+10, acc: 0.662, f1: 0.367, precision: 0.319, recall: 0.476, kappa: -0.001, time: 103.32s)\n"
     ]
    },
    {
     "name": "stderr",
     "output_type": "stream",
     "text": [
      "C:\\Users\\pohly\\AppData\\Local\\Temp\\ipykernel_17960\\3531825925.py:19: UserWarning: Boolean Series key will be reindexed to match DataFrame index.\n",
      "  last_row = df_model[df_model[\"epoch\"] == epoch][df_model[\"mode\"] == mode.name.lower()].mean(numeric_only=True)\n"
     ]
    },
    {
     "name": "stdout",
     "output_type": "stream",
     "text": [
      "Epoch (mode:      limbs, lr: 1.654e-03, loss: -2.211e+11, acc: 0.442, f1: 0.210, precision: 0.313, recall: 0.175, kappa: -0.004, time: 170.88s)\n"
     ]
    },
    {
     "name": "stderr",
     "output_type": "stream",
     "text": [
      "C:\\Users\\pohly\\AppData\\Local\\Temp\\ipykernel_17960\\3531825925.py:19: UserWarning: Boolean Series key will be reindexed to match DataFrame index.\n",
      "  last_row = df_model[df_model[\"epoch\"] == epoch][df_model[\"mode\"] == mode.name.lower()].mean(numeric_only=True)\n"
     ]
    },
    {
     "name": "stdout",
     "output_type": "stream",
     "text": [
      "Epoch (mode:     joints, lr: 1.654e-03, loss: -2.001e+12, acc: 0.638, f1: 0.477, precision: 0.671, recall: 0.622, kappa: -0.004, time: 785.36s)\n",
      "---  62 ---\n"
     ]
    },
    {
     "name": "stderr",
     "output_type": "stream",
     "text": [
      "C:\\Users\\pohly\\AppData\\Local\\Temp\\ipykernel_17960\\3531825925.py:19: UserWarning: Boolean Series key will be reindexed to match DataFrame index.\n",
      "  last_row = df_model[df_model[\"epoch\"] == epoch][df_model[\"mode\"] == mode.name.lower()].mean(numeric_only=True)\n"
     ]
    },
    {
     "name": "stdout",
     "output_type": "stream",
     "text": [
      "Epoch (mode:  full body, lr: 1.580e-03, loss: -2.202e+10, acc: 0.571, f1: 0.681, precision: 0.571, recall: 0.935, kappa: 0.000, time: 85.98s)\n"
     ]
    },
    {
     "name": "stderr",
     "output_type": "stream",
     "text": [
      "C:\\Users\\pohly\\AppData\\Local\\Temp\\ipykernel_17960\\3531825925.py:19: UserWarning: Boolean Series key will be reindexed to match DataFrame index.\n",
      "  last_row = df_model[df_model[\"epoch\"] == epoch][df_model[\"mode\"] == mode.name.lower()].mean(numeric_only=True)\n"
     ]
    },
    {
     "name": "stdout",
     "output_type": "stream",
     "text": [
      "Epoch (mode:  half body, lr: 1.580e-03, loss: -7.878e+10, acc: 0.668, f1: 0.374, precision: 0.330, recall: 0.482, kappa: 0.009, time: 102.46s)\n"
     ]
    },
    {
     "name": "stderr",
     "output_type": "stream",
     "text": [
      "C:\\Users\\pohly\\AppData\\Local\\Temp\\ipykernel_17960\\3531825925.py:19: UserWarning: Boolean Series key will be reindexed to match DataFrame index.\n",
      "  last_row = df_model[df_model[\"epoch\"] == epoch][df_model[\"mode\"] == mode.name.lower()].mean(numeric_only=True)\n"
     ]
    },
    {
     "name": "stdout",
     "output_type": "stream",
     "text": [
      "Epoch (mode:      limbs, lr: 1.580e-03, loss: -2.271e+11, acc: 0.430, f1: 0.198, precision: 0.289, recall: 0.168, kappa: -0.007, time: 172.25s)\n"
     ]
    },
    {
     "name": "stderr",
     "output_type": "stream",
     "text": [
      "C:\\Users\\pohly\\AppData\\Local\\Temp\\ipykernel_17960\\3531825925.py:19: UserWarning: Boolean Series key will be reindexed to match DataFrame index.\n",
      "  last_row = df_model[df_model[\"epoch\"] == epoch][df_model[\"mode\"] == mode.name.lower()].mean(numeric_only=True)\n"
     ]
    },
    {
     "name": "stdout",
     "output_type": "stream",
     "text": [
      "Epoch (mode:     joints, lr: 1.580e-03, loss: -2.050e+12, acc: 0.640, f1: 0.478, precision: 0.673, recall: 0.625, kappa: 0.003, time: 790.41s)\n",
      "---  63 ---\n"
     ]
    },
    {
     "name": "stderr",
     "output_type": "stream",
     "text": [
      "C:\\Users\\pohly\\AppData\\Local\\Temp\\ipykernel_17960\\3531825925.py:19: UserWarning: Boolean Series key will be reindexed to match DataFrame index.\n",
      "  last_row = df_model[df_model[\"epoch\"] == epoch][df_model[\"mode\"] == mode.name.lower()].mean(numeric_only=True)\n"
     ]
    },
    {
     "name": "stdout",
     "output_type": "stream",
     "text": [
      "Epoch (mode:  full body, lr: 1.508e-03, loss: -2.250e+10, acc: 0.571, f1: 0.672, precision: 0.571, recall: 0.906, kappa: 0.000, time: 85.80s)\n"
     ]
    },
    {
     "name": "stderr",
     "output_type": "stream",
     "text": [
      "C:\\Users\\pohly\\AppData\\Local\\Temp\\ipykernel_17960\\3531825925.py:19: UserWarning: Boolean Series key will be reindexed to match DataFrame index.\n",
      "  last_row = df_model[df_model[\"epoch\"] == epoch][df_model[\"mode\"] == mode.name.lower()].mean(numeric_only=True)\n"
     ]
    },
    {
     "name": "stdout",
     "output_type": "stream",
     "text": [
      "Epoch (mode:  half body, lr: 1.508e-03, loss: -8.037e+10, acc: 0.661, f1: 0.366, precision: 0.314, recall: 0.478, kappa: -0.009, time: 103.12s)\n"
     ]
    },
    {
     "name": "stderr",
     "output_type": "stream",
     "text": [
      "C:\\Users\\pohly\\AppData\\Local\\Temp\\ipykernel_17960\\3531825925.py:19: UserWarning: Boolean Series key will be reindexed to match DataFrame index.\n",
      "  last_row = df_model[df_model[\"epoch\"] == epoch][df_model[\"mode\"] == mode.name.lower()].mean(numeric_only=True)\n"
     ]
    },
    {
     "name": "stdout",
     "output_type": "stream",
     "text": [
      "Epoch (mode:      limbs, lr: 1.508e-03, loss: -2.318e+11, acc: 0.447, f1: 0.207, precision: 0.302, recall: 0.173, kappa: 0.004, time: 173.89s)\n"
     ]
    },
    {
     "name": "stderr",
     "output_type": "stream",
     "text": [
      "C:\\Users\\pohly\\AppData\\Local\\Temp\\ipykernel_17960\\3531825925.py:19: UserWarning: Boolean Series key will be reindexed to match DataFrame index.\n",
      "  last_row = df_model[df_model[\"epoch\"] == epoch][df_model[\"mode\"] == mode.name.lower()].mean(numeric_only=True)\n"
     ]
    },
    {
     "name": "stdout",
     "output_type": "stream",
     "text": [
      "Epoch (mode:     joints, lr: 1.508e-03, loss: -2.102e+12, acc: 0.635, f1: 0.475, precision: 0.668, recall: 0.620, kappa: -0.010, time: 805.86s)\n",
      "---  64 ---\n"
     ]
    },
    {
     "name": "stderr",
     "output_type": "stream",
     "text": [
      "C:\\Users\\pohly\\AppData\\Local\\Temp\\ipykernel_17960\\3531825925.py:19: UserWarning: Boolean Series key will be reindexed to match DataFrame index.\n",
      "  last_row = df_model[df_model[\"epoch\"] == epoch][df_model[\"mode\"] == mode.name.lower()].mean(numeric_only=True)\n"
     ]
    },
    {
     "name": "stdout",
     "output_type": "stream",
     "text": [
      "Epoch (mode:  full body, lr: 1.436e-03, loss: -2.308e+10, acc: 0.571, f1: 0.676, precision: 0.571, recall: 0.912, kappa: 0.000, time: 86.59s)\n"
     ]
    },
    {
     "name": "stderr",
     "output_type": "stream",
     "text": [
      "C:\\Users\\pohly\\AppData\\Local\\Temp\\ipykernel_17960\\3531825925.py:19: UserWarning: Boolean Series key will be reindexed to match DataFrame index.\n",
      "  last_row = df_model[df_model[\"epoch\"] == epoch][df_model[\"mode\"] == mode.name.lower()].mean(numeric_only=True)\n"
     ]
    },
    {
     "name": "stdout",
     "output_type": "stream",
     "text": [
      "Epoch (mode:  half body, lr: 1.436e-03, loss: -8.192e+10, acc: 0.658, f1: 0.369, precision: 0.320, recall: 0.482, kappa: -0.008, time: 104.87s)\n"
     ]
    },
    {
     "name": "stderr",
     "output_type": "stream",
     "text": [
      "C:\\Users\\pohly\\AppData\\Local\\Temp\\ipykernel_17960\\3531825925.py:19: UserWarning: Boolean Series key will be reindexed to match DataFrame index.\n",
      "  last_row = df_model[df_model[\"epoch\"] == epoch][df_model[\"mode\"] == mode.name.lower()].mean(numeric_only=True)\n"
     ]
    },
    {
     "name": "stdout",
     "output_type": "stream",
     "text": [
      "Epoch (mode:      limbs, lr: 1.436e-03, loss: -2.368e+11, acc: 0.436, f1: 0.196, precision: 0.283, recall: 0.164, kappa: -0.017, time: 176.42s)\n"
     ]
    },
    {
     "name": "stderr",
     "output_type": "stream",
     "text": [
      "C:\\Users\\pohly\\AppData\\Local\\Temp\\ipykernel_17960\\3531825925.py:19: UserWarning: Boolean Series key will be reindexed to match DataFrame index.\n",
      "  last_row = df_model[df_model[\"epoch\"] == epoch][df_model[\"mode\"] == mode.name.lower()].mean(numeric_only=True)\n"
     ]
    },
    {
     "name": "stdout",
     "output_type": "stream",
     "text": [
      "Epoch (mode:     joints, lr: 1.436e-03, loss: -2.113e+12, acc: 0.639, f1: 0.477, precision: 0.673, recall: 0.621, kappa: -0.001, time: 818.19s)\n",
      "---  65 ---\n"
     ]
    },
    {
     "name": "stderr",
     "output_type": "stream",
     "text": [
      "C:\\Users\\pohly\\AppData\\Local\\Temp\\ipykernel_17960\\3531825925.py:19: UserWarning: Boolean Series key will be reindexed to match DataFrame index.\n",
      "  last_row = df_model[df_model[\"epoch\"] == epoch][df_model[\"mode\"] == mode.name.lower()].mean(numeric_only=True)\n"
     ]
    },
    {
     "name": "stdout",
     "output_type": "stream",
     "text": [
      "Epoch (mode:  full body, lr: 1.366e-03, loss: -2.334e+10, acc: 0.571, f1: 0.685, precision: 0.571, recall: 0.941, kappa: 0.000, time: 87.21s)\n"
     ]
    },
    {
     "name": "stderr",
     "output_type": "stream",
     "text": [
      "C:\\Users\\pohly\\AppData\\Local\\Temp\\ipykernel_17960\\3531825925.py:19: UserWarning: Boolean Series key will be reindexed to match DataFrame index.\n",
      "  last_row = df_model[df_model[\"epoch\"] == epoch][df_model[\"mode\"] == mode.name.lower()].mean(numeric_only=True)\n"
     ]
    },
    {
     "name": "stdout",
     "output_type": "stream",
     "text": [
      "Epoch (mode:  half body, lr: 1.366e-03, loss: -8.295e+10, acc: 0.663, f1: 0.379, precision: 0.336, recall: 0.483, kappa: 0.006, time: 105.07s)\n"
     ]
    },
    {
     "name": "stderr",
     "output_type": "stream",
     "text": [
      "C:\\Users\\pohly\\AppData\\Local\\Temp\\ipykernel_17960\\3531825925.py:19: UserWarning: Boolean Series key will be reindexed to match DataFrame index.\n",
      "  last_row = df_model[df_model[\"epoch\"] == epoch][df_model[\"mode\"] == mode.name.lower()].mean(numeric_only=True)\n"
     ]
    },
    {
     "name": "stdout",
     "output_type": "stream",
     "text": [
      "Epoch (mode:      limbs, lr: 1.366e-03, loss: -2.413e+11, acc: 0.430, f1: 0.203, precision: 0.293, recall: 0.172, kappa: -0.021, time: 176.35s)\n"
     ]
    },
    {
     "name": "stderr",
     "output_type": "stream",
     "text": [
      "C:\\Users\\pohly\\AppData\\Local\\Temp\\ipykernel_17960\\3531825925.py:19: UserWarning: Boolean Series key will be reindexed to match DataFrame index.\n",
      "  last_row = df_model[df_model[\"epoch\"] == epoch][df_model[\"mode\"] == mode.name.lower()].mean(numeric_only=True)\n"
     ]
    },
    {
     "name": "stdout",
     "output_type": "stream",
     "text": [
      "Epoch (mode:     joints, lr: 1.366e-03, loss: -2.181e+12, acc: 0.635, f1: 0.474, precision: 0.669, recall: 0.618, kappa: -0.014, time: 799.39s)\n",
      "---  66 ---\n"
     ]
    },
    {
     "name": "stderr",
     "output_type": "stream",
     "text": [
      "C:\\Users\\pohly\\AppData\\Local\\Temp\\ipykernel_17960\\3531825925.py:19: UserWarning: Boolean Series key will be reindexed to match DataFrame index.\n",
      "  last_row = df_model[df_model[\"epoch\"] == epoch][df_model[\"mode\"] == mode.name.lower()].mean(numeric_only=True)\n"
     ]
    },
    {
     "name": "stdout",
     "output_type": "stream",
     "text": [
      "Epoch (mode:  full body, lr: 1.296e-03, loss: -2.384e+10, acc: 0.571, f1: 0.686, precision: 0.571, recall: 0.953, kappa: 0.000, time: 85.90s)\n"
     ]
    },
    {
     "name": "stderr",
     "output_type": "stream",
     "text": [
      "C:\\Users\\pohly\\AppData\\Local\\Temp\\ipykernel_17960\\3531825925.py:19: UserWarning: Boolean Series key will be reindexed to match DataFrame index.\n",
      "  last_row = df_model[df_model[\"epoch\"] == epoch][df_model[\"mode\"] == mode.name.lower()].mean(numeric_only=True)\n"
     ]
    },
    {
     "name": "stdout",
     "output_type": "stream",
     "text": [
      "Epoch (mode:  half body, lr: 1.296e-03, loss: -8.459e+10, acc: 0.665, f1: 0.366, precision: 0.319, recall: 0.479, kappa: 0.005, time: 103.16s)\n"
     ]
    },
    {
     "name": "stderr",
     "output_type": "stream",
     "text": [
      "C:\\Users\\pohly\\AppData\\Local\\Temp\\ipykernel_17960\\3531825925.py:19: UserWarning: Boolean Series key will be reindexed to match DataFrame index.\n",
      "  last_row = df_model[df_model[\"epoch\"] == epoch][df_model[\"mode\"] == mode.name.lower()].mean(numeric_only=True)\n"
     ]
    },
    {
     "name": "stdout",
     "output_type": "stream",
     "text": [
      "Epoch (mode:      limbs, lr: 1.296e-03, loss: -2.464e+11, acc: 0.440, f1: 0.204, precision: 0.298, recall: 0.169, kappa: -0.011, time: 172.61s)\n"
     ]
    },
    {
     "name": "stderr",
     "output_type": "stream",
     "text": [
      "C:\\Users\\pohly\\AppData\\Local\\Temp\\ipykernel_17960\\3531825925.py:19: UserWarning: Boolean Series key will be reindexed to match DataFrame index.\n",
      "  last_row = df_model[df_model[\"epoch\"] == epoch][df_model[\"mode\"] == mode.name.lower()].mean(numeric_only=True)\n"
     ]
    },
    {
     "name": "stdout",
     "output_type": "stream",
     "text": [
      "Epoch (mode:     joints, lr: 1.296e-03, loss: -2.224e+12, acc: 0.635, f1: 0.475, precision: 0.668, recall: 0.619, kappa: -0.013, time: 793.37s)\n",
      "---  67 ---\n"
     ]
    },
    {
     "name": "stderr",
     "output_type": "stream",
     "text": [
      "C:\\Users\\pohly\\AppData\\Local\\Temp\\ipykernel_17960\\3531825925.py:19: UserWarning: Boolean Series key will be reindexed to match DataFrame index.\n",
      "  last_row = df_model[df_model[\"epoch\"] == epoch][df_model[\"mode\"] == mode.name.lower()].mean(numeric_only=True)\n"
     ]
    },
    {
     "name": "stdout",
     "output_type": "stream",
     "text": [
      "Epoch (mode:  full body, lr: 1.228e-03, loss: -2.444e+10, acc: 0.571, f1: 0.683, precision: 0.571, recall: 0.935, kappa: 0.000, time: 86.09s)\n"
     ]
    },
    {
     "ename": "KeyboardInterrupt",
     "evalue": "",
     "output_type": "error",
     "traceback": [
      "\u001b[1;31m---------------------------------------------------------------------------\u001b[0m",
      "\u001b[1;31mKeyboardInterrupt\u001b[0m                         Traceback (most recent call last)",
      "Cell \u001b[1;32mIn[12], line 18\u001b[0m\n\u001b[0;32m     15\u001b[0m tic \u001b[39m=\u001b[39m time()\n\u001b[0;32m     16\u001b[0m torch\u001b[39m.\u001b[39mcuda\u001b[39m.\u001b[39mempty_cache()\n\u001b[1;32m---> 18\u001b[0m loss \u001b[39m=\u001b[39m train(train_loader, model, optimizer, CE, scheduler, clip, epoch, epochs, is_cuda, mode, df_model, use_v2)  \n\u001b[0;32m     19\u001b[0m last_row \u001b[39m=\u001b[39m df_model[df_model[\u001b[39m\"\u001b[39m\u001b[39mepoch\u001b[39m\u001b[39m\"\u001b[39m] \u001b[39m==\u001b[39m epoch][df_model[\u001b[39m\"\u001b[39m\u001b[39mmode\u001b[39m\u001b[39m\"\u001b[39m] \u001b[39m==\u001b[39m mode\u001b[39m.\u001b[39mname\u001b[39m.\u001b[39mlower()]\u001b[39m.\u001b[39mmean(numeric_only\u001b[39m=\u001b[39m\u001b[39mTrue\u001b[39;00m)\n\u001b[0;32m     20\u001b[0m pb\u001b[39m.\u001b[39mset_description(\u001b[39mf\u001b[39m\u001b[39m'\u001b[39m\u001b[39mEpoch (mode: \u001b[39m\u001b[39m{\u001b[39;00mmode\u001b[39m.\u001b[39mname\u001b[39m.\u001b[39mlower()\u001b[39m.\u001b[39mreplace(\u001b[39m\"\u001b[39m\u001b[39m_\u001b[39m\u001b[39m\"\u001b[39m,\u001b[39m \u001b[39m\u001b[39m\"\u001b[39m\u001b[39m \u001b[39m\u001b[39m\"\u001b[39m)\u001b[39m:\u001b[39;00m\u001b[39m>10\u001b[39m\u001b[39m}\u001b[39;00m\u001b[39m, lr: \u001b[39m\u001b[39m{\u001b[39;00moptimizer\u001b[39m.\u001b[39mparam_groups[\u001b[39m0\u001b[39m][\u001b[39m\"\u001b[39m\u001b[39mlr\u001b[39m\u001b[39m\"\u001b[39m]\u001b[39m:\u001b[39;00m\u001b[39m.3e\u001b[39m\u001b[39m}\u001b[39;00m\u001b[39m, loss: \u001b[39m\u001b[39m{\u001b[39;00mlast_row[\u001b[39m\"\u001b[39m\u001b[39mAvg loss\u001b[39m\u001b[39m\"\u001b[39m]\u001b[39m:\u001b[39;00m\u001b[39m.3e\u001b[39m\u001b[39m}\u001b[39;00m\u001b[39m)\u001b[39m\u001b[39m'\u001b[39m)\n",
      "File \u001b[1;32mh:\\FESD\\FESDModel\\model\\train.py:16\u001b[0m, in \u001b[0;36mtrain\u001b[1;34m(train_loader, model, optimizer, criterion, scheduler, clip, epoch, epochs, is_cuda, mode, df, use_v2)\u001b[0m\n\u001b[0;32m     13\u001b[0m \u001b[39mdef\u001b[39;00m \u001b[39mtrain\u001b[39m(train_loader: DataLoader, model, optimizer, criterion, scheduler, clip, epoch, epochs, is_cuda, mode, df, use_v2):\n\u001b[0;32m     14\u001b[0m   loss_record \u001b[39m=\u001b[39m AvgMeter()\n\u001b[1;32m---> 16\u001b[0m   \u001b[39mfor\u001b[39;00m i, pack \u001b[39min\u001b[39;00m \u001b[39menumerate\u001b[39m(train_loader, start\u001b[39m=\u001b[39m\u001b[39m1\u001b[39m):\n\u001b[0;32m     17\u001b[0m     optimizer\u001b[39m.\u001b[39mzero_grad()\n\u001b[0;32m     19\u001b[0m     \u001b[39mif\u001b[39;00m use_v2:      \n",
      "File \u001b[1;32mh:\\FESD\\FESDModel\\.env\\lib\\site-packages\\torch\\utils\\data\\dataloader.py:633\u001b[0m, in \u001b[0;36m_BaseDataLoaderIter.__next__\u001b[1;34m(self)\u001b[0m\n\u001b[0;32m    630\u001b[0m \u001b[39mif\u001b[39;00m \u001b[39mself\u001b[39m\u001b[39m.\u001b[39m_sampler_iter \u001b[39mis\u001b[39;00m \u001b[39mNone\u001b[39;00m:\n\u001b[0;32m    631\u001b[0m     \u001b[39m# TODO(https://github.com/pytorch/pytorch/issues/76750)\u001b[39;00m\n\u001b[0;32m    632\u001b[0m     \u001b[39mself\u001b[39m\u001b[39m.\u001b[39m_reset()  \u001b[39m# type: ignore[call-arg]\u001b[39;00m\n\u001b[1;32m--> 633\u001b[0m data \u001b[39m=\u001b[39m \u001b[39mself\u001b[39;49m\u001b[39m.\u001b[39;49m_next_data()\n\u001b[0;32m    634\u001b[0m \u001b[39mself\u001b[39m\u001b[39m.\u001b[39m_num_yielded \u001b[39m+\u001b[39m\u001b[39m=\u001b[39m \u001b[39m1\u001b[39m\n\u001b[0;32m    635\u001b[0m \u001b[39mif\u001b[39;00m \u001b[39mself\u001b[39m\u001b[39m.\u001b[39m_dataset_kind \u001b[39m==\u001b[39m _DatasetKind\u001b[39m.\u001b[39mIterable \u001b[39mand\u001b[39;00m \\\n\u001b[0;32m    636\u001b[0m         \u001b[39mself\u001b[39m\u001b[39m.\u001b[39m_IterableDataset_len_called \u001b[39mis\u001b[39;00m \u001b[39mnot\u001b[39;00m \u001b[39mNone\u001b[39;00m \u001b[39mand\u001b[39;00m \\\n\u001b[0;32m    637\u001b[0m         \u001b[39mself\u001b[39m\u001b[39m.\u001b[39m_num_yielded \u001b[39m>\u001b[39m \u001b[39mself\u001b[39m\u001b[39m.\u001b[39m_IterableDataset_len_called:\n",
      "File \u001b[1;32mh:\\FESD\\FESDModel\\.env\\lib\\site-packages\\torch\\utils\\data\\dataloader.py:677\u001b[0m, in \u001b[0;36m_SingleProcessDataLoaderIter._next_data\u001b[1;34m(self)\u001b[0m\n\u001b[0;32m    675\u001b[0m \u001b[39mdef\u001b[39;00m \u001b[39m_next_data\u001b[39m(\u001b[39mself\u001b[39m):\n\u001b[0;32m    676\u001b[0m     index \u001b[39m=\u001b[39m \u001b[39mself\u001b[39m\u001b[39m.\u001b[39m_next_index()  \u001b[39m# may raise StopIteration\u001b[39;00m\n\u001b[1;32m--> 677\u001b[0m     data \u001b[39m=\u001b[39m \u001b[39mself\u001b[39;49m\u001b[39m.\u001b[39;49m_dataset_fetcher\u001b[39m.\u001b[39;49mfetch(index)  \u001b[39m# may raise StopIteration\u001b[39;00m\n\u001b[0;32m    678\u001b[0m     \u001b[39mif\u001b[39;00m \u001b[39mself\u001b[39m\u001b[39m.\u001b[39m_pin_memory:\n\u001b[0;32m    679\u001b[0m         data \u001b[39m=\u001b[39m _utils\u001b[39m.\u001b[39mpin_memory\u001b[39m.\u001b[39mpin_memory(data, \u001b[39mself\u001b[39m\u001b[39m.\u001b[39m_pin_memory_device)\n",
      "File \u001b[1;32mh:\\FESD\\FESDModel\\.env\\lib\\site-packages\\torch\\utils\\data\\_utils\\fetch.py:51\u001b[0m, in \u001b[0;36m_MapDatasetFetcher.fetch\u001b[1;34m(self, possibly_batched_index)\u001b[0m\n\u001b[0;32m     49\u001b[0m         data \u001b[39m=\u001b[39m \u001b[39mself\u001b[39m\u001b[39m.\u001b[39mdataset\u001b[39m.\u001b[39m__getitems__(possibly_batched_index)\n\u001b[0;32m     50\u001b[0m     \u001b[39melse\u001b[39;00m:\n\u001b[1;32m---> 51\u001b[0m         data \u001b[39m=\u001b[39m [\u001b[39mself\u001b[39m\u001b[39m.\u001b[39mdataset[idx] \u001b[39mfor\u001b[39;00m idx \u001b[39min\u001b[39;00m possibly_batched_index]\n\u001b[0;32m     52\u001b[0m \u001b[39melse\u001b[39;00m:\n\u001b[0;32m     53\u001b[0m     data \u001b[39m=\u001b[39m \u001b[39mself\u001b[39m\u001b[39m.\u001b[39mdataset[possibly_batched_index]\n",
      "File \u001b[1;32mh:\\FESD\\FESDModel\\.env\\lib\\site-packages\\torch\\utils\\data\\_utils\\fetch.py:51\u001b[0m, in \u001b[0;36m<listcomp>\u001b[1;34m(.0)\u001b[0m\n\u001b[0;32m     49\u001b[0m         data \u001b[39m=\u001b[39m \u001b[39mself\u001b[39m\u001b[39m.\u001b[39mdataset\u001b[39m.\u001b[39m__getitems__(possibly_batched_index)\n\u001b[0;32m     50\u001b[0m     \u001b[39melse\u001b[39;00m:\n\u001b[1;32m---> 51\u001b[0m         data \u001b[39m=\u001b[39m [\u001b[39mself\u001b[39;49m\u001b[39m.\u001b[39;49mdataset[idx] \u001b[39mfor\u001b[39;00m idx \u001b[39min\u001b[39;00m possibly_batched_index]\n\u001b[0;32m     52\u001b[0m \u001b[39melse\u001b[39;00m:\n\u001b[0;32m     53\u001b[0m     data \u001b[39m=\u001b[39m \u001b[39mself\u001b[39m\u001b[39m.\u001b[39mdataset[possibly_batched_index]\n",
      "File \u001b[1;32mh:\\FESD\\FESDModel\\data\\dataset.py:67\u001b[0m, in \u001b[0;36mFESDDataset.__getitem__\u001b[1;34m(self, index)\u001b[0m\n\u001b[0;32m     64\u001b[0m \u001b[39mif\u001b[39;00m \u001b[39mself\u001b[39m\u001b[39m.\u001b[39mrandomize_augmentation_params:\n\u001b[0;32m     65\u001b[0m   \u001b[39mself\u001b[39m\u001b[39m.\u001b[39maugmentation_params\u001b[39m.\u001b[39mRandomize()\n\u001b[1;32m---> 67\u001b[0m \u001b[39mself\u001b[39m\u001b[39m.\u001b[39mframe \u001b[39m=\u001b[39m load_frame(recording_dir\u001b[39m=\u001b[39;49m\u001b[39mself\u001b[39;49m\u001b[39m.\u001b[39;49mrecording_dir, session\u001b[39m=\u001b[39;49m\u001b[39mself\u001b[39;49m\u001b[39m.\u001b[39;49mrecording_jsons[session], frame_id\u001b[39m=\u001b[39;49mindex, im_size\u001b[39m=\u001b[39;49m\u001b[39mself\u001b[39;49m\u001b[39m.\u001b[39;49mim_size, params\u001b[39m=\u001b[39;49m\u001b[39mself\u001b[39;49m\u001b[39m.\u001b[39;49maugmentation_params, mode\u001b[39m=\u001b[39;49m\u001b[39mself\u001b[39;49m\u001b[39m.\u001b[39;49mmode, use_v2\u001b[39m=\u001b[39;49m\u001b[39mself\u001b[39;49m\u001b[39m.\u001b[39;49muse_v2)\n\u001b[0;32m     69\u001b[0m \u001b[39mif\u001b[39;00m \u001b[39mself\u001b[39m\u001b[39m.\u001b[39muse_v2:\n\u001b[0;32m     70\u001b[0m   \u001b[39mreturn\u001b[39;00m \u001b[39mself\u001b[39m\u001b[39m.\u001b[39mget_frame_v2()\n",
      "File \u001b[1;32mh:\\FESD\\FESDModel\\data\\frame_loader.py:144\u001b[0m, in \u001b[0;36mload_frame\u001b[1;34m(recording_dir, session, frame_id, im_size, params, mode, use_v2)\u001b[0m\n\u001b[0;32m    141\u001b[0m rgb, depth \u001b[39m=\u001b[39m rgb\u001b[39m.\u001b[39mastype(np\u001b[39m.\u001b[39mfloat32), depth\u001b[39m.\u001b[39mastype(np\u001b[39m.\u001b[39mfloat32)\n\u001b[0;32m    143\u001b[0m \u001b[39mwith\u001b[39;00m \u001b[39mopen\u001b[39m(file\u001b[39m=\u001b[39mrecording_dir \u001b[39m/\u001b[39m  session[\u001b[39m'\u001b[39m\u001b[39mSkeleton\u001b[39m\u001b[39m'\u001b[39m], mode\u001b[39m=\u001b[39m\u001b[39m'\u001b[39m\u001b[39mr\u001b[39m\u001b[39m'\u001b[39m) \u001b[39mas\u001b[39;00m file:\n\u001b[1;32m--> 144\u001b[0m   skeleton_json \u001b[39m=\u001b[39m json\u001b[39m.\u001b[39;49mload(file)[frame_id \u001b[39m*\u001b[39m \u001b[39m10\u001b[39m]\n\u001b[0;32m    145\u001b[0m   pose_2d, pose_3d, errors, bounding_boxes_2d, bounding_boxes_3d \u001b[39m=\u001b[39m load_skeletons(skeleton_json, params\u001b[39m.\u001b[39mflip, mode, use_v2)\n\u001b[0;32m    147\u001b[0m pose_im \u001b[39m=\u001b[39m np\u001b[39m.\u001b[39mzeros_like(depth)\n",
      "File \u001b[1;32m~\\AppData\\Local\\Programs\\Python\\Python310\\lib\\json\\__init__.py:293\u001b[0m, in \u001b[0;36mload\u001b[1;34m(fp, cls, object_hook, parse_float, parse_int, parse_constant, object_pairs_hook, **kw)\u001b[0m\n\u001b[0;32m    274\u001b[0m \u001b[39mdef\u001b[39;00m \u001b[39mload\u001b[39m(fp, \u001b[39m*\u001b[39m, \u001b[39mcls\u001b[39m\u001b[39m=\u001b[39m\u001b[39mNone\u001b[39;00m, object_hook\u001b[39m=\u001b[39m\u001b[39mNone\u001b[39;00m, parse_float\u001b[39m=\u001b[39m\u001b[39mNone\u001b[39;00m,\n\u001b[0;32m    275\u001b[0m         parse_int\u001b[39m=\u001b[39m\u001b[39mNone\u001b[39;00m, parse_constant\u001b[39m=\u001b[39m\u001b[39mNone\u001b[39;00m, object_pairs_hook\u001b[39m=\u001b[39m\u001b[39mNone\u001b[39;00m, \u001b[39m*\u001b[39m\u001b[39m*\u001b[39mkw):\n\u001b[0;32m    276\u001b[0m \u001b[39m    \u001b[39m\u001b[39m\"\"\"Deserialize ``fp`` (a ``.read()``-supporting file-like object containing\u001b[39;00m\n\u001b[0;32m    277\u001b[0m \u001b[39m    a JSON document) to a Python object.\u001b[39;00m\n\u001b[0;32m    278\u001b[0m \n\u001b[1;32m   (...)\u001b[0m\n\u001b[0;32m    291\u001b[0m \u001b[39m    kwarg; otherwise ``JSONDecoder`` is used.\u001b[39;00m\n\u001b[0;32m    292\u001b[0m \u001b[39m    \"\"\"\u001b[39;00m\n\u001b[1;32m--> 293\u001b[0m     \u001b[39mreturn\u001b[39;00m loads(fp\u001b[39m.\u001b[39mread(),\n\u001b[0;32m    294\u001b[0m         \u001b[39mcls\u001b[39m\u001b[39m=\u001b[39m\u001b[39mcls\u001b[39m, object_hook\u001b[39m=\u001b[39mobject_hook,\n\u001b[0;32m    295\u001b[0m         parse_float\u001b[39m=\u001b[39mparse_float, parse_int\u001b[39m=\u001b[39mparse_int,\n\u001b[0;32m    296\u001b[0m         parse_constant\u001b[39m=\u001b[39mparse_constant, object_pairs_hook\u001b[39m=\u001b[39mobject_pairs_hook, \u001b[39m*\u001b[39m\u001b[39m*\u001b[39mkw)\n",
      "File \u001b[1;32m~\\AppData\\Local\\Programs\\Python\\Python310\\lib\\json\\__init__.py:346\u001b[0m, in \u001b[0;36mloads\u001b[1;34m(s, cls, object_hook, parse_float, parse_int, parse_constant, object_pairs_hook, **kw)\u001b[0m\n\u001b[0;32m    341\u001b[0m     s \u001b[39m=\u001b[39m s\u001b[39m.\u001b[39mdecode(detect_encoding(s), \u001b[39m'\u001b[39m\u001b[39msurrogatepass\u001b[39m\u001b[39m'\u001b[39m)\n\u001b[0;32m    343\u001b[0m \u001b[39mif\u001b[39;00m (\u001b[39mcls\u001b[39m \u001b[39mis\u001b[39;00m \u001b[39mNone\u001b[39;00m \u001b[39mand\u001b[39;00m object_hook \u001b[39mis\u001b[39;00m \u001b[39mNone\u001b[39;00m \u001b[39mand\u001b[39;00m\n\u001b[0;32m    344\u001b[0m         parse_int \u001b[39mis\u001b[39;00m \u001b[39mNone\u001b[39;00m \u001b[39mand\u001b[39;00m parse_float \u001b[39mis\u001b[39;00m \u001b[39mNone\u001b[39;00m \u001b[39mand\u001b[39;00m\n\u001b[0;32m    345\u001b[0m         parse_constant \u001b[39mis\u001b[39;00m \u001b[39mNone\u001b[39;00m \u001b[39mand\u001b[39;00m object_pairs_hook \u001b[39mis\u001b[39;00m \u001b[39mNone\u001b[39;00m \u001b[39mand\u001b[39;00m \u001b[39mnot\u001b[39;00m kw):\n\u001b[1;32m--> 346\u001b[0m     \u001b[39mreturn\u001b[39;00m _default_decoder\u001b[39m.\u001b[39;49mdecode(s)\n\u001b[0;32m    347\u001b[0m \u001b[39mif\u001b[39;00m \u001b[39mcls\u001b[39m \u001b[39mis\u001b[39;00m \u001b[39mNone\u001b[39;00m:\n\u001b[0;32m    348\u001b[0m     \u001b[39mcls\u001b[39m \u001b[39m=\u001b[39m JSONDecoder\n",
      "File \u001b[1;32m~\\AppData\\Local\\Programs\\Python\\Python310\\lib\\json\\decoder.py:337\u001b[0m, in \u001b[0;36mJSONDecoder.decode\u001b[1;34m(self, s, _w)\u001b[0m\n\u001b[0;32m    332\u001b[0m \u001b[39mdef\u001b[39;00m \u001b[39mdecode\u001b[39m(\u001b[39mself\u001b[39m, s, _w\u001b[39m=\u001b[39mWHITESPACE\u001b[39m.\u001b[39mmatch):\n\u001b[0;32m    333\u001b[0m \u001b[39m    \u001b[39m\u001b[39m\"\"\"Return the Python representation of ``s`` (a ``str`` instance\u001b[39;00m\n\u001b[0;32m    334\u001b[0m \u001b[39m    containing a JSON document).\u001b[39;00m\n\u001b[0;32m    335\u001b[0m \n\u001b[0;32m    336\u001b[0m \u001b[39m    \"\"\"\u001b[39;00m\n\u001b[1;32m--> 337\u001b[0m     obj, end \u001b[39m=\u001b[39m \u001b[39mself\u001b[39;49m\u001b[39m.\u001b[39;49mraw_decode(s, idx\u001b[39m=\u001b[39;49m_w(s, \u001b[39m0\u001b[39;49m)\u001b[39m.\u001b[39;49mend())\n\u001b[0;32m    338\u001b[0m     end \u001b[39m=\u001b[39m _w(s, end)\u001b[39m.\u001b[39mend()\n\u001b[0;32m    339\u001b[0m     \u001b[39mif\u001b[39;00m end \u001b[39m!=\u001b[39m \u001b[39mlen\u001b[39m(s):\n",
      "\u001b[1;31mKeyboardInterrupt\u001b[0m: "
     ]
    }
   ],
   "source": [
    "model_columns = [\"epoch\", \"iteration\", \"joint_id\",\n",
    "                  \"gts\", \"preds\", \"confidences\", \n",
    "                  \"Avg loss\", \"loss\", \"accuracy\", \n",
    "                  \"tp\", \"tn\", \"fp\", \"fn\", \"precision\", \"recall\", \"f1\", \n",
    "                  \"cohens_kappa\", \"learning_rate\",\n",
    "                  \"train_test\", \"exercise\", \"simplified\", \"mode\", \"use_v2\"]\n",
    "                  \n",
    "df_model = pd.DataFrame(columns=model_columns)\n",
    "pb = tqdm(range(1, epochs + 1), desc='Epoch')\n",
    "\n",
    "for epoch in pb:\n",
    "    if all_modes:    \n",
    "        print(f\"--- {epoch:3d} ---\")\n",
    "        for mode, model, optimizer, scheduler, train_loader, _ in model_iterator:\n",
    "            tic = time()\n",
    "            torch.cuda.empty_cache()\n",
    "            \n",
    "            loss = train(train_loader, model, optimizer, CE, scheduler, clip, epoch, epochs, is_cuda, mode, df_model, use_v2)  \n",
    "            last_row = df_model[df_model[\"epoch\"] == epoch][df_model[\"mode\"] == mode.name.lower()].mean(numeric_only=True)\n",
    "            pb.set_description(f'Epoch (mode: {mode.name.lower().replace(\"_\", \" \"):>10}, lr: {optimizer.param_groups[0][\"lr\"]:.3e}, loss: {last_row[\"Avg loss\"]:.3e})')\n",
    "            \n",
    "            print(f'Epoch (mode: {mode.name.lower().replace(\"_\", \" \"):>10}, lr: {optimizer.param_groups[0][\"lr\"]:.3e}, loss: {last_row[\"Avg loss\"]:.3e}, acc: {last_row[\"accuracy\"]:.3f}, f1: {last_row[\"f1\"]:.3f}, precision: {last_row[\"precision\"]:.3f}, recall: {last_row[\"recall\"]:.3f}, kappa: {last_row[\"cohens_kappa\"]:.3f}, time: {time() - tic:.2f}s)')      \n",
    "\n",
    "            if (epoch) % 10 == 0:\n",
    "                torch.save(model.state_dict(), os.path.join(CHECKPOINT_DIR, f\"{mode.name.lower()}_{epoch}_ckpt.pth\")) \n",
    "    else:\n",
    "        tic = time()\n",
    "        torch.cuda.empty_cache()\n",
    "        loss = train(train_loader, model, optimizer, CE, scheduler, clip, epoch, epochs, is_cuda, mode, df_model, use_v2)\n",
    "\n",
    "        pb.set_description(f'Epoch (mode: {mode.name.lower().replace(\"_\", \" \"):>10}, lr: {optimizer.param_groups[0][\"lr\"]:.3e}, loss: {loss:.3e})')\n",
    "        \n",
    "        if (epoch) % 10 == 0:\n",
    "            torch.save(model.state_dict(), os.path.join(CHECKPOINT_DIR, f\"{epoch}_ckpt.pth\"))\n",
    "    \n",
    "if all_modes:\n",
    "    for mode, model, _, _, _, _ in model_iterator:\n",
    "        torch.save(model.state_dict(), os.path.join(CHECKPOINT_DIR, f\"{mode.name.lower()}_last_ckpt.pth\")) \n",
    "        print(f\"model saved {os.path.join(CHECKPOINT_DIR, f'last_ckpt.pth')}!\")\n",
    "else:\n",
    "    torch.save(model.state_dict(), os.path.join(CHECKPOINT_DIR, f\"last_ckpt.pth\"))\n",
    "    print(f\"model saved {os.path.join(CHECKPOINT_DIR, f'last_ckpt.pth')}!\")\n",
    "    checkpoint = os.path.join(CHECKPOINT_DIR, f\"last_ckpt.pth\")\n",
    "\n",
    "df_model.to_parquet('ModelAnalysis.parquet.gzip', compression='gzip') "
   ]
  },
  {
   "cell_type": "code",
   "execution_count": null,
   "metadata": {},
   "outputs": [
    {
     "data": {
      "text/html": [
       "<div>\n",
       "<style scoped>\n",
       "    .dataframe tbody tr th:only-of-type {\n",
       "        vertical-align: middle;\n",
       "    }\n",
       "\n",
       "    .dataframe tbody tr th {\n",
       "        vertical-align: top;\n",
       "    }\n",
       "\n",
       "    .dataframe thead th {\n",
       "        text-align: right;\n",
       "    }\n",
       "</style>\n",
       "<table border=\"1\" class=\"dataframe\">\n",
       "  <thead>\n",
       "    <tr style=\"text-align: right;\">\n",
       "      <th></th>\n",
       "      <th>epoch</th>\n",
       "      <th>iteration</th>\n",
       "      <th>joint_id</th>\n",
       "      <th>gts</th>\n",
       "      <th>preds</th>\n",
       "      <th>confidences</th>\n",
       "      <th>Avg loss</th>\n",
       "      <th>loss</th>\n",
       "      <th>accuracy</th>\n",
       "      <th>tp</th>\n",
       "      <th>...</th>\n",
       "      <th>precision</th>\n",
       "      <th>recall</th>\n",
       "      <th>f1</th>\n",
       "      <th>cohens_kappa</th>\n",
       "      <th>learning_rate</th>\n",
       "      <th>train_test</th>\n",
       "      <th>exercise</th>\n",
       "      <th>simplified</th>\n",
       "      <th>mode</th>\n",
       "      <th>use_v2</th>\n",
       "    </tr>\n",
       "  </thead>\n",
       "  <tbody>\n",
       "    <tr>\n",
       "      <th>0</th>\n",
       "      <td>1</td>\n",
       "      <td>1</td>\n",
       "      <td>0</td>\n",
       "      <td>[0.0, 0.0, 0.0]</td>\n",
       "      <td>[1.0, 1.0, 0.0]</td>\n",
       "      <td>[0.5121623277664185, 0.5606511831283569, 0.508...</td>\n",
       "      <td>0.140238</td>\n",
       "      <td>0.140238</td>\n",
       "      <td>0.333333</td>\n",
       "      <td>1.0</td>\n",
       "      <td>...</td>\n",
       "      <td>1.000000</td>\n",
       "      <td>0.333333</td>\n",
       "      <td>0.5</td>\n",
       "      <td>0.0</td>\n",
       "      <td>0.005000</td>\n",
       "      <td>train</td>\n",
       "      <td>E-2.03</td>\n",
       "      <td>True</td>\n",
       "      <td>full_body</td>\n",
       "      <td>True</td>\n",
       "    </tr>\n",
       "    <tr>\n",
       "      <th>1</th>\n",
       "      <td>1</td>\n",
       "      <td>2</td>\n",
       "      <td>0</td>\n",
       "      <td>[0.0, 0.0, 1.0]</td>\n",
       "      <td>[1.0, 1.0, 1.0]</td>\n",
       "      <td>[0.7705711722373962, 0.8028934001922607, 0.759...</td>\n",
       "      <td>0.708748</td>\n",
       "      <td>1.277259</td>\n",
       "      <td>0.333333</td>\n",
       "      <td>0.0</td>\n",
       "      <td>...</td>\n",
       "      <td>0.000000</td>\n",
       "      <td>0.000000</td>\n",
       "      <td>0.0</td>\n",
       "      <td>0.0</td>\n",
       "      <td>0.005000</td>\n",
       "      <td>train</td>\n",
       "      <td>E-0.00</td>\n",
       "      <td>True</td>\n",
       "      <td>full_body</td>\n",
       "      <td>True</td>\n",
       "    </tr>\n",
       "    <tr>\n",
       "      <th>2</th>\n",
       "      <td>1</td>\n",
       "      <td>3</td>\n",
       "      <td>0</td>\n",
       "      <td>[0.0, 1.0, 0.0]</td>\n",
       "      <td>[0.0, 0.0, 0.0]</td>\n",
       "      <td>[0.5, 0.5, 0.5]</td>\n",
       "      <td>0.472499</td>\n",
       "      <td>0.000000</td>\n",
       "      <td>0.666667</td>\n",
       "      <td>2.0</td>\n",
       "      <td>...</td>\n",
       "      <td>0.666667</td>\n",
       "      <td>1.000000</td>\n",
       "      <td>0.8</td>\n",
       "      <td>0.0</td>\n",
       "      <td>0.005000</td>\n",
       "      <td>train</td>\n",
       "      <td>E-1.02</td>\n",
       "      <td>True</td>\n",
       "      <td>full_body</td>\n",
       "      <td>True</td>\n",
       "    </tr>\n",
       "    <tr>\n",
       "      <th>3</th>\n",
       "      <td>1</td>\n",
       "      <td>4</td>\n",
       "      <td>0</td>\n",
       "      <td>[1.0, 1.0, 0.0]</td>\n",
       "      <td>[0.0, 0.0, 0.0]</td>\n",
       "      <td>[0.5, 0.5, 0.5]</td>\n",
       "      <td>0.354374</td>\n",
       "      <td>0.000000</td>\n",
       "      <td>0.333333</td>\n",
       "      <td>1.0</td>\n",
       "      <td>...</td>\n",
       "      <td>0.333333</td>\n",
       "      <td>1.000000</td>\n",
       "      <td>0.5</td>\n",
       "      <td>0.0</td>\n",
       "      <td>0.005000</td>\n",
       "      <td>train</td>\n",
       "      <td>E-3.00</td>\n",
       "      <td>True</td>\n",
       "      <td>full_body</td>\n",
       "      <td>True</td>\n",
       "    </tr>\n",
       "    <tr>\n",
       "      <th>4</th>\n",
       "      <td>1</td>\n",
       "      <td>5</td>\n",
       "      <td>0</td>\n",
       "      <td>[0.0, 1.0, 0.0]</td>\n",
       "      <td>[0.0, 0.0, 0.0]</td>\n",
       "      <td>[0.5, 0.5, 0.5]</td>\n",
       "      <td>0.283499</td>\n",
       "      <td>0.000000</td>\n",
       "      <td>0.666667</td>\n",
       "      <td>2.0</td>\n",
       "      <td>...</td>\n",
       "      <td>0.666667</td>\n",
       "      <td>1.000000</td>\n",
       "      <td>0.8</td>\n",
       "      <td>0.0</td>\n",
       "      <td>0.005000</td>\n",
       "      <td>train</td>\n",
       "      <td>E-1.03</td>\n",
       "      <td>True</td>\n",
       "      <td>full_body</td>\n",
       "      <td>True</td>\n",
       "    </tr>\n",
       "    <tr>\n",
       "      <th>...</th>\n",
       "      <td>...</td>\n",
       "      <td>...</td>\n",
       "      <td>...</td>\n",
       "      <td>...</td>\n",
       "      <td>...</td>\n",
       "      <td>...</td>\n",
       "      <td>...</td>\n",
       "      <td>...</td>\n",
       "      <td>...</td>\n",
       "      <td>...</td>\n",
       "      <td>...</td>\n",
       "      <td>...</td>\n",
       "      <td>...</td>\n",
       "      <td>...</td>\n",
       "      <td>...</td>\n",
       "      <td>...</td>\n",
       "      <td>...</td>\n",
       "      <td>...</td>\n",
       "      <td>...</td>\n",
       "      <td>...</td>\n",
       "      <td>...</td>\n",
       "    </tr>\n",
       "    <tr>\n",
       "      <th>33453</th>\n",
       "      <td>5</td>\n",
       "      <td>134</td>\n",
       "      <td>0</td>\n",
       "      <td>[0.0, 0.0, 0.0]</td>\n",
       "      <td>[0.0, 0.0, 0.0]</td>\n",
       "      <td>[0.5, 0.5, 0.5]</td>\n",
       "      <td>0.000000</td>\n",
       "      <td>0.000000</td>\n",
       "      <td>1.000000</td>\n",
       "      <td>3.0</td>\n",
       "      <td>...</td>\n",
       "      <td>1.000000</td>\n",
       "      <td>1.000000</td>\n",
       "      <td>1.0</td>\n",
       "      <td>NaN</td>\n",
       "      <td>0.004972</td>\n",
       "      <td>train</td>\n",
       "      <td>E-2.03</td>\n",
       "      <td>True</td>\n",
       "      <td>full_body</td>\n",
       "      <td>True</td>\n",
       "    </tr>\n",
       "    <tr>\n",
       "      <th>33454</th>\n",
       "      <td>5</td>\n",
       "      <td>135</td>\n",
       "      <td>0</td>\n",
       "      <td>[0.0, 0.0, 1.0]</td>\n",
       "      <td>[0.0, 0.0, 0.0]</td>\n",
       "      <td>[0.5, 0.5, 0.5]</td>\n",
       "      <td>0.000000</td>\n",
       "      <td>0.000000</td>\n",
       "      <td>0.666667</td>\n",
       "      <td>2.0</td>\n",
       "      <td>...</td>\n",
       "      <td>0.666667</td>\n",
       "      <td>1.000000</td>\n",
       "      <td>0.8</td>\n",
       "      <td>0.0</td>\n",
       "      <td>0.004972</td>\n",
       "      <td>train</td>\n",
       "      <td>E-2.02</td>\n",
       "      <td>True</td>\n",
       "      <td>full_body</td>\n",
       "      <td>True</td>\n",
       "    </tr>\n",
       "    <tr>\n",
       "      <th>33455</th>\n",
       "      <td>5</td>\n",
       "      <td>136</td>\n",
       "      <td>0</td>\n",
       "      <td>[0.0, 1.0, 0.0]</td>\n",
       "      <td>[0.0, 0.0, 0.0]</td>\n",
       "      <td>[0.5, 0.5, 0.5]</td>\n",
       "      <td>0.000000</td>\n",
       "      <td>0.000000</td>\n",
       "      <td>0.666667</td>\n",
       "      <td>2.0</td>\n",
       "      <td>...</td>\n",
       "      <td>0.666667</td>\n",
       "      <td>1.000000</td>\n",
       "      <td>0.8</td>\n",
       "      <td>0.0</td>\n",
       "      <td>0.004972</td>\n",
       "      <td>train</td>\n",
       "      <td>E-2.03</td>\n",
       "      <td>True</td>\n",
       "      <td>full_body</td>\n",
       "      <td>True</td>\n",
       "    </tr>\n",
       "    <tr>\n",
       "      <th>33456</th>\n",
       "      <td>5</td>\n",
       "      <td>137</td>\n",
       "      <td>0</td>\n",
       "      <td>[1.0, 1.0, 0.0]</td>\n",
       "      <td>[0.0, 0.0, 0.0]</td>\n",
       "      <td>[0.5, 0.5, 0.5]</td>\n",
       "      <td>0.000000</td>\n",
       "      <td>0.000000</td>\n",
       "      <td>0.333333</td>\n",
       "      <td>1.0</td>\n",
       "      <td>...</td>\n",
       "      <td>0.333333</td>\n",
       "      <td>1.000000</td>\n",
       "      <td>0.5</td>\n",
       "      <td>0.0</td>\n",
       "      <td>0.004972</td>\n",
       "      <td>train</td>\n",
       "      <td>E-2.00</td>\n",
       "      <td>True</td>\n",
       "      <td>full_body</td>\n",
       "      <td>True</td>\n",
       "    </tr>\n",
       "    <tr>\n",
       "      <th>33457</th>\n",
       "      <td>5</td>\n",
       "      <td>138</td>\n",
       "      <td>0</td>\n",
       "      <td>[0.0, 0.0, 1.0]</td>\n",
       "      <td>[0.0, 0.0, 0.0]</td>\n",
       "      <td>[0.5, 0.5, 0.5]</td>\n",
       "      <td>0.000000</td>\n",
       "      <td>0.000000</td>\n",
       "      <td>0.666667</td>\n",
       "      <td>2.0</td>\n",
       "      <td>...</td>\n",
       "      <td>0.666667</td>\n",
       "      <td>1.000000</td>\n",
       "      <td>0.8</td>\n",
       "      <td>0.0</td>\n",
       "      <td>0.004971</td>\n",
       "      <td>train</td>\n",
       "      <td>E-1.02</td>\n",
       "      <td>True</td>\n",
       "      <td>full_body</td>\n",
       "      <td>True</td>\n",
       "    </tr>\n",
       "  </tbody>\n",
       "</table>\n",
       "<p>33458 rows × 23 columns</p>\n",
       "</div>"
      ],
      "text/plain": [
       "       epoch  iteration  joint_id              gts            preds  \\\n",
       "0          1          1         0  [0.0, 0.0, 0.0]  [1.0, 1.0, 0.0]   \n",
       "1          1          2         0  [0.0, 0.0, 1.0]  [1.0, 1.0, 1.0]   \n",
       "2          1          3         0  [0.0, 1.0, 0.0]  [0.0, 0.0, 0.0]   \n",
       "3          1          4         0  [1.0, 1.0, 0.0]  [0.0, 0.0, 0.0]   \n",
       "4          1          5         0  [0.0, 1.0, 0.0]  [0.0, 0.0, 0.0]   \n",
       "...      ...        ...       ...              ...              ...   \n",
       "33453      5        134         0  [0.0, 0.0, 0.0]  [0.0, 0.0, 0.0]   \n",
       "33454      5        135         0  [0.0, 0.0, 1.0]  [0.0, 0.0, 0.0]   \n",
       "33455      5        136         0  [0.0, 1.0, 0.0]  [0.0, 0.0, 0.0]   \n",
       "33456      5        137         0  [1.0, 1.0, 0.0]  [0.0, 0.0, 0.0]   \n",
       "33457      5        138         0  [0.0, 0.0, 1.0]  [0.0, 0.0, 0.0]   \n",
       "\n",
       "                                             confidences  Avg loss      loss  \\\n",
       "0      [0.5121623277664185, 0.5606511831283569, 0.508...  0.140238  0.140238   \n",
       "1      [0.7705711722373962, 0.8028934001922607, 0.759...  0.708748  1.277259   \n",
       "2                                        [0.5, 0.5, 0.5]  0.472499  0.000000   \n",
       "3                                        [0.5, 0.5, 0.5]  0.354374  0.000000   \n",
       "4                                        [0.5, 0.5, 0.5]  0.283499  0.000000   \n",
       "...                                                  ...       ...       ...   \n",
       "33453                                    [0.5, 0.5, 0.5]  0.000000  0.000000   \n",
       "33454                                    [0.5, 0.5, 0.5]  0.000000  0.000000   \n",
       "33455                                    [0.5, 0.5, 0.5]  0.000000  0.000000   \n",
       "33456                                    [0.5, 0.5, 0.5]  0.000000  0.000000   \n",
       "33457                                    [0.5, 0.5, 0.5]  0.000000  0.000000   \n",
       "\n",
       "       accuracy   tp  ...  precision    recall   f1  cohens_kappa  \\\n",
       "0      0.333333  1.0  ...   1.000000  0.333333  0.5           0.0   \n",
       "1      0.333333  0.0  ...   0.000000  0.000000  0.0           0.0   \n",
       "2      0.666667  2.0  ...   0.666667  1.000000  0.8           0.0   \n",
       "3      0.333333  1.0  ...   0.333333  1.000000  0.5           0.0   \n",
       "4      0.666667  2.0  ...   0.666667  1.000000  0.8           0.0   \n",
       "...         ...  ...  ...        ...       ...  ...           ...   \n",
       "33453  1.000000  3.0  ...   1.000000  1.000000  1.0           NaN   \n",
       "33454  0.666667  2.0  ...   0.666667  1.000000  0.8           0.0   \n",
       "33455  0.666667  2.0  ...   0.666667  1.000000  0.8           0.0   \n",
       "33456  0.333333  1.0  ...   0.333333  1.000000  0.5           0.0   \n",
       "33457  0.666667  2.0  ...   0.666667  1.000000  0.8           0.0   \n",
       "\n",
       "       learning_rate  train_test  exercise  simplified       mode use_v2  \n",
       "0           0.005000       train    E-2.03        True  full_body   True  \n",
       "1           0.005000       train    E-0.00        True  full_body   True  \n",
       "2           0.005000       train    E-1.02        True  full_body   True  \n",
       "3           0.005000       train    E-3.00        True  full_body   True  \n",
       "4           0.005000       train    E-1.03        True  full_body   True  \n",
       "...              ...         ...       ...         ...        ...    ...  \n",
       "33453       0.004972       train    E-2.03        True  full_body   True  \n",
       "33454       0.004972       train    E-2.02        True  full_body   True  \n",
       "33455       0.004972       train    E-2.03        True  full_body   True  \n",
       "33456       0.004972       train    E-2.00        True  full_body   True  \n",
       "33457       0.004971       train    E-1.02        True  full_body   True  \n",
       "\n",
       "[33458 rows x 23 columns]"
      ]
     },
     "execution_count": 29,
     "metadata": {},
     "output_type": "execute_result"
    }
   ],
   "source": [
    "df_model"
   ]
  },
  {
   "attachments": {},
   "cell_type": "markdown",
   "metadata": {},
   "source": [
    "### Test Model"
   ]
  },
  {
   "cell_type": "code",
   "execution_count": 13,
   "metadata": {},
   "outputs": [
    {
     "ename": "ImportError",
     "evalue": "Unable to find a usable engine; tried using: 'pyarrow', 'fastparquet'.\nA suitable version of pyarrow or fastparquet is required for parquet support.\nTrying to import the above resulted in these errors:\n - Missing optional dependency 'pyarrow'. pyarrow is required for parquet support. Use pip or conda to install pyarrow.\n - Missing optional dependency 'fastparquet'. fastparquet is required for parquet support. Use pip or conda to install fastparquet.",
     "output_type": "error",
     "traceback": [
      "\u001b[1;31m---------------------------------------------------------------------------\u001b[0m",
      "\u001b[1;31mImportError\u001b[0m                               Traceback (most recent call last)",
      "Cell \u001b[1;32mIn[13], line 7\u001b[0m\n\u001b[0;32m      4\u001b[0m \u001b[39melse\u001b[39;00m: \n\u001b[0;32m      5\u001b[0m   test(test_loader, model, CE, is_cuda, mode, df_model, use_v2)\n\u001b[1;32m----> 7\u001b[0m df_model\u001b[39m.\u001b[39;49mto_parquet(\u001b[39m'\u001b[39;49m\u001b[39mModelAnalysis.parquet.gzip\u001b[39;49m\u001b[39m'\u001b[39;49m, compression\u001b[39m=\u001b[39;49m\u001b[39m'\u001b[39;49m\u001b[39mgzip\u001b[39;49m\u001b[39m'\u001b[39;49m) \n",
      "File \u001b[1;32mh:\\FESD\\FESDModel\\.env\\lib\\site-packages\\pandas\\util\\_decorators.py:211\u001b[0m, in \u001b[0;36mdeprecate_kwarg.<locals>._deprecate_kwarg.<locals>.wrapper\u001b[1;34m(*args, **kwargs)\u001b[0m\n\u001b[0;32m    209\u001b[0m     \u001b[39melse\u001b[39;00m:\n\u001b[0;32m    210\u001b[0m         kwargs[new_arg_name] \u001b[39m=\u001b[39m new_arg_value\n\u001b[1;32m--> 211\u001b[0m \u001b[39mreturn\u001b[39;00m func(\u001b[39m*\u001b[39margs, \u001b[39m*\u001b[39m\u001b[39m*\u001b[39mkwargs)\n",
      "File \u001b[1;32mh:\\FESD\\FESDModel\\.env\\lib\\site-packages\\pandas\\core\\frame.py:2976\u001b[0m, in \u001b[0;36mDataFrame.to_parquet\u001b[1;34m(self, path, engine, compression, index, partition_cols, storage_options, **kwargs)\u001b[0m\n\u001b[0;32m   2889\u001b[0m \u001b[39m\u001b[39m\u001b[39m\"\"\"\u001b[39;00m\n\u001b[0;32m   2890\u001b[0m \u001b[39mWrite a DataFrame to the binary parquet format.\u001b[39;00m\n\u001b[0;32m   2891\u001b[0m \n\u001b[1;32m   (...)\u001b[0m\n\u001b[0;32m   2972\u001b[0m \u001b[39m>>> content = f.read()\u001b[39;00m\n\u001b[0;32m   2973\u001b[0m \u001b[39m\"\"\"\u001b[39;00m\n\u001b[0;32m   2974\u001b[0m \u001b[39mfrom\u001b[39;00m \u001b[39mpandas\u001b[39;00m\u001b[39m.\u001b[39;00m\u001b[39mio\u001b[39;00m\u001b[39m.\u001b[39;00m\u001b[39mparquet\u001b[39;00m \u001b[39mimport\u001b[39;00m to_parquet\n\u001b[1;32m-> 2976\u001b[0m \u001b[39mreturn\u001b[39;00m to_parquet(\n\u001b[0;32m   2977\u001b[0m     \u001b[39mself\u001b[39m,\n\u001b[0;32m   2978\u001b[0m     path,\n\u001b[0;32m   2979\u001b[0m     engine,\n\u001b[0;32m   2980\u001b[0m     compression\u001b[39m=\u001b[39mcompression,\n\u001b[0;32m   2981\u001b[0m     index\u001b[39m=\u001b[39mindex,\n\u001b[0;32m   2982\u001b[0m     partition_cols\u001b[39m=\u001b[39mpartition_cols,\n\u001b[0;32m   2983\u001b[0m     storage_options\u001b[39m=\u001b[39mstorage_options,\n\u001b[0;32m   2984\u001b[0m     \u001b[39m*\u001b[39m\u001b[39m*\u001b[39mkwargs,\n\u001b[0;32m   2985\u001b[0m )\n",
      "File \u001b[1;32mh:\\FESD\\FESDModel\\.env\\lib\\site-packages\\pandas\\io\\parquet.py:426\u001b[0m, in \u001b[0;36mto_parquet\u001b[1;34m(df, path, engine, compression, index, storage_options, partition_cols, **kwargs)\u001b[0m\n\u001b[0;32m    424\u001b[0m \u001b[39mif\u001b[39;00m \u001b[39misinstance\u001b[39m(partition_cols, \u001b[39mstr\u001b[39m):\n\u001b[0;32m    425\u001b[0m     partition_cols \u001b[39m=\u001b[39m [partition_cols]\n\u001b[1;32m--> 426\u001b[0m impl \u001b[39m=\u001b[39m get_engine(engine)\n\u001b[0;32m    428\u001b[0m path_or_buf: FilePath \u001b[39m|\u001b[39m WriteBuffer[\u001b[39mbytes\u001b[39m] \u001b[39m=\u001b[39m io\u001b[39m.\u001b[39mBytesIO() \u001b[39mif\u001b[39;00m path \u001b[39mis\u001b[39;00m \u001b[39mNone\u001b[39;00m \u001b[39melse\u001b[39;00m path\n\u001b[0;32m    430\u001b[0m impl\u001b[39m.\u001b[39mwrite(\n\u001b[0;32m    431\u001b[0m     df,\n\u001b[0;32m    432\u001b[0m     path_or_buf,\n\u001b[1;32m   (...)\u001b[0m\n\u001b[0;32m    437\u001b[0m     \u001b[39m*\u001b[39m\u001b[39m*\u001b[39mkwargs,\n\u001b[0;32m    438\u001b[0m )\n",
      "File \u001b[1;32mh:\\FESD\\FESDModel\\.env\\lib\\site-packages\\pandas\\io\\parquet.py:52\u001b[0m, in \u001b[0;36mget_engine\u001b[1;34m(engine)\u001b[0m\n\u001b[0;32m     49\u001b[0m         \u001b[39mexcept\u001b[39;00m \u001b[39mImportError\u001b[39;00m \u001b[39mas\u001b[39;00m err:\n\u001b[0;32m     50\u001b[0m             error_msgs \u001b[39m+\u001b[39m\u001b[39m=\u001b[39m \u001b[39m\"\u001b[39m\u001b[39m\\n\u001b[39;00m\u001b[39m - \u001b[39m\u001b[39m\"\u001b[39m \u001b[39m+\u001b[39m \u001b[39mstr\u001b[39m(err)\n\u001b[1;32m---> 52\u001b[0m     \u001b[39mraise\u001b[39;00m \u001b[39mImportError\u001b[39;00m(\n\u001b[0;32m     53\u001b[0m         \u001b[39m\"\u001b[39m\u001b[39mUnable to find a usable engine; \u001b[39m\u001b[39m\"\u001b[39m\n\u001b[0;32m     54\u001b[0m         \u001b[39m\"\u001b[39m\u001b[39mtried using: \u001b[39m\u001b[39m'\u001b[39m\u001b[39mpyarrow\u001b[39m\u001b[39m'\u001b[39m\u001b[39m, \u001b[39m\u001b[39m'\u001b[39m\u001b[39mfastparquet\u001b[39m\u001b[39m'\u001b[39m\u001b[39m.\u001b[39m\u001b[39m\\n\u001b[39;00m\u001b[39m\"\u001b[39m\n\u001b[0;32m     55\u001b[0m         \u001b[39m\"\u001b[39m\u001b[39mA suitable version of \u001b[39m\u001b[39m\"\u001b[39m\n\u001b[0;32m     56\u001b[0m         \u001b[39m\"\u001b[39m\u001b[39mpyarrow or fastparquet is required for parquet \u001b[39m\u001b[39m\"\u001b[39m\n\u001b[0;32m     57\u001b[0m         \u001b[39m\"\u001b[39m\u001b[39msupport.\u001b[39m\u001b[39m\\n\u001b[39;00m\u001b[39m\"\u001b[39m\n\u001b[0;32m     58\u001b[0m         \u001b[39m\"\u001b[39m\u001b[39mTrying to import the above resulted in these errors:\u001b[39m\u001b[39m\"\u001b[39m\n\u001b[0;32m     59\u001b[0m         \u001b[39mf\u001b[39m\u001b[39m\"\u001b[39m\u001b[39m{\u001b[39;00merror_msgs\u001b[39m}\u001b[39;00m\u001b[39m\"\u001b[39m\n\u001b[0;32m     60\u001b[0m     )\n\u001b[0;32m     62\u001b[0m \u001b[39mif\u001b[39;00m engine \u001b[39m==\u001b[39m \u001b[39m\"\u001b[39m\u001b[39mpyarrow\u001b[39m\u001b[39m\"\u001b[39m:\n\u001b[0;32m     63\u001b[0m     \u001b[39mreturn\u001b[39;00m PyArrowImpl()\n",
      "\u001b[1;31mImportError\u001b[0m: Unable to find a usable engine; tried using: 'pyarrow', 'fastparquet'.\nA suitable version of pyarrow or fastparquet is required for parquet support.\nTrying to import the above resulted in these errors:\n - Missing optional dependency 'pyarrow'. pyarrow is required for parquet support. Use pip or conda to install pyarrow.\n - Missing optional dependency 'fastparquet'. fastparquet is required for parquet support. Use pip or conda to install fastparquet."
     ]
    }
   ],
   "source": [
    "if all_modes:\n",
    "  for mode, model, _, _, _, test_loader in model_iterator:\n",
    "    test(test_loader, model, CE, is_cuda, mode, df_model, use_v2)\n",
    "else: \n",
    "  test(test_loader, model, CE, is_cuda, mode, df_model, use_v2)\n",
    "  \n",
    "df_model.to_parquet('ModelAnalysis.parquet.gzip', compression='gzip') "
   ]
  },
  {
   "cell_type": "code",
   "execution_count": 14,
   "metadata": {},
   "outputs": [],
   "source": [
    "df_model.to_parquet('ModelAnalysis.parquet.gzip', compression='gzip') "
   ]
  }
 ],
 "metadata": {
  "kernelspec": {
   "display_name": "env",
   "language": "python",
   "name": "python3"
  },
  "language_info": {
   "codemirror_mode": {
    "name": "ipython",
    "version": 3
   },
   "file_extension": ".py",
   "mimetype": "text/x-python",
   "name": "python",
   "nbconvert_exporter": "python",
   "pygments_lexer": "ipython3",
   "version": "3.10.11"
  },
  "orig_nbformat": 4,
  "vscode": {
   "interpreter": {
    "hash": "223e9e27cbc670f5c22c33ebc1577b54f1cca48f7f6b973b1c50992e7fee7cdc"
   }
  }
 },
 "nbformat": 4,
 "nbformat_minor": 2
}
