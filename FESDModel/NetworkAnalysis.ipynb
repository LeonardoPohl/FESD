{
 "cells": [
  {
   "attachments": {},
   "cell_type": "markdown",
   "metadata": {},
   "source": [
    "# Network Analysis\n",
    "\n",
    "Comparing different pretrained models in terms of accuracy and performance"
   ]
  },
  {
   "cell_type": "code",
   "execution_count": null,
   "metadata": {},
   "outputs": [],
   "source": [
    "import pandas as pd\n",
    "import numpy as np\n",
    "import matplotlib.pyplot as plt\n",
    "import seaborn as sns\n",
    "from matplotlib.legend_handler import HandlerTuple\n",
    "sns.set()"
   ]
  },
  {
   "cell_type": "code",
   "execution_count": null,
   "metadata": {},
   "outputs": [],
   "source": [
    "df = pd.read_csv(\"networks.csv\")\n",
    "df[\"Weight\"] = df[\"Weight\"].apply(lambda x: x.split(\".\")[0].replace(\"_Weights\", \"\").replace(\"_\", \" \"))\n",
    "df = df[np.invert(df.duplicated(subset=\"Weight\"))]\n",
    "df.head()"
   ]
  },
  {
   "cell_type": "code",
   "execution_count": null,
   "metadata": {},
   "outputs": [],
   "source": [
    "best = df.nlargest(10, \"Acc@1\").nsmallest(5, \"GFLOPS\")\n",
    "best[\"Params\"] = best[\"Params\"].astype('int64') \n",
    "best"
   ]
  },
  {
   "cell_type": "code",
   "execution_count": null,
   "metadata": {},
   "outputs": [],
   "source": [
    "best.to_latex(index=False, float_format=\"{:.3f}\".format, escape=False)"
   ]
  },
  {
   "cell_type": "code",
   "execution_count": null,
   "metadata": {},
   "outputs": [],
   "source": [
    "noi = df.nlargest(10, \"Acc@5\").nsmallest(5, \"GFLOPS\")[\"Weight\"].tolist()\n",
    "noi.append(\"ResNet50\")\n",
    "noi.append(\"AlexNet\")\n",
    "noi.append(\"Inception V3\")\n",
    "noi"
   ]
  },
  {
   "cell_type": "code",
   "execution_count": null,
   "metadata": {},
   "outputs": [],
   "source": [
    "fig, ax = plt.subplots(figsize=(10, 5))\n",
    "\n",
    "first = True\n",
    "\n",
    "scatter_best = []\n",
    "scatter_rest = []\n",
    "\n",
    "col_id = 2\n",
    "\n",
    "labels = []\n",
    "\n",
    "for idx, row in df.iterrows():\n",
    "    if not row[\"Weight\"] in noi:\n",
    "        if first:\n",
    "            a = ax.scatter(row['GFLOPS'], row['Acc@1'], marker='^', edgecolors =\"black\", color=\"None\", linewidth=0.3, label=\"Accuracy top 1\", s=1)\n",
    "            b = ax.scatter(row['GFLOPS'], row['Acc@5'], marker='v', edgecolors =\"black\", color=\"None\", linewidth=0.3, label=\"Accuracy top 5\", s=1)\n",
    "            labels.append(\"Accuracy top 1\")\n",
    "            labels.append(\"Accuracy top 5\")\n",
    "            scatter_rest = [a,b]\n",
    "            first = False\n",
    "            \n",
    "        ax.scatter(row['GFLOPS'], row['Acc@1'], marker='^', edgecolors =\"black\", color=\"None\", linewidth=0.3, s=20)\n",
    "        ax.scatter(row['GFLOPS'], row['Acc@5'], marker='v', edgecolors =\"black\", color=\"None\", linewidth=0.3, s=20)\n",
    "\n",
    "for idx, row in df.iterrows():\n",
    "    if row[\"Weight\"] == noi[0]:\n",
    "        a = ax.scatter(row['GFLOPS'], row['Acc@1'], marker='^', label=row[\"Weight\"], color=f\"C{col_id}\", edgecolors=\"black\", s=1)\n",
    "        b = ax.scatter(row['GFLOPS'], row['Acc@5'], marker='v', label=row[\"Weight\"], color=f\"C{col_id}\", edgecolors=\"black\", s=1)\n",
    "        ax.scatter(row['GFLOPS'], row['Acc@1'], marker='^', label=row[\"Weight\"], color=f\"C{col_id}\", edgecolors=\"black\", s=100)\n",
    "        ax.scatter(row['GFLOPS'], row['Acc@5'], marker='v', label=row[\"Weight\"], color=f\"C{col_id}\", edgecolors=\"black\", s=100)\n",
    "        labels.append(row[\"Weight\"])\n",
    "        scatter_best.append((a, b))\n",
    "        col_id += 1\n",
    "    elif row[\"Weight\"] in noi:\n",
    "        # line = ax.scatter(row['GFLOPS'], row['Acc@1'], marker='.', label=row[\"Weight\"], color=f\"C{col_id}\", s=1)\n",
    "        ax.scatter(row['GFLOPS'], row['Acc@1'], marker='^', label=row[\"Weight\"], color=f\"C{col_id}\", s=100)\n",
    "        ax.scatter(row['GFLOPS'], row['Acc@5'], marker='v', label=row[\"Weight\"], color=f\"C{col_id}\", s=100)\n",
    "        a = ax.scatter(row['GFLOPS'], row['Acc@1'], marker='^', label=row[\"Weight\"], color=f\"C{col_id}\", s=1)\n",
    "        b = ax.scatter(row['GFLOPS'], row['Acc@5'], marker='v', label=row[\"Weight\"], color=f\"C{col_id}\", s=1)\n",
    "        labels.append(row[\"Weight\"])\n",
    "        scatter_best.append((a, b))\n",
    "        col_id += 1\n",
    "\n",
    "scatter = scatter_rest + scatter_best\n",
    "ax.set_xscale(\"log\")\n",
    "ax.set_title(\"Accuracy vs. GFLOPS\")\n",
    "ax.legend(handles=scatter, labels=labels, ncols=2, markerscale=10, handler_map={tuple: HandlerTuple(ndivide=None)})\n",
    "ax.set_xlabel(\"GFLOPS\")\n",
    "ax.set_ylabel(\"Accuracy\")\n",
    "\n",
    "plt.savefig(\"figures/network/networks.png\", dpi=300, bbox_inches='tight')\n",
    "plt.show()"
   ]
  }
 ],
 "metadata": {
  "kernelspec": {
   "display_name": ".env",
   "language": "python",
   "name": "python3"
  },
  "language_info": {
   "codemirror_mode": {
    "name": "ipython",
    "version": 3
   },
   "file_extension": ".py",
   "mimetype": "text/x-python",
   "name": "python",
   "nbconvert_exporter": "python",
   "pygments_lexer": "ipython3",
   "version": "3.10.11"
  },
  "orig_nbformat": 4
 },
 "nbformat": 4,
 "nbformat_minor": 2
}
