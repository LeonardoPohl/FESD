{
 "cells": [
  {
   "attachments": {},
   "cell_type": "markdown",
   "metadata": {},
   "source": [
    "# Network Analysis\n",
    "\n",
    "Comparing different pretrained models in terms of accuracy and performance"
   ]
  },
  {
   "cell_type": "code",
   "execution_count": 28,
   "metadata": {},
   "outputs": [],
   "source": [
    "import pandas as pd\n",
    "import numpy as np\n",
    "import matplotlib.pyplot as plt\n",
    "import seaborn as sns\n",
    "from matplotlib.legend_handler import HandlerTuple\n",
    "sns.set()"
   ]
  },
  {
   "cell_type": "code",
   "execution_count": 2,
   "metadata": {},
   "outputs": [
    {
     "data": {
      "text/html": [
       "<div>\n",
       "<style scoped>\n",
       "    .dataframe tbody tr th:only-of-type {\n",
       "        vertical-align: middle;\n",
       "    }\n",
       "\n",
       "    .dataframe tbody tr th {\n",
       "        vertical-align: top;\n",
       "    }\n",
       "\n",
       "    .dataframe thead th {\n",
       "        text-align: right;\n",
       "    }\n",
       "</style>\n",
       "<table border=\"1\" class=\"dataframe\">\n",
       "  <thead>\n",
       "    <tr style=\"text-align: right;\">\n",
       "      <th></th>\n",
       "      <th>Weight</th>\n",
       "      <th>Acc@1</th>\n",
       "      <th>Acc@5</th>\n",
       "      <th>Params</th>\n",
       "      <th>GFLOPS</th>\n",
       "    </tr>\n",
       "  </thead>\n",
       "  <tbody>\n",
       "    <tr>\n",
       "      <th>0</th>\n",
       "      <td>AlexNet</td>\n",
       "      <td>56.522</td>\n",
       "      <td>79.066</td>\n",
       "      <td>61100000.0</td>\n",
       "      <td>0.71</td>\n",
       "    </tr>\n",
       "    <tr>\n",
       "      <th>1</th>\n",
       "      <td>ConvNeXt Base</td>\n",
       "      <td>84.062</td>\n",
       "      <td>96.870</td>\n",
       "      <td>88600000.0</td>\n",
       "      <td>15.36</td>\n",
       "    </tr>\n",
       "    <tr>\n",
       "      <th>2</th>\n",
       "      <td>ConvNeXt Large</td>\n",
       "      <td>84.414</td>\n",
       "      <td>96.976</td>\n",
       "      <td>197800000.0</td>\n",
       "      <td>34.36</td>\n",
       "    </tr>\n",
       "    <tr>\n",
       "      <th>3</th>\n",
       "      <td>ConvNeXt Small</td>\n",
       "      <td>83.616</td>\n",
       "      <td>96.650</td>\n",
       "      <td>50200000.0</td>\n",
       "      <td>8.68</td>\n",
       "    </tr>\n",
       "    <tr>\n",
       "      <th>4</th>\n",
       "      <td>ConvNeXt Tiny</td>\n",
       "      <td>82.520</td>\n",
       "      <td>96.146</td>\n",
       "      <td>28600000.0</td>\n",
       "      <td>4.46</td>\n",
       "    </tr>\n",
       "  </tbody>\n",
       "</table>\n",
       "</div>"
      ],
      "text/plain": [
       "           Weight   Acc@1   Acc@5       Params  GFLOPS\n",
       "0         AlexNet  56.522  79.066   61100000.0    0.71\n",
       "1   ConvNeXt Base  84.062  96.870   88600000.0   15.36\n",
       "2  ConvNeXt Large  84.414  96.976  197800000.0   34.36\n",
       "3  ConvNeXt Small  83.616  96.650   50200000.0    8.68\n",
       "4   ConvNeXt Tiny  82.520  96.146   28600000.0    4.46"
      ]
     },
     "execution_count": 2,
     "metadata": {},
     "output_type": "execute_result"
    }
   ],
   "source": [
    "df = pd.read_csv(\"networks.csv\")\n",
    "df[\"Weight\"] = df[\"Weight\"].apply(lambda x: x.split(\".\")[0].replace(\"_Weights\", \"\").replace(\"_\", \" \"))\n",
    "df = df[np.invert(df.duplicated(subset=\"Weight\"))]\n",
    "df.head()"
   ]
  },
  {
   "cell_type": "code",
   "execution_count": 14,
   "metadata": {},
   "outputs": [
    {
     "data": {
      "text/html": [
       "<div>\n",
       "<style scoped>\n",
       "    .dataframe tbody tr th:only-of-type {\n",
       "        vertical-align: middle;\n",
       "    }\n",
       "\n",
       "    .dataframe tbody tr th {\n",
       "        vertical-align: top;\n",
       "    }\n",
       "\n",
       "    .dataframe thead th {\n",
       "        text-align: right;\n",
       "    }\n",
       "</style>\n",
       "<table border=\"1\" class=\"dataframe\">\n",
       "  <thead>\n",
       "    <tr style=\"text-align: right;\">\n",
       "      <th></th>\n",
       "      <th>Weight</th>\n",
       "      <th>Acc@1</th>\n",
       "      <th>Acc@5</th>\n",
       "      <th>Params</th>\n",
       "      <th>GFLOPS</th>\n",
       "    </tr>\n",
       "  </thead>\n",
       "  <tbody>\n",
       "    <tr>\n",
       "      <th>20</th>\n",
       "      <td>EfficientNet V2 S</td>\n",
       "      <td>84.228</td>\n",
       "      <td>96.878</td>\n",
       "      <td>21500000</td>\n",
       "      <td>8.37</td>\n",
       "    </tr>\n",
       "    <tr>\n",
       "      <th>1</th>\n",
       "      <td>ConvNeXt Base</td>\n",
       "      <td>84.062</td>\n",
       "      <td>96.870</td>\n",
       "      <td>88600000</td>\n",
       "      <td>15.36</td>\n",
       "    </tr>\n",
       "    <tr>\n",
       "      <th>16</th>\n",
       "      <td>EfficientNet B6</td>\n",
       "      <td>84.008</td>\n",
       "      <td>96.916</td>\n",
       "      <td>43000000</td>\n",
       "      <td>19.07</td>\n",
       "    </tr>\n",
       "    <tr>\n",
       "      <th>89</th>\n",
       "      <td>Swin V2 B</td>\n",
       "      <td>84.112</td>\n",
       "      <td>96.864</td>\n",
       "      <td>87900000</td>\n",
       "      <td>20.32</td>\n",
       "    </tr>\n",
       "    <tr>\n",
       "      <th>19</th>\n",
       "      <td>EfficientNet V2 M</td>\n",
       "      <td>85.112</td>\n",
       "      <td>97.156</td>\n",
       "      <td>54100000</td>\n",
       "      <td>24.58</td>\n",
       "    </tr>\n",
       "  </tbody>\n",
       "</table>\n",
       "</div>"
      ],
      "text/plain": [
       "               Weight   Acc@1   Acc@5    Params  GFLOPS\n",
       "20  EfficientNet V2 S  84.228  96.878  21500000    8.37\n",
       "1       ConvNeXt Base  84.062  96.870  88600000   15.36\n",
       "16    EfficientNet B6  84.008  96.916  43000000   19.07\n",
       "89          Swin V2 B  84.112  96.864  87900000   20.32\n",
       "19  EfficientNet V2 M  85.112  97.156  54100000   24.58"
      ]
     },
     "execution_count": 14,
     "metadata": {},
     "output_type": "execute_result"
    }
   ],
   "source": [
    "best = df.nlargest(10, \"Acc@1\").nsmallest(5, \"GFLOPS\")\n",
    "best[\"Params\"] = best[\"Params\"].astype('int64') \n",
    "best"
   ]
  },
  {
   "cell_type": "code",
   "execution_count": 15,
   "metadata": {},
   "outputs": [
    {
     "name": "stderr",
     "output_type": "stream",
     "text": [
      "C:\\Users\\leona\\AppData\\Local\\Temp\\ipykernel_4104\\563268228.py:1: FutureWarning: In future versions `DataFrame.to_latex` is expected to utilise the base implementation of `Styler.to_latex` for formatting and rendering. The arguments signature may therefore change. It is recommended instead to use `DataFrame.style.to_latex` which also contains additional functionality.\n",
      "  best.to_latex(index=False, float_format=\"{:.3f}\".format, escape=False)\n"
     ]
    },
    {
     "data": {
      "text/plain": [
       "'\\\\begin{tabular}{lrrrr}\\n\\\\toprule\\n           Weight &  Acc@1 &  Acc@5 &   Params &  GFLOPS \\\\\\\\\\n\\\\midrule\\nEfficientNet V2 S & 84.228 & 96.878 & 21500000 &   8.370 \\\\\\\\\\n    ConvNeXt Base & 84.062 & 96.870 & 88600000 &  15.360 \\\\\\\\\\n  EfficientNet B6 & 84.008 & 96.916 & 43000000 &  19.070 \\\\\\\\\\n        Swin V2 B & 84.112 & 96.864 & 87900000 &  20.320 \\\\\\\\\\nEfficientNet V2 M & 85.112 & 97.156 & 54100000 &  24.580 \\\\\\\\\\n\\\\bottomrule\\n\\\\end{tabular}\\n'"
      ]
     },
     "execution_count": 15,
     "metadata": {},
     "output_type": "execute_result"
    }
   ],
   "source": [
    "best.to_latex(index=False, float_format=\"{:.3f}\".format, escape=False)"
   ]
  },
  {
   "cell_type": "code",
   "execution_count": 4,
   "metadata": {},
   "outputs": [
    {
     "data": {
      "text/plain": [
       "['EfficientNet V2 S',\n",
       " 'ConvNeXt Base',\n",
       " 'EfficientNet B6',\n",
       " 'Swin V2 B',\n",
       " 'EfficientNet V2 M',\n",
       " 'ResNet50',\n",
       " 'AlexNet',\n",
       " 'Inception V3']"
      ]
     },
     "execution_count": 4,
     "metadata": {},
     "output_type": "execute_result"
    }
   ],
   "source": [
    "noi = df.nlargest(10, \"Acc@5\").nsmallest(5, \"GFLOPS\")[\"Weight\"].tolist()\n",
    "noi.append(\"ResNet50\")\n",
    "noi.append(\"AlexNet\")\n",
    "noi.append(\"Inception V3\")\n",
    "noi"
   ]
  },
  {
   "cell_type": "code",
   "execution_count": 34,
   "metadata": {},
   "outputs": [
    {
     "data": {
      "image/png": "[encoded data removed]",
      "text/plain": [
       "<Figure size 1000x500 with 1 Axes>"
      ]
     },
     "metadata": {},
     "output_type": "display_data"
    }
   ],
   "source": [
    "fig, ax = plt.subplots(figsize=(10, 5))\n",
    "\n",
    "first = True\n",
    "\n",
    "scatter_best = []\n",
    "scatter_rest = []\n",
    "\n",
    "col_id = 2\n",
    "\n",
    "labels = []\n",
    "\n",
    "for idx, row in df.iterrows():\n",
    "    if not row[\"Weight\"] in noi:\n",
    "        if first:\n",
    "            a = ax.scatter(row['GFLOPS'], row['Acc@1'], marker='^', edgecolors =\"black\", color=\"None\", linewidth=0.3, label=\"Accuracy top 1\", s=1)\n",
    "            b = ax.scatter(row['GFLOPS'], row['Acc@5'], marker='v', edgecolors =\"black\", color=\"None\", linewidth=0.3, label=\"Accuracy top 5\", s=1)\n",
    "            labels.append(\"Accuracy top 1\")\n",
    "            labels.append(\"Accuracy top 5\")\n",
    "            scatter_rest = [a,b]\n",
    "            first = False\n",
    "            \n",
    "        ax.scatter(row['GFLOPS'], row['Acc@1'], marker='^', edgecolors =\"black\", color=\"None\", linewidth=0.3, s=20)\n",
    "        ax.scatter(row['GFLOPS'], row['Acc@5'], marker='v', edgecolors =\"black\", color=\"None\", linewidth=0.3, s=20)\n",
    "\n",
    "for idx, row in df.iterrows():\n",
    "    if row[\"Weight\"] in noi:\n",
    "        # line = ax.scatter(row['GFLOPS'], row['Acc@1'], marker='.', label=row[\"Weight\"], color=f\"C{col_id}\", s=1)\n",
    "        ax.scatter(row['GFLOPS'], row['Acc@1'], marker='^', label=row[\"Weight\"], color=f\"C{col_id}\", s=100)\n",
    "        ax.scatter(row['GFLOPS'], row['Acc@5'], marker='v', label=row[\"Weight\"], color=f\"C{col_id}\", s=100)\n",
    "        a = ax.scatter(row['GFLOPS'], row['Acc@1'], marker='^', label=row[\"Weight\"], color=f\"C{col_id}\", s=1)\n",
    "        b = ax.scatter(row['GFLOPS'], row['Acc@5'], marker='v', label=row[\"Weight\"], color=f\"C{col_id}\", s=1)\n",
    "        labels.append(row[\"Weight\"])\n",
    "        scatter_best.append((a, b))\n",
    "        col_id += 1\n",
    "\n",
    "scatter = scatter_rest + scatter_best\n",
    "ax.set_xscale(\"log\")\n",
    "ax.set_title(\"Accuracy vs. GFLOPS\")\n",
    "ax.legend(handles=scatter, labels=labels, ncols=2, markerscale=10, handler_map={tuple: HandlerTuple(ndivide=None)})\n",
    "ax.set_xlabel(\"GFLOPS\")\n",
    "ax.set_ylabel(\"Accuracy\")\n",
    "\n",
    "plt.savefig(\"figures/network/networks.png\")\n",
    "plt.show()"
   ]
  }
 ],
 "metadata": {
  "kernelspec": {
   "display_name": ".env",
   "language": "python",
   "name": "python3"
  },
  "language_info": {
   "codemirror_mode": {
    "name": "ipython",
    "version": 3
   },
   "file_extension": ".py",
   "mimetype": "text/x-python",
   "name": "python",
   "nbconvert_exporter": "python",
   "pygments_lexer": "ipython3",
   "version": "3.10.11"
  },
  "orig_nbformat": 4
 },
 "nbformat": 4,
 "nbformat_minor": 2
}
